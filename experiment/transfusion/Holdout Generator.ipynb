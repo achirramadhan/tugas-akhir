{
 "cells": [
  {
   "cell_type": "code",
   "execution_count": 1,
   "metadata": {
    "execution": {
     "iopub.execute_input": "2020-11-08T20:27:04.744662Z",
     "iopub.status.busy": "2020-11-08T20:27:04.744340Z",
     "iopub.status.idle": "2020-11-08T20:27:05.186597Z",
     "shell.execute_reply": "2020-11-08T20:27:05.185837Z",
     "shell.execute_reply.started": "2020-11-08T20:27:04.744628Z"
    }
   },
   "outputs": [],
   "source": [
    "import pandas as pd\n",
    "import numpy as np"
   ]
  },
  {
   "cell_type": "code",
   "execution_count": 2,
   "metadata": {
    "execution": {
     "iopub.execute_input": "2020-11-08T20:27:05.188032Z",
     "iopub.status.busy": "2020-11-08T20:27:05.187765Z",
     "iopub.status.idle": "2020-11-08T20:27:05.191117Z",
     "shell.execute_reply": "2020-11-08T20:27:05.190328Z",
     "shell.execute_reply.started": "2020-11-08T20:27:05.188006Z"
    }
   },
   "outputs": [],
   "source": [
    "dir = \"/root/skripsi/experiment/datasets/\"\n",
    "holdout_dir = \"holdout/\""
   ]
  },
  {
   "cell_type": "code",
   "execution_count": 3,
   "metadata": {
    "execution": {
     "iopub.execute_input": "2020-11-08T20:27:05.192634Z",
     "iopub.status.busy": "2020-11-08T20:27:05.192384Z",
     "iopub.status.idle": "2020-11-08T20:27:05.202954Z",
     "shell.execute_reply": "2020-11-08T20:27:05.202231Z",
     "shell.execute_reply.started": "2020-11-08T20:27:05.192610Z"
    }
   },
   "outputs": [],
   "source": [
    "df = pd.read_csv(dir + \"transfusion/transfusion.data\").sample(frac=1)"
   ]
  },
  {
   "cell_type": "code",
   "execution_count": 4,
   "metadata": {
    "execution": {
     "iopub.execute_input": "2020-11-08T20:27:05.204405Z",
     "iopub.status.busy": "2020-11-08T20:27:05.204137Z",
     "iopub.status.idle": "2020-11-08T20:27:05.221860Z",
     "shell.execute_reply": "2020-11-08T20:27:05.221165Z",
     "shell.execute_reply.started": "2020-11-08T20:27:05.204374Z"
    }
   },
   "outputs": [
    {
     "data": {
      "text/html": [
       "<div>\n",
       "<style scoped>\n",
       "    .dataframe tbody tr th:only-of-type {\n",
       "        vertical-align: middle;\n",
       "    }\n",
       "\n",
       "    .dataframe tbody tr th {\n",
       "        vertical-align: top;\n",
       "    }\n",
       "\n",
       "    .dataframe thead th {\n",
       "        text-align: right;\n",
       "    }\n",
       "</style>\n",
       "<table border=\"1\" class=\"dataframe\">\n",
       "  <thead>\n",
       "    <tr style=\"text-align: right;\">\n",
       "      <th></th>\n",
       "      <th>Recency (months)</th>\n",
       "      <th>Frequency (times)</th>\n",
       "      <th>Monetary (c.c. blood)</th>\n",
       "      <th>Time (months)</th>\n",
       "      <th>whether he/she donated blood in March 2007</th>\n",
       "    </tr>\n",
       "  </thead>\n",
       "  <tbody>\n",
       "    <tr>\n",
       "      <th>159</th>\n",
       "      <td>2</td>\n",
       "      <td>1</td>\n",
       "      <td>250</td>\n",
       "      <td>2</td>\n",
       "      <td>0</td>\n",
       "    </tr>\n",
       "    <tr>\n",
       "      <th>41</th>\n",
       "      <td>2</td>\n",
       "      <td>5</td>\n",
       "      <td>1250</td>\n",
       "      <td>16</td>\n",
       "      <td>0</td>\n",
       "    </tr>\n",
       "    <tr>\n",
       "      <th>459</th>\n",
       "      <td>21</td>\n",
       "      <td>1</td>\n",
       "      <td>250</td>\n",
       "      <td>21</td>\n",
       "      <td>0</td>\n",
       "    </tr>\n",
       "    <tr>\n",
       "      <th>547</th>\n",
       "      <td>2</td>\n",
       "      <td>3</td>\n",
       "      <td>750</td>\n",
       "      <td>11</td>\n",
       "      <td>0</td>\n",
       "    </tr>\n",
       "    <tr>\n",
       "      <th>180</th>\n",
       "      <td>4</td>\n",
       "      <td>4</td>\n",
       "      <td>1000</td>\n",
       "      <td>26</td>\n",
       "      <td>1</td>\n",
       "    </tr>\n",
       "  </tbody>\n",
       "</table>\n",
       "</div>"
      ],
      "text/plain": [
       "     Recency (months)  Frequency (times)  Monetary (c.c. blood)  \\\n",
       "159                 2                  1                    250   \n",
       "41                  2                  5                   1250   \n",
       "459                21                  1                    250   \n",
       "547                 2                  3                    750   \n",
       "180                 4                  4                   1000   \n",
       "\n",
       "     Time (months)  whether he/she donated blood in March 2007  \n",
       "159              2                                           0  \n",
       "41              16                                           0  \n",
       "459             21                                           0  \n",
       "547             11                                           0  \n",
       "180             26                                           1  "
      ]
     },
     "metadata": {},
     "output_type": "display_data"
    }
   ],
   "source": [
    "display(df.head())"
   ]
  },
  {
   "cell_type": "code",
   "execution_count": 5,
   "metadata": {
    "execution": {
     "iopub.execute_input": "2020-11-08T20:27:05.223236Z",
     "iopub.status.busy": "2020-11-08T20:27:05.222868Z",
     "iopub.status.idle": "2020-11-08T20:27:05.229017Z",
     "shell.execute_reply": "2020-11-08T20:27:05.228363Z",
     "shell.execute_reply.started": "2020-11-08T20:27:05.223209Z"
    }
   },
   "outputs": [
    {
     "data": {
      "text/plain": [
       "Recency (months)                              False\n",
       "Frequency (times)                             False\n",
       "Monetary (c.c. blood)                         False\n",
       "Time (months)                                 False\n",
       "whether he/she donated blood in March 2007    False\n",
       "dtype: bool"
      ]
     },
     "execution_count": 5,
     "metadata": {},
     "output_type": "execute_result"
    }
   ],
   "source": [
    "df.isnull().any()"
   ]
  },
  {
   "cell_type": "code",
   "execution_count": 6,
   "metadata": {
    "execution": {
     "iopub.execute_input": "2020-11-08T20:27:05.230198Z",
     "iopub.status.busy": "2020-11-08T20:27:05.229947Z",
     "iopub.status.idle": "2020-11-08T20:27:05.233602Z",
     "shell.execute_reply": "2020-11-08T20:27:05.232953Z",
     "shell.execute_reply.started": "2020-11-08T20:27:05.230173Z"
    }
   },
   "outputs": [],
   "source": [
    "df_np = df.values\n",
    "X = df_np[:, :-1]\n",
    "y = df_np[:, -1]"
   ]
  },
  {
   "cell_type": "code",
   "execution_count": 7,
   "metadata": {
    "execution": {
     "iopub.execute_input": "2020-11-08T20:27:05.234756Z",
     "iopub.status.busy": "2020-11-08T20:27:05.234500Z",
     "iopub.status.idle": "2020-11-08T20:27:05.237663Z",
     "shell.execute_reply": "2020-11-08T20:27:05.236997Z",
     "shell.execute_reply.started": "2020-11-08T20:27:05.234732Z"
    }
   },
   "outputs": [],
   "source": [
    "n_holdout = 10"
   ]
  },
  {
   "cell_type": "code",
   "execution_count": 8,
   "metadata": {
    "execution": {
     "iopub.execute_input": "2020-11-08T20:27:05.238817Z",
     "iopub.status.busy": "2020-11-08T20:27:05.238571Z",
     "iopub.status.idle": "2020-11-08T20:27:05.608190Z",
     "shell.execute_reply": "2020-11-08T20:27:05.607437Z",
     "shell.execute_reply.started": "2020-11-08T20:27:05.238793Z"
    }
   },
   "outputs": [],
   "source": [
    "from sklearn.model_selection import StratifiedKFold\n",
    "\n",
    "holdout_skf = StratifiedKFold(n_splits=n_holdout)\n",
    "for i, (train_id, test_id) in enumerate(holdout_skf.split(X, y)):\n",
    "    X_train = X[train_id]\n",
    "    y_train = y[train_id]\n",
    "    X_test = X[test_id]\n",
    "    y_test = y[test_id]\n",
    "    \n",
    "    data_train = np.hstack([X_train, np.expand_dims(y_train, axis=-1)])\n",
    "    data_test = np.hstack([X_test, np.expand_dims(y_test, axis=-1)])\n",
    "    \n",
    "    df_train = pd.DataFrame(data_train)\n",
    "    df_test = pd.DataFrame(data_test)\n",
    "\n",
    "    df_train.to_csv(holdout_dir + (\"transfusion-%d-train.csv\" % i), index=False)\n",
    "    df_test.to_csv(holdout_dir + (\"transfusion-%d-test.csv\" % i), index=False)"
   ]
  }
 ],
 "metadata": {
  "kernelspec": {
   "display_name": "Python 3",
   "language": "python",
   "name": "python3"
  },
  "language_info": {
   "codemirror_mode": {
    "name": "ipython",
    "version": 3
   },
   "file_extension": ".py",
   "mimetype": "text/x-python",
   "name": "python",
   "nbconvert_exporter": "python",
   "pygments_lexer": "ipython3",
   "version": "3.6.9"
  }
 },
 "nbformat": 4,
 "nbformat_minor": 4
}
