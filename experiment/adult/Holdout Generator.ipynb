{
 "cells": [
  {
   "cell_type": "code",
   "execution_count": 1,
   "metadata": {
    "execution": {
     "iopub.execute_input": "2020-11-08T20:27:04.744662Z",
     "iopub.status.busy": "2020-11-08T20:27:04.744340Z",
     "iopub.status.idle": "2020-11-08T20:27:05.186597Z",
     "shell.execute_reply": "2020-11-08T20:27:05.185837Z",
     "shell.execute_reply.started": "2020-11-08T20:27:04.744628Z"
    }
   },
   "outputs": [],
   "source": [
    "import pandas as pd\n",
    "import numpy as np"
   ]
  },
  {
   "cell_type": "code",
   "execution_count": 2,
   "metadata": {
    "execution": {
     "iopub.execute_input": "2020-11-08T20:27:05.188032Z",
     "iopub.status.busy": "2020-11-08T20:27:05.187765Z",
     "iopub.status.idle": "2020-11-08T20:27:05.191117Z",
     "shell.execute_reply": "2020-11-08T20:27:05.190328Z",
     "shell.execute_reply.started": "2020-11-08T20:27:05.188006Z"
    }
   },
   "outputs": [],
   "source": [
    "dataset_dir = \"/root/skripsi/datasets/\"\n",
    "holdout_dir = \"holdout/\""
   ]
  },
  {
   "cell_type": "code",
   "execution_count": 3,
   "metadata": {
    "execution": {
     "iopub.execute_input": "2020-11-08T20:27:05.192634Z",
     "iopub.status.busy": "2020-11-08T20:27:05.192384Z",
     "iopub.status.idle": "2020-11-08T20:27:05.202954Z",
     "shell.execute_reply": "2020-11-08T20:27:05.202231Z",
     "shell.execute_reply.started": "2020-11-08T20:27:05.192610Z"
    }
   },
   "outputs": [],
   "source": [
    "df = pd.read_csv(dataset_dir + \"adult/adult.data\", header=None)"
   ]
  },
  {
   "cell_type": "code",
   "execution_count": 4,
   "metadata": {
    "execution": {
     "iopub.execute_input": "2020-11-08T20:27:05.204405Z",
     "iopub.status.busy": "2020-11-08T20:27:05.204137Z",
     "iopub.status.idle": "2020-11-08T20:27:05.221860Z",
     "shell.execute_reply": "2020-11-08T20:27:05.221165Z",
     "shell.execute_reply.started": "2020-11-08T20:27:05.204374Z"
    }
   },
   "outputs": [
    {
     "data": {
      "text/html": [
       "<div>\n",
       "<style scoped>\n",
       "    .dataframe tbody tr th:only-of-type {\n",
       "        vertical-align: middle;\n",
       "    }\n",
       "\n",
       "    .dataframe tbody tr th {\n",
       "        vertical-align: top;\n",
       "    }\n",
       "\n",
       "    .dataframe thead th {\n",
       "        text-align: right;\n",
       "    }\n",
       "</style>\n",
       "<table border=\"1\" class=\"dataframe\">\n",
       "  <thead>\n",
       "    <tr style=\"text-align: right;\">\n",
       "      <th></th>\n",
       "      <th>0</th>\n",
       "      <th>1</th>\n",
       "      <th>2</th>\n",
       "      <th>3</th>\n",
       "      <th>4</th>\n",
       "      <th>5</th>\n",
       "      <th>6</th>\n",
       "      <th>7</th>\n",
       "      <th>8</th>\n",
       "      <th>9</th>\n",
       "      <th>10</th>\n",
       "      <th>11</th>\n",
       "      <th>12</th>\n",
       "      <th>13</th>\n",
       "      <th>14</th>\n",
       "    </tr>\n",
       "  </thead>\n",
       "  <tbody>\n",
       "    <tr>\n",
       "      <th>0</th>\n",
       "      <td>39</td>\n",
       "      <td>State-gov</td>\n",
       "      <td>77516</td>\n",
       "      <td>Bachelors</td>\n",
       "      <td>13</td>\n",
       "      <td>Never-married</td>\n",
       "      <td>Adm-clerical</td>\n",
       "      <td>Not-in-family</td>\n",
       "      <td>White</td>\n",
       "      <td>Male</td>\n",
       "      <td>2174</td>\n",
       "      <td>0</td>\n",
       "      <td>40</td>\n",
       "      <td>United-States</td>\n",
       "      <td>&lt;=50K</td>\n",
       "    </tr>\n",
       "    <tr>\n",
       "      <th>1</th>\n",
       "      <td>50</td>\n",
       "      <td>Self-emp-not-inc</td>\n",
       "      <td>83311</td>\n",
       "      <td>Bachelors</td>\n",
       "      <td>13</td>\n",
       "      <td>Married-civ-spouse</td>\n",
       "      <td>Exec-managerial</td>\n",
       "      <td>Husband</td>\n",
       "      <td>White</td>\n",
       "      <td>Male</td>\n",
       "      <td>0</td>\n",
       "      <td>0</td>\n",
       "      <td>13</td>\n",
       "      <td>United-States</td>\n",
       "      <td>&lt;=50K</td>\n",
       "    </tr>\n",
       "    <tr>\n",
       "      <th>2</th>\n",
       "      <td>38</td>\n",
       "      <td>Private</td>\n",
       "      <td>215646</td>\n",
       "      <td>HS-grad</td>\n",
       "      <td>9</td>\n",
       "      <td>Divorced</td>\n",
       "      <td>Handlers-cleaners</td>\n",
       "      <td>Not-in-family</td>\n",
       "      <td>White</td>\n",
       "      <td>Male</td>\n",
       "      <td>0</td>\n",
       "      <td>0</td>\n",
       "      <td>40</td>\n",
       "      <td>United-States</td>\n",
       "      <td>&lt;=50K</td>\n",
       "    </tr>\n",
       "    <tr>\n",
       "      <th>3</th>\n",
       "      <td>53</td>\n",
       "      <td>Private</td>\n",
       "      <td>234721</td>\n",
       "      <td>11th</td>\n",
       "      <td>7</td>\n",
       "      <td>Married-civ-spouse</td>\n",
       "      <td>Handlers-cleaners</td>\n",
       "      <td>Husband</td>\n",
       "      <td>Black</td>\n",
       "      <td>Male</td>\n",
       "      <td>0</td>\n",
       "      <td>0</td>\n",
       "      <td>40</td>\n",
       "      <td>United-States</td>\n",
       "      <td>&lt;=50K</td>\n",
       "    </tr>\n",
       "    <tr>\n",
       "      <th>4</th>\n",
       "      <td>28</td>\n",
       "      <td>Private</td>\n",
       "      <td>338409</td>\n",
       "      <td>Bachelors</td>\n",
       "      <td>13</td>\n",
       "      <td>Married-civ-spouse</td>\n",
       "      <td>Prof-specialty</td>\n",
       "      <td>Wife</td>\n",
       "      <td>Black</td>\n",
       "      <td>Female</td>\n",
       "      <td>0</td>\n",
       "      <td>0</td>\n",
       "      <td>40</td>\n",
       "      <td>Cuba</td>\n",
       "      <td>&lt;=50K</td>\n",
       "    </tr>\n",
       "  </tbody>\n",
       "</table>\n",
       "</div>"
      ],
      "text/plain": [
       "   0                  1       2           3   4                    5   \\\n",
       "0  39          State-gov   77516   Bachelors  13        Never-married   \n",
       "1  50   Self-emp-not-inc   83311   Bachelors  13   Married-civ-spouse   \n",
       "2  38            Private  215646     HS-grad   9             Divorced   \n",
       "3  53            Private  234721        11th   7   Married-civ-spouse   \n",
       "4  28            Private  338409   Bachelors  13   Married-civ-spouse   \n",
       "\n",
       "                   6               7       8        9     10  11  12  \\\n",
       "0        Adm-clerical   Not-in-family   White     Male  2174   0  40   \n",
       "1     Exec-managerial         Husband   White     Male     0   0  13   \n",
       "2   Handlers-cleaners   Not-in-family   White     Male     0   0  40   \n",
       "3   Handlers-cleaners         Husband   Black     Male     0   0  40   \n",
       "4      Prof-specialty            Wife   Black   Female     0   0  40   \n",
       "\n",
       "               13      14  \n",
       "0   United-States   <=50K  \n",
       "1   United-States   <=50K  \n",
       "2   United-States   <=50K  \n",
       "3   United-States   <=50K  \n",
       "4            Cuba   <=50K  "
      ]
     },
     "metadata": {},
     "output_type": "display_data"
    }
   ],
   "source": [
    "pd.set_option('display.max_columns', None)\n",
    "display(df.head())"
   ]
  },
  {
   "cell_type": "code",
   "execution_count": 5,
   "metadata": {
    "execution": {
     "iopub.execute_input": "2020-11-08T20:27:05.223236Z",
     "iopub.status.busy": "2020-11-08T20:27:05.222868Z",
     "iopub.status.idle": "2020-11-08T20:27:05.229017Z",
     "shell.execute_reply": "2020-11-08T20:27:05.228363Z",
     "shell.execute_reply.started": "2020-11-08T20:27:05.223209Z"
    }
   },
   "outputs": [
    {
     "data": {
      "text/plain": [
       "0     False\n",
       "1     False\n",
       "2     False\n",
       "3     False\n",
       "4     False\n",
       "5     False\n",
       "6     False\n",
       "7     False\n",
       "8     False\n",
       "9     False\n",
       "10    False\n",
       "11    False\n",
       "12    False\n",
       "13    False\n",
       "14    False\n",
       "dtype: bool"
      ]
     },
     "execution_count": 5,
     "metadata": {},
     "output_type": "execute_result"
    }
   ],
   "source": [
    "df.isnull().any()"
   ]
  },
  {
   "cell_type": "code",
   "execution_count": 6,
   "metadata": {},
   "outputs": [
    {
     "data": {
      "text/html": [
       "<div>\n",
       "<style scoped>\n",
       "    .dataframe tbody tr th:only-of-type {\n",
       "        vertical-align: middle;\n",
       "    }\n",
       "\n",
       "    .dataframe tbody tr th {\n",
       "        vertical-align: top;\n",
       "    }\n",
       "\n",
       "    .dataframe thead th {\n",
       "        text-align: right;\n",
       "    }\n",
       "</style>\n",
       "<table border=\"1\" class=\"dataframe\">\n",
       "  <thead>\n",
       "    <tr style=\"text-align: right;\">\n",
       "      <th></th>\n",
       "      <th>0</th>\n",
       "      <th>2</th>\n",
       "      <th>4</th>\n",
       "      <th>10</th>\n",
       "      <th>11</th>\n",
       "      <th>12</th>\n",
       "    </tr>\n",
       "  </thead>\n",
       "  <tbody>\n",
       "    <tr>\n",
       "      <th>count</th>\n",
       "      <td>32561.000000</td>\n",
       "      <td>3.256100e+04</td>\n",
       "      <td>32561.000000</td>\n",
       "      <td>32561.000000</td>\n",
       "      <td>32561.000000</td>\n",
       "      <td>32561.000000</td>\n",
       "    </tr>\n",
       "    <tr>\n",
       "      <th>mean</th>\n",
       "      <td>38.581647</td>\n",
       "      <td>1.897784e+05</td>\n",
       "      <td>10.080679</td>\n",
       "      <td>1077.648844</td>\n",
       "      <td>87.303830</td>\n",
       "      <td>40.437456</td>\n",
       "    </tr>\n",
       "    <tr>\n",
       "      <th>std</th>\n",
       "      <td>13.640433</td>\n",
       "      <td>1.055500e+05</td>\n",
       "      <td>2.572720</td>\n",
       "      <td>7385.292085</td>\n",
       "      <td>402.960219</td>\n",
       "      <td>12.347429</td>\n",
       "    </tr>\n",
       "    <tr>\n",
       "      <th>min</th>\n",
       "      <td>17.000000</td>\n",
       "      <td>1.228500e+04</td>\n",
       "      <td>1.000000</td>\n",
       "      <td>0.000000</td>\n",
       "      <td>0.000000</td>\n",
       "      <td>1.000000</td>\n",
       "    </tr>\n",
       "    <tr>\n",
       "      <th>25%</th>\n",
       "      <td>28.000000</td>\n",
       "      <td>1.178270e+05</td>\n",
       "      <td>9.000000</td>\n",
       "      <td>0.000000</td>\n",
       "      <td>0.000000</td>\n",
       "      <td>40.000000</td>\n",
       "    </tr>\n",
       "    <tr>\n",
       "      <th>50%</th>\n",
       "      <td>37.000000</td>\n",
       "      <td>1.783560e+05</td>\n",
       "      <td>10.000000</td>\n",
       "      <td>0.000000</td>\n",
       "      <td>0.000000</td>\n",
       "      <td>40.000000</td>\n",
       "    </tr>\n",
       "    <tr>\n",
       "      <th>75%</th>\n",
       "      <td>48.000000</td>\n",
       "      <td>2.370510e+05</td>\n",
       "      <td>12.000000</td>\n",
       "      <td>0.000000</td>\n",
       "      <td>0.000000</td>\n",
       "      <td>45.000000</td>\n",
       "    </tr>\n",
       "    <tr>\n",
       "      <th>max</th>\n",
       "      <td>90.000000</td>\n",
       "      <td>1.484705e+06</td>\n",
       "      <td>16.000000</td>\n",
       "      <td>99999.000000</td>\n",
       "      <td>4356.000000</td>\n",
       "      <td>99.000000</td>\n",
       "    </tr>\n",
       "  </tbody>\n",
       "</table>\n",
       "</div>"
      ],
      "text/plain": [
       "                 0             2             4             10            11  \\\n",
       "count  32561.000000  3.256100e+04  32561.000000  32561.000000  32561.000000   \n",
       "mean      38.581647  1.897784e+05     10.080679   1077.648844     87.303830   \n",
       "std       13.640433  1.055500e+05      2.572720   7385.292085    402.960219   \n",
       "min       17.000000  1.228500e+04      1.000000      0.000000      0.000000   \n",
       "25%       28.000000  1.178270e+05      9.000000      0.000000      0.000000   \n",
       "50%       37.000000  1.783560e+05     10.000000      0.000000      0.000000   \n",
       "75%       48.000000  2.370510e+05     12.000000      0.000000      0.000000   \n",
       "max       90.000000  1.484705e+06     16.000000  99999.000000   4356.000000   \n",
       "\n",
       "                 12  \n",
       "count  32561.000000  \n",
       "mean      40.437456  \n",
       "std       12.347429  \n",
       "min        1.000000  \n",
       "25%       40.000000  \n",
       "50%       40.000000  \n",
       "75%       45.000000  \n",
       "max       99.000000  "
      ]
     },
     "execution_count": 6,
     "metadata": {},
     "output_type": "execute_result"
    }
   ],
   "source": [
    "pd.set_option('display.max_columns', None)\n",
    "df.describe()"
   ]
  },
  {
   "cell_type": "code",
   "execution_count": 7,
   "metadata": {},
   "outputs": [
    {
     "data": {
      "text/plain": [
       "array([' ?', ' Federal-gov', ' Local-gov', ' Never-worked', ' Private',\n",
       "       ' Self-emp-inc', ' Self-emp-not-inc', ' State-gov', ' Without-pay'],\n",
       "      dtype=object)"
      ]
     },
     "metadata": {},
     "output_type": "display_data"
    },
    {
     "data": {
      "text/plain": [
       "array([' 10th', ' 11th', ' 12th', ' 1st-4th', ' 5th-6th', ' 7th-8th',\n",
       "       ' 9th', ' Assoc-acdm', ' Assoc-voc', ' Bachelors', ' Doctorate',\n",
       "       ' HS-grad', ' Masters', ' Preschool', ' Prof-school',\n",
       "       ' Some-college'], dtype=object)"
      ]
     },
     "metadata": {},
     "output_type": "display_data"
    },
    {
     "data": {
      "text/plain": [
       "array([' Divorced', ' Married-AF-spouse', ' Married-civ-spouse',\n",
       "       ' Married-spouse-absent', ' Never-married', ' Separated',\n",
       "       ' Widowed'], dtype=object)"
      ]
     },
     "metadata": {},
     "output_type": "display_data"
    },
    {
     "data": {
      "text/plain": [
       "array([' ?', ' Adm-clerical', ' Armed-Forces', ' Craft-repair',\n",
       "       ' Exec-managerial', ' Farming-fishing', ' Handlers-cleaners',\n",
       "       ' Machine-op-inspct', ' Other-service', ' Priv-house-serv',\n",
       "       ' Prof-specialty', ' Protective-serv', ' Sales', ' Tech-support',\n",
       "       ' Transport-moving'], dtype=object)"
      ]
     },
     "metadata": {},
     "output_type": "display_data"
    },
    {
     "data": {
      "text/plain": [
       "array([' Husband', ' Not-in-family', ' Other-relative', ' Own-child',\n",
       "       ' Unmarried', ' Wife'], dtype=object)"
      ]
     },
     "metadata": {},
     "output_type": "display_data"
    },
    {
     "data": {
      "text/plain": [
       "array([' Amer-Indian-Eskimo', ' Asian-Pac-Islander', ' Black', ' Other',\n",
       "       ' White'], dtype=object)"
      ]
     },
     "metadata": {},
     "output_type": "display_data"
    },
    {
     "data": {
      "text/plain": [
       "array([' Female', ' Male'], dtype=object)"
      ]
     },
     "metadata": {},
     "output_type": "display_data"
    },
    {
     "data": {
      "text/plain": [
       "array([' ?', ' Cambodia', ' Canada', ' China', ' Columbia', ' Cuba',\n",
       "       ' Dominican-Republic', ' Ecuador', ' El-Salvador', ' England',\n",
       "       ' France', ' Germany', ' Greece', ' Guatemala', ' Haiti',\n",
       "       ' Holand-Netherlands', ' Honduras', ' Hong', ' Hungary', ' India',\n",
       "       ' Iran', ' Ireland', ' Italy', ' Jamaica', ' Japan', ' Laos',\n",
       "       ' Mexico', ' Nicaragua', ' Outlying-US(Guam-USVI-etc)', ' Peru',\n",
       "       ' Philippines', ' Poland', ' Portugal', ' Puerto-Rico',\n",
       "       ' Scotland', ' South', ' Taiwan', ' Thailand', ' Trinadad&Tobago',\n",
       "       ' United-States', ' Vietnam', ' Yugoslavia'], dtype=object)"
      ]
     },
     "metadata": {},
     "output_type": "display_data"
    }
   ],
   "source": [
    "for i in (1, 3, 5, 6, 7, 8, 9, 13):\n",
    "    display(np.unique(df[i].values))"
   ]
  },
  {
   "cell_type": "code",
   "execution_count": 8,
   "metadata": {
    "execution": {
     "iopub.execute_input": "2020-11-08T20:27:05.230198Z",
     "iopub.status.busy": "2020-11-08T20:27:05.229947Z",
     "iopub.status.idle": "2020-11-08T20:27:05.233602Z",
     "shell.execute_reply": "2020-11-08T20:27:05.232953Z",
     "shell.execute_reply.started": "2020-11-08T20:27:05.230173Z"
    }
   },
   "outputs": [],
   "source": [
    "X = df.drop([14], axis=1).values\n",
    "y = df[14].values.flatten()"
   ]
  },
  {
   "cell_type": "code",
   "execution_count": 9,
   "metadata": {},
   "outputs": [
    {
     "data": {
      "text/plain": [
       "array([[39, ' State-gov', 77516, ' Bachelors', 13, ' Never-married',\n",
       "        ' Adm-clerical', ' Not-in-family', ' White', ' Male', 2174, 0,\n",
       "        40, ' United-States'],\n",
       "       [50, ' Self-emp-not-inc', 83311, ' Bachelors', 13,\n",
       "        ' Married-civ-spouse', ' Exec-managerial', ' Husband', ' White',\n",
       "        ' Male', 0, 0, 13, ' United-States']], dtype=object)"
      ]
     },
     "metadata": {},
     "output_type": "display_data"
    },
    {
     "data": {
      "text/plain": [
       "array([' <=50K', ' <=50K'], dtype=object)"
      ]
     },
     "metadata": {},
     "output_type": "display_data"
    }
   ],
   "source": [
    "display(X[:2])\n",
    "display(y[:2])"
   ]
  },
  {
   "cell_type": "code",
   "execution_count": 10,
   "metadata": {},
   "outputs": [
    {
     "data": {
      "text/plain": [
       "[array([' ?', ' Federal-gov', ' Local-gov', ' Never-worked', ' Private',\n",
       "        ' Self-emp-inc', ' Self-emp-not-inc', ' State-gov', ' Without-pay'],\n",
       "       dtype=object),\n",
       " array([' 10th', ' 11th', ' 12th', ' 1st-4th', ' 5th-6th', ' 7th-8th',\n",
       "        ' 9th', ' Assoc-acdm', ' Assoc-voc', ' Bachelors', ' Doctorate',\n",
       "        ' HS-grad', ' Masters', ' Preschool', ' Prof-school',\n",
       "        ' Some-college'], dtype=object),\n",
       " array([' Divorced', ' Married-AF-spouse', ' Married-civ-spouse',\n",
       "        ' Married-spouse-absent', ' Never-married', ' Separated',\n",
       "        ' Widowed'], dtype=object),\n",
       " array([' ?', ' Adm-clerical', ' Armed-Forces', ' Craft-repair',\n",
       "        ' Exec-managerial', ' Farming-fishing', ' Handlers-cleaners',\n",
       "        ' Machine-op-inspct', ' Other-service', ' Priv-house-serv',\n",
       "        ' Prof-specialty', ' Protective-serv', ' Sales', ' Tech-support',\n",
       "        ' Transport-moving'], dtype=object),\n",
       " array([' Husband', ' Not-in-family', ' Other-relative', ' Own-child',\n",
       "        ' Unmarried', ' Wife'], dtype=object),\n",
       " array([' Amer-Indian-Eskimo', ' Asian-Pac-Islander', ' Black', ' Other',\n",
       "        ' White'], dtype=object),\n",
       " array([' Female', ' Male'], dtype=object),\n",
       " array([' ?', ' Cambodia', ' Canada', ' China', ' Columbia', ' Cuba',\n",
       "        ' Dominican-Republic', ' Ecuador', ' El-Salvador', ' England',\n",
       "        ' France', ' Germany', ' Greece', ' Guatemala', ' Haiti',\n",
       "        ' Holand-Netherlands', ' Honduras', ' Hong', ' Hungary', ' India',\n",
       "        ' Iran', ' Ireland', ' Italy', ' Jamaica', ' Japan', ' Laos',\n",
       "        ' Mexico', ' Nicaragua', ' Outlying-US(Guam-USVI-etc)', ' Peru',\n",
       "        ' Philippines', ' Poland', ' Portugal', ' Puerto-Rico',\n",
       "        ' Scotland', ' South', ' Taiwan', ' Thailand', ' Trinadad&Tobago',\n",
       "        ' United-States', ' Vietnam', ' Yugoslavia'], dtype=object)]"
      ]
     },
     "metadata": {},
     "output_type": "display_data"
    }
   ],
   "source": [
    "from sklearn.preprocessing import OrdinalEncoder\n",
    "enc = OrdinalEncoder()\n",
    "\n",
    "enc.fit(X[:, [1, 3, 5, 6, 7, 8, 9, 13]])\n",
    "display(enc.categories_)"
   ]
  },
  {
   "cell_type": "code",
   "execution_count": 11,
   "metadata": {},
   "outputs": [],
   "source": [
    "X[:, [1, 3, 5, 6, 7, 8, 9, 13]] = enc.transform(X[:, [1, 3, 5, 6, 7, 8, 9, 13]]).astype(np.int)"
   ]
  },
  {
   "cell_type": "code",
   "execution_count": 12,
   "metadata": {},
   "outputs": [
    {
     "data": {
      "text/plain": [
       "array([[39, 7, 77516, 9, 13, 4, 1, 1, 4, 1, 2174, 0, 40, 39],\n",
       "       [50, 6, 83311, 9, 13, 2, 4, 0, 4, 1, 0, 0, 13, 39],\n",
       "       [38, 4, 215646, 11, 9, 0, 6, 1, 4, 1, 0, 0, 40, 39],\n",
       "       [53, 4, 234721, 1, 7, 2, 6, 0, 2, 1, 0, 0, 40, 39],\n",
       "       [28, 4, 338409, 9, 13, 2, 10, 5, 2, 0, 0, 0, 40, 5],\n",
       "       [37, 4, 284582, 12, 14, 2, 4, 5, 4, 0, 0, 0, 40, 39]], dtype=object)"
      ]
     },
     "metadata": {},
     "output_type": "display_data"
    }
   ],
   "source": [
    "display(X[:6])"
   ]
  },
  {
   "cell_type": "code",
   "execution_count": 13,
   "metadata": {},
   "outputs": [
    {
     "data": {
      "text/plain": [
       "array([' <=50K', ' <=50K', ' <=50K', ..., ' <=50K', ' <=50K', ' >50K'],\n",
       "      dtype=object)"
      ]
     },
     "metadata": {},
     "output_type": "display_data"
    }
   ],
   "source": [
    "display(y)"
   ]
  },
  {
   "cell_type": "code",
   "execution_count": 14,
   "metadata": {},
   "outputs": [],
   "source": [
    "y = np.array([0 if u == ' <=50K' else 1 for u in y])"
   ]
  },
  {
   "cell_type": "code",
   "execution_count": 15,
   "metadata": {},
   "outputs": [
    {
     "data": {
      "text/plain": [
       "array([0, 0, 0, ..., 0, 0, 1])"
      ]
     },
     "metadata": {},
     "output_type": "display_data"
    }
   ],
   "source": [
    "display(y)"
   ]
  },
  {
   "cell_type": "code",
   "execution_count": 16,
   "metadata": {
    "execution": {
     "iopub.execute_input": "2020-11-08T20:27:05.234756Z",
     "iopub.status.busy": "2020-11-08T20:27:05.234500Z",
     "iopub.status.idle": "2020-11-08T20:27:05.237663Z",
     "shell.execute_reply": "2020-11-08T20:27:05.236997Z",
     "shell.execute_reply.started": "2020-11-08T20:27:05.234732Z"
    }
   },
   "outputs": [],
   "source": [
    "n_holdout = 10"
   ]
  },
  {
   "cell_type": "code",
   "execution_count": 17,
   "metadata": {
    "execution": {
     "iopub.execute_input": "2020-11-08T20:27:05.238817Z",
     "iopub.status.busy": "2020-11-08T20:27:05.238571Z",
     "iopub.status.idle": "2020-11-08T20:27:05.608190Z",
     "shell.execute_reply": "2020-11-08T20:27:05.607437Z",
     "shell.execute_reply.started": "2020-11-08T20:27:05.238793Z"
    }
   },
   "outputs": [],
   "source": [
    "from sklearn.model_selection import StratifiedKFold\n",
    "\n",
    "full_df = pd.DataFrame(np.hstack([X, np.expand_dims(y, axis=-1)]))\n",
    "full_df.to_csv(holdout_dir + \"adult.csv\", index=False)\n",
    "\n",
    "holdout_skf = StratifiedKFold(n_splits=n_holdout, shuffle=True, random_state=42)\n",
    "for i, (train_id, test_id) in enumerate(holdout_skf.split(X, y)):\n",
    "    X_train = X[train_id]\n",
    "    y_train = y[train_id]\n",
    "    X_test = X[test_id]\n",
    "    y_test = y[test_id]\n",
    "    \n",
    "    data_train = np.hstack([X_train, np.expand_dims(y_train, axis=-1)])\n",
    "    data_test = np.hstack([X_test, np.expand_dims(y_test, axis=-1)])\n",
    "    \n",
    "    df_train = pd.DataFrame(data_train)\n",
    "    df_test = pd.DataFrame(data_test)\n",
    "\n",
    "    df_train.to_csv(holdout_dir + (\"adult-%d-train.csv\" % i), index=False)\n",
    "    df_test.to_csv(holdout_dir + (\"adult-%d-test.csv\" % i), index=False)"
   ]
  }
 ],
 "metadata": {
  "kernelspec": {
   "display_name": "Python 3",
   "language": "python",
   "name": "python3"
  },
  "language_info": {
   "codemirror_mode": {
    "name": "ipython",
    "version": 3
   },
   "file_extension": ".py",
   "mimetype": "text/x-python",
   "name": "python",
   "nbconvert_exporter": "python",
   "pygments_lexer": "ipython3",
   "version": "3.6.9"
  }
 },
 "nbformat": 4,
 "nbformat_minor": 4
}
