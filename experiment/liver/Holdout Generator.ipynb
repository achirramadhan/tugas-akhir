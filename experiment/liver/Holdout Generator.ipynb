{
 "cells": [
  {
   "cell_type": "code",
   "execution_count": 1,
   "metadata": {
    "execution": {
     "iopub.execute_input": "2020-11-04T14:25:10.742937Z",
     "iopub.status.busy": "2020-11-04T14:25:10.742651Z",
     "iopub.status.idle": "2020-11-04T14:25:11.132979Z",
     "shell.execute_reply": "2020-11-04T14:25:11.132297Z",
     "shell.execute_reply.started": "2020-11-04T14:25:10.742912Z"
    }
   },
   "outputs": [],
   "source": [
    "import pandas as pd\n",
    "import numpy as np"
   ]
  },
  {
   "cell_type": "code",
   "execution_count": 2,
   "metadata": {
    "execution": {
     "iopub.execute_input": "2020-11-04T14:25:11.134254Z",
     "iopub.status.busy": "2020-11-04T14:25:11.134017Z",
     "iopub.status.idle": "2020-11-04T14:25:11.137420Z",
     "shell.execute_reply": "2020-11-04T14:25:11.136669Z",
     "shell.execute_reply.started": "2020-11-04T14:25:11.134232Z"
    }
   },
   "outputs": [],
   "source": [
    "dataset_dir = \"/root/skripsi/datasets/\"\n",
    "holdout_dir = \"holdout/\""
   ]
  },
  {
   "cell_type": "code",
   "execution_count": 3,
   "metadata": {
    "execution": {
     "iopub.execute_input": "2020-11-04T14:25:11.138811Z",
     "iopub.status.busy": "2020-11-04T14:25:11.138551Z",
     "iopub.status.idle": "2020-11-04T14:25:11.151175Z",
     "shell.execute_reply": "2020-11-04T14:25:11.150533Z",
     "shell.execute_reply.started": "2020-11-04T14:25:11.138789Z"
    }
   },
   "outputs": [],
   "source": [
    "df_t = pd.read_csv(dataset_dir + \"liver/liver.csv\", header=None)"
   ]
  },
  {
   "cell_type": "code",
   "execution_count": 4,
   "metadata": {},
   "outputs": [
    {
     "data": {
      "text/html": [
       "<div>\n",
       "<style scoped>\n",
       "    .dataframe tbody tr th:only-of-type {\n",
       "        vertical-align: middle;\n",
       "    }\n",
       "\n",
       "    .dataframe tbody tr th {\n",
       "        vertical-align: top;\n",
       "    }\n",
       "\n",
       "    .dataframe thead th {\n",
       "        text-align: right;\n",
       "    }\n",
       "</style>\n",
       "<table border=\"1\" class=\"dataframe\">\n",
       "  <thead>\n",
       "    <tr style=\"text-align: right;\">\n",
       "      <th></th>\n",
       "      <th>0</th>\n",
       "      <th>1</th>\n",
       "      <th>2</th>\n",
       "      <th>3</th>\n",
       "      <th>4</th>\n",
       "      <th>5</th>\n",
       "      <th>6</th>\n",
       "      <th>7</th>\n",
       "      <th>8</th>\n",
       "      <th>9</th>\n",
       "      <th>10</th>\n",
       "    </tr>\n",
       "  </thead>\n",
       "  <tbody>\n",
       "    <tr>\n",
       "      <th>0</th>\n",
       "      <td>65</td>\n",
       "      <td>Female</td>\n",
       "      <td>0.7</td>\n",
       "      <td>0.1</td>\n",
       "      <td>187</td>\n",
       "      <td>16</td>\n",
       "      <td>18</td>\n",
       "      <td>6.8</td>\n",
       "      <td>3.3</td>\n",
       "      <td>0.90</td>\n",
       "      <td>1</td>\n",
       "    </tr>\n",
       "    <tr>\n",
       "      <th>1</th>\n",
       "      <td>62</td>\n",
       "      <td>Male</td>\n",
       "      <td>10.9</td>\n",
       "      <td>5.5</td>\n",
       "      <td>699</td>\n",
       "      <td>64</td>\n",
       "      <td>100</td>\n",
       "      <td>7.5</td>\n",
       "      <td>3.2</td>\n",
       "      <td>0.74</td>\n",
       "      <td>1</td>\n",
       "    </tr>\n",
       "    <tr>\n",
       "      <th>2</th>\n",
       "      <td>62</td>\n",
       "      <td>Male</td>\n",
       "      <td>7.3</td>\n",
       "      <td>4.1</td>\n",
       "      <td>490</td>\n",
       "      <td>60</td>\n",
       "      <td>68</td>\n",
       "      <td>7.0</td>\n",
       "      <td>3.3</td>\n",
       "      <td>0.89</td>\n",
       "      <td>1</td>\n",
       "    </tr>\n",
       "    <tr>\n",
       "      <th>3</th>\n",
       "      <td>58</td>\n",
       "      <td>Male</td>\n",
       "      <td>1.0</td>\n",
       "      <td>0.4</td>\n",
       "      <td>182</td>\n",
       "      <td>14</td>\n",
       "      <td>20</td>\n",
       "      <td>6.8</td>\n",
       "      <td>3.4</td>\n",
       "      <td>1.00</td>\n",
       "      <td>1</td>\n",
       "    </tr>\n",
       "    <tr>\n",
       "      <th>4</th>\n",
       "      <td>72</td>\n",
       "      <td>Male</td>\n",
       "      <td>3.9</td>\n",
       "      <td>2.0</td>\n",
       "      <td>195</td>\n",
       "      <td>27</td>\n",
       "      <td>59</td>\n",
       "      <td>7.3</td>\n",
       "      <td>2.4</td>\n",
       "      <td>0.40</td>\n",
       "      <td>1</td>\n",
       "    </tr>\n",
       "  </tbody>\n",
       "</table>\n",
       "</div>"
      ],
      "text/plain": [
       "   0       1     2    3    4   5    6    7    8     9   10\n",
       "0  65  Female   0.7  0.1  187  16   18  6.8  3.3  0.90   1\n",
       "1  62    Male  10.9  5.5  699  64  100  7.5  3.2  0.74   1\n",
       "2  62    Male   7.3  4.1  490  60   68  7.0  3.3  0.89   1\n",
       "3  58    Male   1.0  0.4  182  14   20  6.8  3.4  1.00   1\n",
       "4  72    Male   3.9  2.0  195  27   59  7.3  2.4  0.40   1"
      ]
     },
     "metadata": {},
     "output_type": "display_data"
    }
   ],
   "source": [
    "display(df_t.head())"
   ]
  },
  {
   "cell_type": "code",
   "execution_count": 5,
   "metadata": {},
   "outputs": [
    {
     "data": {
      "text/plain": [
       "0     False\n",
       "1     False\n",
       "2     False\n",
       "3     False\n",
       "4     False\n",
       "5     False\n",
       "6     False\n",
       "7     False\n",
       "8     False\n",
       "9      True\n",
       "10    False\n",
       "dtype: bool"
      ]
     },
     "metadata": {},
     "output_type": "display_data"
    }
   ],
   "source": [
    "display(df_t.isnull().any())"
   ]
  },
  {
   "cell_type": "code",
   "execution_count": 6,
   "metadata": {},
   "outputs": [
    {
     "data": {
      "text/html": [
       "<div>\n",
       "<style scoped>\n",
       "    .dataframe tbody tr th:only-of-type {\n",
       "        vertical-align: middle;\n",
       "    }\n",
       "\n",
       "    .dataframe tbody tr th {\n",
       "        vertical-align: top;\n",
       "    }\n",
       "\n",
       "    .dataframe thead th {\n",
       "        text-align: right;\n",
       "    }\n",
       "</style>\n",
       "<table border=\"1\" class=\"dataframe\">\n",
       "  <thead>\n",
       "    <tr style=\"text-align: right;\">\n",
       "      <th></th>\n",
       "      <th>0</th>\n",
       "      <th>1</th>\n",
       "      <th>2</th>\n",
       "      <th>3</th>\n",
       "      <th>4</th>\n",
       "      <th>5</th>\n",
       "      <th>6</th>\n",
       "      <th>7</th>\n",
       "      <th>8</th>\n",
       "      <th>9</th>\n",
       "      <th>10</th>\n",
       "    </tr>\n",
       "  </thead>\n",
       "  <tbody>\n",
       "    <tr>\n",
       "      <th>209</th>\n",
       "      <td>45</td>\n",
       "      <td>Female</td>\n",
       "      <td>0.9</td>\n",
       "      <td>0.3</td>\n",
       "      <td>189</td>\n",
       "      <td>23</td>\n",
       "      <td>33</td>\n",
       "      <td>6.6</td>\n",
       "      <td>3.9</td>\n",
       "      <td>NaN</td>\n",
       "      <td>1</td>\n",
       "    </tr>\n",
       "    <tr>\n",
       "      <th>241</th>\n",
       "      <td>51</td>\n",
       "      <td>Male</td>\n",
       "      <td>0.8</td>\n",
       "      <td>0.2</td>\n",
       "      <td>230</td>\n",
       "      <td>24</td>\n",
       "      <td>46</td>\n",
       "      <td>6.5</td>\n",
       "      <td>3.1</td>\n",
       "      <td>NaN</td>\n",
       "      <td>1</td>\n",
       "    </tr>\n",
       "    <tr>\n",
       "      <th>253</th>\n",
       "      <td>35</td>\n",
       "      <td>Female</td>\n",
       "      <td>0.6</td>\n",
       "      <td>0.2</td>\n",
       "      <td>180</td>\n",
       "      <td>12</td>\n",
       "      <td>15</td>\n",
       "      <td>5.2</td>\n",
       "      <td>2.7</td>\n",
       "      <td>NaN</td>\n",
       "      <td>2</td>\n",
       "    </tr>\n",
       "    <tr>\n",
       "      <th>312</th>\n",
       "      <td>27</td>\n",
       "      <td>Male</td>\n",
       "      <td>1.3</td>\n",
       "      <td>0.6</td>\n",
       "      <td>106</td>\n",
       "      <td>25</td>\n",
       "      <td>54</td>\n",
       "      <td>8.5</td>\n",
       "      <td>4.8</td>\n",
       "      <td>NaN</td>\n",
       "      <td>2</td>\n",
       "    </tr>\n",
       "  </tbody>\n",
       "</table>\n",
       "</div>"
      ],
      "text/plain": [
       "     0       1    2    3    4   5   6    7    8   9   10\n",
       "209  45  Female  0.9  0.3  189  23  33  6.6  3.9 NaN   1\n",
       "241  51    Male  0.8  0.2  230  24  46  6.5  3.1 NaN   1\n",
       "253  35  Female  0.6  0.2  180  12  15  5.2  2.7 NaN   2\n",
       "312  27    Male  1.3  0.6  106  25  54  8.5  4.8 NaN   2"
      ]
     },
     "metadata": {},
     "output_type": "display_data"
    }
   ],
   "source": [
    "display(df_t[df_t.isnull().any(axis=1)])"
   ]
  },
  {
   "cell_type": "code",
   "execution_count": 7,
   "metadata": {},
   "outputs": [
    {
     "data": {
      "text/plain": [
       "(583, 11)"
      ]
     },
     "metadata": {},
     "output_type": "display_data"
    }
   ],
   "source": [
    "display(df_t.shape)"
   ]
  },
  {
   "cell_type": "code",
   "execution_count": 8,
   "metadata": {},
   "outputs": [
    {
     "data": {
      "text/plain": [
       "(579, 11)"
      ]
     },
     "metadata": {},
     "output_type": "display_data"
    }
   ],
   "source": [
    "df = df_t.dropna()\n",
    "display(df.shape)"
   ]
  },
  {
   "cell_type": "code",
   "execution_count": 9,
   "metadata": {
    "execution": {
     "iopub.execute_input": "2020-11-04T14:25:11.152415Z",
     "iopub.status.busy": "2020-11-04T14:25:11.152165Z",
     "iopub.status.idle": "2020-11-04T14:25:11.156725Z",
     "shell.execute_reply": "2020-11-04T14:25:11.156079Z",
     "shell.execute_reply.started": "2020-11-04T14:25:11.152387Z"
    }
   },
   "outputs": [],
   "source": [
    "df_np = df.values\n",
    "X = df_np[:, :-1]\n",
    "y = np.array([1 if u == 2 else 0 for u in df_np[:, -1]])"
   ]
  },
  {
   "cell_type": "code",
   "execution_count": 10,
   "metadata": {},
   "outputs": [
    {
     "data": {
      "text/plain": [
       "[array(['Female', 'Male'], dtype=object)]"
      ]
     },
     "metadata": {},
     "output_type": "display_data"
    }
   ],
   "source": [
    "from sklearn.preprocessing import OrdinalEncoder\n",
    "enc = OrdinalEncoder()\n",
    "\n",
    "enc.fit(X[:, [1]])\n",
    "display(enc.categories_)"
   ]
  },
  {
   "cell_type": "code",
   "execution_count": 11,
   "metadata": {},
   "outputs": [],
   "source": [
    "X[:, [1]] = enc.transform(X[:, [1]]).astype(np.int)"
   ]
  },
  {
   "cell_type": "code",
   "execution_count": 12,
   "metadata": {},
   "outputs": [
    {
     "data": {
      "text/plain": [
       "array([[65, 0, 0.7, 0.1, 187, 16, 18, 6.8, 3.3, 0.9],\n",
       "       [62, 1, 10.9, 5.5, 699, 64, 100, 7.5, 3.2, 0.74],\n",
       "       [62, 1, 7.3, 4.1, 490, 60, 68, 7.0, 3.3, 0.89],\n",
       "       [58, 1, 1.0, 0.4, 182, 14, 20, 6.8, 3.4, 1.0],\n",
       "       [72, 1, 3.9, 2.0, 195, 27, 59, 7.3, 2.4, 0.4]], dtype=object)"
      ]
     },
     "metadata": {},
     "output_type": "display_data"
    },
    {
     "data": {
      "text/plain": [
       "array([0, 0, 0, 0, 0])"
      ]
     },
     "metadata": {},
     "output_type": "display_data"
    }
   ],
   "source": [
    "display(X[:5])\n",
    "display(y[:5])"
   ]
  },
  {
   "cell_type": "code",
   "execution_count": 13,
   "metadata": {
    "execution": {
     "iopub.execute_input": "2020-11-04T14:25:11.157846Z",
     "iopub.status.busy": "2020-11-04T14:25:11.157614Z",
     "iopub.status.idle": "2020-11-04T14:25:11.160626Z",
     "shell.execute_reply": "2020-11-04T14:25:11.160039Z",
     "shell.execute_reply.started": "2020-11-04T14:25:11.157824Z"
    }
   },
   "outputs": [],
   "source": [
    "n_holdout = 10"
   ]
  },
  {
   "cell_type": "code",
   "execution_count": 14,
   "metadata": {
    "execution": {
     "iopub.execute_input": "2020-11-04T14:25:11.161719Z",
     "iopub.status.busy": "2020-11-04T14:25:11.161467Z",
     "iopub.status.idle": "2020-11-04T14:25:11.551711Z",
     "shell.execute_reply": "2020-11-04T14:25:11.551043Z",
     "shell.execute_reply.started": "2020-11-04T14:25:11.161698Z"
    }
   },
   "outputs": [],
   "source": [
    "from sklearn.model_selection import StratifiedKFold\n",
    "\n",
    "full_df = pd.DataFrame(np.hstack([X, np.expand_dims(y, axis=-1)]))\n",
    "full_df.to_csv(holdout_dir + \"liver.csv\", index=False)\n",
    "\n",
    "holdout_skf = StratifiedKFold(n_splits=n_holdout, shuffle=True, random_state=42)\n",
    "for i, (train_id, test_id) in enumerate(holdout_skf.split(X, y)):\n",
    "    X_train = X[train_id]\n",
    "    y_train = y[train_id]\n",
    "    X_test = X[test_id]\n",
    "    y_test = y[test_id]\n",
    "    \n",
    "    data_train = np.hstack([X_train, np.expand_dims(y_train, axis=-1)])\n",
    "    data_test = np.hstack([X_test, np.expand_dims(y_test, axis=-1)])\n",
    "    \n",
    "    df_train = pd.DataFrame(data_train)\n",
    "    df_test = pd.DataFrame(data_test)\n",
    "\n",
    "    df_train.to_csv(holdout_dir + (\"liver-%d-train.csv\" % i), index=False)\n",
    "    df_test.to_csv(holdout_dir + (\"liver-%d-test.csv\" % i), index=False)"
   ]
  }
 ],
 "metadata": {
  "kernelspec": {
   "display_name": "Python 3",
   "language": "python",
   "name": "python3"
  },
  "language_info": {
   "codemirror_mode": {
    "name": "ipython",
    "version": 3
   },
   "file_extension": ".py",
   "mimetype": "text/x-python",
   "name": "python",
   "nbconvert_exporter": "python",
   "pygments_lexer": "ipython3",
   "version": "3.6.9"
  }
 },
 "nbformat": 4,
 "nbformat_minor": 4
}
