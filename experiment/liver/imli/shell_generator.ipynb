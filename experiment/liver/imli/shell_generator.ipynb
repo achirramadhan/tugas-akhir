{
 "cells": [
  {
   "cell_type": "code",
   "execution_count": 1,
   "metadata": {
    "execution": {
     "iopub.execute_input": "2020-11-08T20:35:46.499125Z",
     "iopub.status.busy": "2020-11-08T20:35:46.498767Z",
     "iopub.status.idle": "2020-11-08T20:35:46.503578Z",
     "shell.execute_reply": "2020-11-08T20:35:46.502720Z",
     "shell.execute_reply.started": "2020-11-08T20:35:46.499094Z"
    }
   },
   "outputs": [],
   "source": [
    "commands = [\"\"\"#!/bin/bash\n",
    "HOME=\"/root\"\n",
    "DIR_RUNNER=\"$HOME/skripsi/imli/experiment\"\n",
    "DIR_RESULT=\"$HOME/skripsi/imli/experiment/liver/imli\"\n",
    "\n",
    "python $DIR_RUNNER/imli_runner_methodology_validation.py liver %d >$DIR_RESULT/result-imli-liver-%d.txt 2>&1\n",
    "\"\"\" % (i, i) for i in range(10)]"
   ]
  },
  {
   "cell_type": "code",
   "execution_count": 2,
   "metadata": {
    "execution": {
     "iopub.execute_input": "2020-11-08T20:35:46.604297Z",
     "iopub.status.busy": "2020-11-08T20:35:46.603967Z",
     "iopub.status.idle": "2020-11-08T20:35:46.609891Z",
     "shell.execute_reply": "2020-11-08T20:35:46.609074Z",
     "shell.execute_reply.started": "2020-11-08T20:35:46.604270Z"
    }
   },
   "outputs": [],
   "source": [
    "for i in range(10):\n",
    "    with open(\"start-%d.sh\" % i, 'w') as f:\n",
    "        f.write(commands[i])"
   ]
  }
 ],
 "metadata": {
  "kernelspec": {
   "display_name": "Python 3",
   "language": "python",
   "name": "python3"
  },
  "language_info": {
   "codemirror_mode": {
    "name": "ipython",
    "version": 3
   },
   "file_extension": ".py",
   "mimetype": "text/x-python",
   "name": "python",
   "nbconvert_exporter": "python",
   "pygments_lexer": "ipython3",
   "version": "3.6.9"
  }
 },
 "nbformat": 4,
 "nbformat_minor": 4
}
