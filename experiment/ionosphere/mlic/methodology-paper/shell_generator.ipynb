{
 "cells": [
  {
   "cell_type": "code",
   "execution_count": 1,
   "metadata": {
    "execution": {
     "iopub.execute_input": "2020-11-06T04:10:10.202167Z",
     "iopub.status.busy": "2020-11-06T04:10:10.201840Z",
     "iopub.status.idle": "2020-11-06T04:10:10.206710Z",
     "shell.execute_reply": "2020-11-06T04:10:10.205907Z",
     "shell.execute_reply.started": "2020-11-06T04:10:10.202138Z"
    }
   },
   "outputs": [],
   "source": [
    "commands = [\"\"\"#!/bin/bash\n",
    "HOME=\"/root\"\n",
    "DIR=\"$HOME/skripsi/experiment/imli/testing-dir/ionosphere/mlic/methodology-paper\"\n",
    "PATH=\"$HOME/skripsi/open-wbo:$PATH\"\n",
    "PATH=\"$HOME/skripsi/MaxHS/build/release/bin:$PATH\"\n",
    "echo $PATH\n",
    "\n",
    "python $DIR/mlic_runner_methodology_paper.py ionosphere %d >$DIR/result-mlic-ionosphere-%d.txt 2>&1\n",
    "\"\"\" % (i, i) for i in range(10)]"
   ]
  },
  {
   "cell_type": "code",
   "execution_count": 2,
   "metadata": {
    "execution": {
     "iopub.execute_input": "2020-11-06T04:10:10.221313Z",
     "iopub.status.busy": "2020-11-06T04:10:10.221065Z",
     "iopub.status.idle": "2020-11-06T04:10:10.226356Z",
     "shell.execute_reply": "2020-11-06T04:10:10.225714Z",
     "shell.execute_reply.started": "2020-11-06T04:10:10.221290Z"
    }
   },
   "outputs": [],
   "source": [
    "for i in range(10):\n",
    "    with open(\"start-%d.sh\" % i, 'w') as f:\n",
    "        f.write(commands[i])"
   ]
  }
 ],
 "metadata": {
  "kernelspec": {
   "display_name": "Python 3",
   "language": "python",
   "name": "python3"
  },
  "language_info": {
   "codemirror_mode": {
    "name": "ipython",
    "version": 3
   },
   "file_extension": ".py",
   "mimetype": "text/x-python",
   "name": "python",
   "nbconvert_exporter": "python",
   "pygments_lexer": "ipython3",
   "version": "3.6.9"
  }
 },
 "nbformat": 4,
 "nbformat_minor": 4
}
