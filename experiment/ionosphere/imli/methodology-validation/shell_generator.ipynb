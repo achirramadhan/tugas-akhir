{
 "cells": [
  {
   "cell_type": "code",
   "execution_count": 1,
   "metadata": {
    "execution": {
     "iopub.execute_input": "2020-11-06T02:20:54.203690Z",
     "iopub.status.busy": "2020-11-06T02:20:54.203364Z",
     "iopub.status.idle": "2020-11-06T02:20:54.208234Z",
     "shell.execute_reply": "2020-11-06T02:20:54.207442Z",
     "shell.execute_reply.started": "2020-11-06T02:20:54.203661Z"
    }
   },
   "outputs": [],
   "source": [
    "commands = [\"\"\"#!/bin/bash\n",
    "HOME=\"/root\"\n",
    "DIR=\"$HOME/skripsi/experiment/imli/testing-dir/ionosphere/imli/methodology-validation\"\n",
    "PATH=\"$HOME/skripsi/open-wbo:$PATH\"\n",
    "PATH=\"$HOME/skripsi/MaxHS/build/release/bin:$PATH\"\n",
    "echo $PATH\n",
    "\n",
    "python $DIR/imli_runner_methodology_validation.py ionosphere %d >$DIR/result-imli-ionosphere-%d.txt 2>&1\n",
    "\"\"\" % (i, i) for i in range(10)]"
   ]
  },
  {
   "cell_type": "code",
   "execution_count": 2,
   "metadata": {
    "execution": {
     "iopub.execute_input": "2020-11-06T02:20:54.323698Z",
     "iopub.status.busy": "2020-11-06T02:20:54.323349Z",
     "iopub.status.idle": "2020-11-06T02:20:54.328290Z",
     "shell.execute_reply": "2020-11-06T02:20:54.327582Z",
     "shell.execute_reply.started": "2020-11-06T02:20:54.323668Z"
    }
   },
   "outputs": [],
   "source": [
    "for i in range(10):\n",
    "    with open(\"start-%d.sh\" % i, 'w') as f:\n",
    "        f.write(commands[i])"
   ]
  }
 ],
 "metadata": {
  "kernelspec": {
   "display_name": "Python 3",
   "language": "python",
   "name": "python3"
  },
  "language_info": {
   "codemirror_mode": {
    "name": "ipython",
    "version": 3
   },
   "file_extension": ".py",
   "mimetype": "text/x-python",
   "name": "python",
   "nbconvert_exporter": "python",
   "pygments_lexer": "ipython3",
   "version": "3.6.9"
  }
 },
 "nbformat": 4,
 "nbformat_minor": 4
}
