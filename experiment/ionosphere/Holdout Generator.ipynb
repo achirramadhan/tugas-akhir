{
 "cells": [
  {
   "cell_type": "code",
   "execution_count": 1,
   "metadata": {
    "execution": {
     "iopub.execute_input": "2020-11-04T14:25:10.742937Z",
     "iopub.status.busy": "2020-11-04T14:25:10.742651Z",
     "iopub.status.idle": "2020-11-04T14:25:11.132979Z",
     "shell.execute_reply": "2020-11-04T14:25:11.132297Z",
     "shell.execute_reply.started": "2020-11-04T14:25:10.742912Z"
    }
   },
   "outputs": [],
   "source": [
    "import pandas as pd\n",
    "import numpy as np"
   ]
  },
  {
   "cell_type": "code",
   "execution_count": 2,
   "metadata": {
    "execution": {
     "iopub.execute_input": "2020-11-04T14:25:11.134254Z",
     "iopub.status.busy": "2020-11-04T14:25:11.134017Z",
     "iopub.status.idle": "2020-11-04T14:25:11.137420Z",
     "shell.execute_reply": "2020-11-04T14:25:11.136669Z",
     "shell.execute_reply.started": "2020-11-04T14:25:11.134232Z"
    }
   },
   "outputs": [],
   "source": [
    "dir = \"/root/skripsi/experiment/datasets/\"\n",
    "holdout_dir = \"holdout/\""
   ]
  },
  {
   "cell_type": "code",
   "execution_count": 3,
   "metadata": {
    "execution": {
     "iopub.execute_input": "2020-11-04T14:25:11.138811Z",
     "iopub.status.busy": "2020-11-04T14:25:11.138551Z",
     "iopub.status.idle": "2020-11-04T14:25:11.151175Z",
     "shell.execute_reply": "2020-11-04T14:25:11.150533Z",
     "shell.execute_reply.started": "2020-11-04T14:25:11.138789Z"
    }
   },
   "outputs": [],
   "source": [
    "df = pd.read_csv(dir + \"ionosphere/ionosphere.data\", header=None).sample(frac=1)"
   ]
  },
  {
   "cell_type": "code",
   "execution_count": 4,
   "metadata": {
    "execution": {
     "iopub.execute_input": "2020-11-04T14:25:11.152415Z",
     "iopub.status.busy": "2020-11-04T14:25:11.152165Z",
     "iopub.status.idle": "2020-11-04T14:25:11.156725Z",
     "shell.execute_reply": "2020-11-04T14:25:11.156079Z",
     "shell.execute_reply.started": "2020-11-04T14:25:11.152387Z"
    }
   },
   "outputs": [],
   "source": [
    "df_np = df.values\n",
    "X = df_np[:, :-1]\n",
    "y = np.array([1 if u == 'g' else 0 for u in df_np[:, -1]])"
   ]
  },
  {
   "cell_type": "code",
   "execution_count": 5,
   "metadata": {
    "execution": {
     "iopub.execute_input": "2020-11-04T14:25:11.157846Z",
     "iopub.status.busy": "2020-11-04T14:25:11.157614Z",
     "iopub.status.idle": "2020-11-04T14:25:11.160626Z",
     "shell.execute_reply": "2020-11-04T14:25:11.160039Z",
     "shell.execute_reply.started": "2020-11-04T14:25:11.157824Z"
    }
   },
   "outputs": [],
   "source": [
    "n_holdout = 10"
   ]
  },
  {
   "cell_type": "code",
   "execution_count": 6,
   "metadata": {
    "execution": {
     "iopub.execute_input": "2020-11-04T14:25:11.161719Z",
     "iopub.status.busy": "2020-11-04T14:25:11.161467Z",
     "iopub.status.idle": "2020-11-04T14:25:11.551711Z",
     "shell.execute_reply": "2020-11-04T14:25:11.551043Z",
     "shell.execute_reply.started": "2020-11-04T14:25:11.161698Z"
    }
   },
   "outputs": [],
   "source": [
    "from sklearn.model_selection import StratifiedKFold\n",
    "\n",
    "holdout_skf = StratifiedKFold(n_splits=n_holdout)\n",
    "for i, (train_id, test_id) in enumerate(holdout_skf.split(X, y)):\n",
    "    X_train = X[train_id]\n",
    "    y_train = y[train_id]\n",
    "    X_test = X[test_id]\n",
    "    y_test = y[test_id]\n",
    "    \n",
    "    data_train = np.hstack([X_train, np.expand_dims(y_train, axis=-1)])\n",
    "    data_test = np.hstack([X_test, np.expand_dims(y_test, axis=-1)])\n",
    "    \n",
    "    df_train = pd.DataFrame(data_train)\n",
    "    df_test = pd.DataFrame(data_test)\n",
    "\n",
    "    df_train.to_csv(holdout_dir + (\"ionosphere-%d-train.csv\" % i), index=False)\n",
    "    df_test.to_csv(holdout_dir + (\"ionosphere-%d-test.csv\" % i), index=False)"
   ]
  }
 ],
 "metadata": {
  "kernelspec": {
   "display_name": "Python 3",
   "language": "python",
   "name": "python3"
  },
  "language_info": {
   "codemirror_mode": {
    "name": "ipython",
    "version": 3
   },
   "file_extension": ".py",
   "mimetype": "text/x-python",
   "name": "python",
   "nbconvert_exporter": "python",
   "pygments_lexer": "ipython3",
   "version": "3.6.9"
  }
 },
 "nbformat": 4,
 "nbformat_minor": 4
}
