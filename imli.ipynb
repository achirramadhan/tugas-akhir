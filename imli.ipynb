{
 "cells": [
  {
   "cell_type": "code",
   "execution_count": 1,
   "metadata": {
    "execution": {
     "iopub.execute_input": "2020-10-09T23:29:28.334286Z",
     "iopub.status.busy": "2020-10-09T23:29:28.333759Z",
     "iopub.status.idle": "2020-10-09T23:29:35.780885Z",
     "shell.execute_reply": "2020-10-09T23:29:35.778395Z",
     "shell.execute_reply.started": "2020-10-09T23:29:28.334178Z"
    }
   },
   "outputs": [],
   "source": [
    "import numpy as np\n",
    "import Orange\n",
    "import os"
   ]
  },
  {
   "cell_type": "code",
   "execution_count": 19,
   "metadata": {
    "execution": {
     "iopub.execute_input": "2020-10-09T23:42:09.063784Z",
     "iopub.status.busy": "2020-10-09T23:42:09.063350Z",
     "iopub.status.idle": "2020-10-09T23:42:09.082183Z",
     "shell.execute_reply": "2020-10-09T23:42:09.081317Z",
     "shell.execute_reply.started": "2020-10-09T23:42:09.063746Z"
    }
   },
   "outputs": [
    {
     "data": {
      "text/html": [
       "<div>\n",
       "<style scoped>\n",
       "    .dataframe tbody tr th:only-of-type {\n",
       "        vertical-align: middle;\n",
       "    }\n",
       "\n",
       "    .dataframe tbody tr th {\n",
       "        vertical-align: top;\n",
       "    }\n",
       "\n",
       "    .dataframe thead th {\n",
       "        text-align: right;\n",
       "    }\n",
       "</style>\n",
       "<table border=\"1\" class=\"dataframe\">\n",
       "  <thead>\n",
       "    <tr style=\"text-align: right;\">\n",
       "      <th></th>\n",
       "      <th>x1</th>\n",
       "      <th>x2</th>\n",
       "      <th>x3</th>\n",
       "      <th>x4</th>\n",
       "      <th>y</th>\n",
       "    </tr>\n",
       "  </thead>\n",
       "  <tbody>\n",
       "    <tr>\n",
       "      <th>0</th>\n",
       "      <td>1</td>\n",
       "      <td>0</td>\n",
       "      <td>0</td>\n",
       "      <td>1</td>\n",
       "      <td>1</td>\n",
       "    </tr>\n",
       "    <tr>\n",
       "      <th>1</th>\n",
       "      <td>0</td>\n",
       "      <td>0</td>\n",
       "      <td>1</td>\n",
       "      <td>0</td>\n",
       "      <td>1</td>\n",
       "    </tr>\n",
       "    <tr>\n",
       "      <th>2</th>\n",
       "      <td>0</td>\n",
       "      <td>0</td>\n",
       "      <td>1</td>\n",
       "      <td>1</td>\n",
       "      <td>0</td>\n",
       "    </tr>\n",
       "    <tr>\n",
       "      <th>3</th>\n",
       "      <td>1</td>\n",
       "      <td>1</td>\n",
       "      <td>1</td>\n",
       "      <td>1</td>\n",
       "      <td>0</td>\n",
       "    </tr>\n",
       "  </tbody>\n",
       "</table>\n",
       "</div>"
      ],
      "text/plain": [
       "   x1  x2  x3  x4  y\n",
       "0   1   0   0   1  1\n",
       "1   0   0   1   0  1\n",
       "2   0   0   1   1  0\n",
       "3   1   1   1   1  0"
      ]
     },
     "metadata": {},
     "output_type": "display_data"
    },
    {
     "name": "stdout",
     "output_type": "stream",
     "text": [
      "<class 'numpy.ndarray'>\n"
     ]
    },
    {
     "data": {
      "text/plain": [
       "array([[1, 0, 0, 1],\n",
       "       [0, 0, 1, 0],\n",
       "       [0, 0, 1, 1],\n",
       "       [1, 1, 1, 1]])"
      ]
     },
     "metadata": {},
     "output_type": "display_data"
    },
    {
     "name": "stdout",
     "output_type": "stream",
     "text": [
      "<class 'numpy.ndarray'>\n"
     ]
    },
    {
     "data": {
      "text/plain": [
       "array([1, 1, 0, 0])"
      ]
     },
     "metadata": {},
     "output_type": "display_data"
    }
   ],
   "source": [
    "import pandas as pd\n",
    "df = pd.read_csv(\"test.csv\")\n",
    "display(df)\n",
    "\n",
    "X = df.drop('y', axis=1).values\n",
    "print(type(X))\n",
    "display(X)\n",
    "\n",
    "y = df['y'].values\n",
    "print(type(y))\n",
    "display(y)"
   ]
  },
  {
   "cell_type": "code",
   "execution_count": 58,
   "metadata": {
    "execution": {
     "iopub.execute_input": "2020-10-10T00:41:23.324548Z",
     "iopub.status.busy": "2020-10-10T00:41:23.323730Z",
     "iopub.status.idle": "2020-10-10T00:41:24.945079Z",
     "shell.execute_reply": "2020-10-10T00:41:24.944180Z",
     "shell.execute_reply.started": "2020-10-10T00:41:23.324471Z"
    }
   },
   "outputs": [
    {
     "name": "stdout",
     "output_type": "stream",
     "text": [
      "GENERATE SELESAI\n",
      "MAXSAT MULAI\n",
      "MAXSAT SELESAI\n"
     ]
    },
    {
     "data": {
      "text/plain": [
       "'[(x4 >= 0.041440)]'"
      ]
     },
     "execution_count": 58,
     "metadata": {},
     "output_type": "execute_result"
    }
   ],
   "source": [
    "class Feature:\n",
    "    def __init__(self, feature_type, thresholds=None):\n",
    "        self.feature_type = feature_type\n",
    "        self.thresholds = thresholds\n",
    "\n",
    "class IMLI:    \n",
    "    def __init__(self, n_clauses = 0, lamda = 3):\n",
    "        self.n_clauses = n_clauses\n",
    "        self.lamda = lamda\n",
    "        \n",
    "        self.B = []\n",
    "        self.eta = []\n",
    "        self.n_features = 0\n",
    "            \n",
    "    def _get_id_maxsat_B(self, l, j):\n",
    "        return l * self.n_features + j + 1\n",
    "    \n",
    "    def _get_id_maxsat_eta(self, q):\n",
    "        return self.n_clauses * self.n_features + q + 1\n",
    "    \n",
    "    def _generate_B_eta(self, assignment, n_samples):\n",
    "        idx = 0\n",
    "        B = np.zeros((self.n_clauses, self.n_features))\n",
    "        for l in range(self.n_clauses):\n",
    "            for j in range(self.n_features):\n",
    "                B[l][j] = 1 if assignment[idx] > 0 else 0\n",
    "                idx += 1\n",
    "        \n",
    "        eta = np.zeros((n_samples,))\n",
    "        for q in range(n_samples):\n",
    "            eta[q] = 1 if assignment[idx] > 0 else 0\n",
    "            idx += 1\n",
    "        \n",
    "        return B, eta        \n",
    "    \n",
    "    def _maxsat_solve(self, X, y):\n",
    "        n_samples = y.shape[0]\n",
    "        \n",
    "        fname = \"query.wcnf\"\n",
    "        with open(fname, \"w\") as f:            \n",
    "            # define parameters            \n",
    "            unique, counts = np.unique(y, return_counts = True)\n",
    "            num_occurence = dict(zip(unique, counts))\n",
    "            \n",
    "            nbvar = self.n_features * self.n_clauses + n_samples + num_occurence[0] * self.n_clauses\n",
    "            nbclauses = self.n_features * self.n_clauses \\\n",
    "                        + n_samples \\\n",
    "                        + num_occurence[0] * (1 + self.n_clauses * (self.n_features // 2)) \\\n",
    "                        + num_occurence[1] * self.n_clauses\n",
    "            \n",
    "            top = self.n_features * self.n_clauses + n_samples * self.lamda + 1\n",
    "            \n",
    "            line = \"p wcnf %d %d %d\\r\\n\" % (nbvar, nbclauses, top)\n",
    "            f.write(line)\n",
    "            \n",
    "            # Constraints\n",
    "            # We change the indexing system from the paper to 0-based indexing\n",
    "            # Here, we encode each propositional to maxsat index as follows:\n",
    "            # 1. B_l_j = variable index (l * n_features + j + 1),\n",
    "            # 2. eta_q = variable index (n_clauses * n_features + q + 1),\n",
    "            # 3. z_i_j = the rest, the numbering isn't important since\n",
    "            #            each of them is only used once\n",
    "            \n",
    "            # first constraint\n",
    "            idx = 1\n",
    "            for l in range(self.n_clauses):\n",
    "                for j in range(self.n_features):\n",
    "                    line = \"%d %d 0\\r\\n\" % (1, -(idx))\n",
    "                    f.write(line)\n",
    "                    idx += 1 # idx = l * n_features + j + 1\n",
    "            \n",
    "            # second constraint\n",
    "            for q in range(n_samples):\n",
    "                line = \"%d %d 0\\r\\n\" % (self.lamda, -(idx))\n",
    "                f.write(line)\n",
    "                idx += 1 # idx = (n_clauses * n_features) + q + 1\n",
    "            \n",
    "            # third constraint\n",
    "            for q in range(n_samples):\n",
    "                id_eta_q = self._get_id_maxsat_eta(q)\n",
    "                X_q = X[q]\n",
    "                on_features = [i for i in range(X_q.shape[0]) if X_q[i] == 1]\n",
    "                if y[q] == 0:\n",
    "                    id_z_q_1 = idx\n",
    "                    \n",
    "                    # D_q_0\n",
    "                    clause = [id_eta_q] + [id_z_q_1 + l for l in range(self.n_clauses)]\n",
    "                    line = str(top) + ' ' + ' '.join(str(u) for u in clause) + ' 0\\r\\n'\n",
    "                    f.write(line)\n",
    "                    \n",
    "                    # D_q_l\n",
    "                    for l in range(self.n_clauses):\n",
    "                        id_z_q_l = id_z_q_1 + l\n",
    "                        for u in on_features:\n",
    "                            clause = [-id_z_q_l, -self._get_id_maxsat_B(l, u)]\n",
    "                            line = str(top) + ' ' + ' '.join(str(u) for u in clause) + ' 0\\r\\n'\n",
    "                            f.write(line)\n",
    "                        \n",
    "                    idx += self.n_clauses\n",
    "                        \n",
    "                elif y[q] == 1:\n",
    "                    for l in range(self.n_clauses):\n",
    "                        clause = [id_eta_q] + [l * self.n_features + u + 1 for u in on_features]\n",
    "                        line = str(top) + ' ' + ' '.join(str(u) for u in clause) + ' 0\\r\\n'\n",
    "                        f.write(line)\n",
    "            \n",
    "        print(\"GENERATE SELESAI\")\n",
    "        \n",
    "        # maxSAT\n",
    "        print(\"MAXSAT MULAI\")\n",
    "        os.system(\"open-wbo ./query.wcnf > result.txt\")\n",
    "        print(\"MAXSAT SELESAI\")\n",
    "        \n",
    "        # get result\n",
    "        rname = \"result.txt\"\n",
    "        with open(\"result.txt\", \"r\") as f:\n",
    "            lines = f.readlines()\n",
    "            for line in lines:\n",
    "                if not line or line[0] == 'c':\n",
    "                    continue\n",
    "                elif line[0] == 'v':\n",
    "                    assignment = [int(u) for u in line.split(' ')[1:-1] ]\n",
    "                    self.B, self.eta = self._generate_B_eta(assignment, n_samples)\n",
    "    \n",
    "    def _is_binary_array(self, x):\n",
    "        is_binary = True\n",
    "        for u in x:\n",
    "            if u != 0 and u != 1:\n",
    "                is_binary = False\n",
    "                break\n",
    "        return is_binary\n",
    "    \n",
    "    def _append_X(self, feature_type, new_X, X, id_col, headers=[], thresholds=None):\n",
    "        if feature_type == \"continuous\":\n",
    "            for sign in (\">=\", \"<\"):\n",
    "                for point in thresholds:\n",
    "                    if sign == \">=\":\n",
    "                        new_col = (np.expand_dims(X[:, id_col], axis=1) >= point).astype(np.int)\n",
    "                        new_X = np.append(new_X, new_col, axis=1)\n",
    "                        headers.append(\"(x%d >= %f)\" % (id_col, point))\n",
    "                    elif sign == \"<\":\n",
    "                        new_col = (np.expand_dims(X[:, id_col], axis=1) < point).astype(np.int)\n",
    "                        new_X = np.append(new_X, new_col, axis=1)\n",
    "                        headers.append(\"(x%d < %f)\" % (id_col, point))\n",
    "                        \n",
    "        elif feature_type == \"binary\":\n",
    "            new_col = np.expand_dims(X[:, id_col], axis=1)\n",
    "        \n",
    "            new_X = np.append(new_X, new_col, axis=1)\n",
    "            headers.append(\"x%d\" % (id_col))\n",
    "\n",
    "            new_X = np.append(new_X, 1 - new_col, axis=1)\n",
    "            headers.append(\"(NOT x%d)\" % (id_col))\n",
    "        else:\n",
    "            raise Error\n",
    "        \n",
    "        return new_X\n",
    "    \n",
    "    def _preprocess_data(self, X):\n",
    "        \"\"\"\n",
    "        Discretize continuous features and extend with its negation for already binary features\n",
    "        Also make sure every features already have its negation in the data\n",
    "        \"\"\"\n",
    "        new_X = np.zeros((X.shape[0], 0))\n",
    "        headers = []\n",
    "        features = []\n",
    "        \n",
    "        disc = Orange.preprocess.discretize.EntropyMDL()\n",
    "        domain = Orange.data.Domain.from_numpy(X, y)\n",
    "        orange_table = Orange.data.Table.from_numpy(domain, X, y)\n",
    "        \n",
    "        for i, attr in enumerate(orange_table.domain.attributes):\n",
    "            if self._is_binary_array(X[:, i]):\n",
    "                new_X = self._append_X(\"binary\", new_X, X, i, headers)\n",
    "                features.append(Feature(\"binary\"))\n",
    "            else:\n",
    "                disc_attr = disc(orange_table, attr)\n",
    "                thresholds = disc_attr.compute_value.points\n",
    "                new_X = self._append_X(\"continuous\", new_X, X, i, headers, thresholds)\n",
    "                features.append(Feature(\"continuous\", thresholds))\n",
    "\n",
    "        return new_X, headers, features\n",
    "    \n",
    "    def _preprocess_test(self, X):\n",
    "        assert(X.shape[1] == len(self.features))\n",
    "        new_X = np.zeros((X.shape[0], 0))\n",
    "        for i, feature in enumerate(self.features):\n",
    "            if feature.feature_type == \"binary\":\n",
    "                new_X = self._append_X(\"binary\", new_X, X, i)\n",
    "            elif feature.feature_type == \"continuous\":\n",
    "                new_X = self._append_X(\"continuous\", new_X, X, i, thresholds=feature.thresholds)\n",
    "                \n",
    "        return new_X\n",
    "    \n",
    "    def fit(self, X, y):\n",
    "        \"\"\"\n",
    "        Parameters\n",
    "        ----------\n",
    "        X : 2D-array of shape (n_samples, n_features)\n",
    "            Training data\n",
    "        \n",
    "        y : 1D-array of shape (n_samples,) with values 0/1\n",
    "            Target class\n",
    "        \"\"\"\n",
    "        X, headers, features = self._preprocess_data(X)\n",
    "        n_features = X.shape[1]\n",
    "        self.n_features = n_features\n",
    "        self.headers = headers\n",
    "        self.features = features\n",
    "        \n",
    "        self._maxsat_solve(X, y)\n",
    "    \n",
    "    def predict(self, X):\n",
    "        \"\"\"\n",
    "        Parameters\n",
    "        ----------\n",
    "        X : 2D-array of shape (n_samples, n_features)\n",
    "            Samples.\n",
    "        \n",
    "        Returns\n",
    "        -------\n",
    "        C : 1D-array of shape (n_samples,)\n",
    "            Returns predicted values.\n",
    "        \"\"\"\n",
    "        \n",
    "        X = self._preprocess_test(X)\n",
    "        preds = np.matmul(X, self.B.T).prod(axis=1)\n",
    "        \n",
    "        return (preds > 0).astype(np.int)\n",
    "    \n",
    "    def _clause_to_str(self, clause):\n",
    "        n_features = self.n_features\n",
    "        headers = self.headers\n",
    "        literals = [headers[j] for j in range(n_features) if clause[j] == 1]\n",
    "        return \"[\" + \" OR \".join(literals) + \"]\"\n",
    "        \n",
    "    def get_rule(self):\n",
    "        unique_clauses = np.unique(self.B, axis = 0)\n",
    "        rules_array = [self._clause_to_str(clause) for clause in unique_clauses if clause.size > 0]\n",
    "        rule = \" AND \".join(rules_array)\n",
    "        return rule\n",
    "    \n",
    "imli = IMLI(n_clauses = 1, lamda = 1)\n",
    "imli.fit(X, y)"
   ]
  },
  {
   "cell_type": "code",
   "execution_count": 59,
   "metadata": {
    "execution": {
     "iopub.execute_input": "2020-10-10T00:42:25.077481Z",
     "iopub.status.busy": "2020-10-10T00:42:25.077152Z",
     "iopub.status.idle": "2020-10-10T00:42:25.137400Z",
     "shell.execute_reply": "2020-10-10T00:42:25.136749Z",
     "shell.execute_reply.started": "2020-10-10T00:42:25.077442Z"
    }
   },
   "outputs": [
    {
     "name": "stdout",
     "output_type": "stream",
     "text": [
      "[(x4 >= 0.041440)]\n",
      "              precision    recall  f1-score   support\n",
      "\n",
      "           0       0.53      1.00      0.69        67\n",
      "           1       1.00      0.79      0.88       284\n",
      "\n",
      "    accuracy                           0.83       351\n",
      "   macro avg       0.77      0.90      0.79       351\n",
      "weighted avg       0.91      0.83      0.85       351\n",
      "\n"
     ]
    }
   ],
   "source": [
    "preds = imli.predict(X)\n",
    "print(imli.get_rule())\n",
    "\n",
    "from sklearn.metrics import classification_report\n",
    "print(classification_report(preds, y))"
   ]
  },
  {
   "cell_type": "code",
   "execution_count": 61,
   "metadata": {
    "execution": {
     "iopub.execute_input": "2020-10-10T01:04:35.367770Z",
     "iopub.status.busy": "2020-10-10T01:04:35.367481Z",
     "iopub.status.idle": "2020-10-10T01:07:07.514803Z",
     "shell.execute_reply": "2020-10-10T01:07:07.512998Z",
     "shell.execute_reply.started": "2020-10-10T01:04:35.367745Z"
    }
   },
   "outputs": [
    {
     "name": "stdout",
     "output_type": "stream",
     "text": [
      "GENERATE SELESAI\n",
      "MAXSAT MULAI\n",
      "MAXSAT SELESAI\n",
      "[(x26 < 0.999945)] AND [(x4 >= 0.418075) OR (x22 >= 0.186570)]\n",
      "              precision    recall  f1-score   support\n",
      "\n",
      "           0       0.89      0.87      0.88       129\n",
      "           1       0.92      0.94      0.93       222\n",
      "\n",
      "    accuracy                           0.91       351\n",
      "   macro avg       0.91      0.90      0.90       351\n",
      "weighted avg       0.91      0.91      0.91       351\n",
      "\n"
     ]
    }
   ],
   "source": [
    "imli = IMLI(n_clauses = 2, lamda = 2)\n",
    "imli.fit(X, y)\n",
    "preds = imli.predict(X)\n",
    "print(imli.get_rule())\n",
    "\n",
    "from sklearn.metrics import classification_report\n",
    "print(classification_report(preds, y))"
   ]
  },
  {
   "cell_type": "code",
   "execution_count": 35,
   "metadata": {
    "execution": {
     "iopub.execute_input": "2020-10-09T23:58:31.171170Z",
     "iopub.status.busy": "2020-10-09T23:58:31.170756Z",
     "iopub.status.idle": "2020-10-09T23:58:31.197677Z",
     "shell.execute_reply": "2020-10-09T23:58:31.196962Z",
     "shell.execute_reply.started": "2020-10-09T23:58:31.171132Z"
    }
   },
   "outputs": [
    {
     "data": {
      "text/html": [
       "<div>\n",
       "<style scoped>\n",
       "    .dataframe tbody tr th:only-of-type {\n",
       "        vertical-align: middle;\n",
       "    }\n",
       "\n",
       "    .dataframe tbody tr th {\n",
       "        vertical-align: top;\n",
       "    }\n",
       "\n",
       "    .dataframe thead th {\n",
       "        text-align: right;\n",
       "    }\n",
       "</style>\n",
       "<table border=\"1\" class=\"dataframe\">\n",
       "  <thead>\n",
       "    <tr style=\"text-align: right;\">\n",
       "      <th></th>\n",
       "      <th>0</th>\n",
       "      <th>1</th>\n",
       "      <th>2</th>\n",
       "      <th>3</th>\n",
       "      <th>4</th>\n",
       "      <th>5</th>\n",
       "      <th>6</th>\n",
       "      <th>7</th>\n",
       "      <th>8</th>\n",
       "      <th>9</th>\n",
       "      <th>...</th>\n",
       "      <th>25</th>\n",
       "      <th>26</th>\n",
       "      <th>27</th>\n",
       "      <th>28</th>\n",
       "      <th>29</th>\n",
       "      <th>30</th>\n",
       "      <th>31</th>\n",
       "      <th>32</th>\n",
       "      <th>33</th>\n",
       "      <th>34</th>\n",
       "    </tr>\n",
       "  </thead>\n",
       "  <tbody>\n",
       "    <tr>\n",
       "      <th>0</th>\n",
       "      <td>1</td>\n",
       "      <td>0</td>\n",
       "      <td>0.99539</td>\n",
       "      <td>-0.05889</td>\n",
       "      <td>0.85243</td>\n",
       "      <td>0.02306</td>\n",
       "      <td>0.83398</td>\n",
       "      <td>-0.37708</td>\n",
       "      <td>1.00000</td>\n",
       "      <td>0.03760</td>\n",
       "      <td>...</td>\n",
       "      <td>-0.51171</td>\n",
       "      <td>0.41078</td>\n",
       "      <td>-0.46168</td>\n",
       "      <td>0.21266</td>\n",
       "      <td>-0.34090</td>\n",
       "      <td>0.42267</td>\n",
       "      <td>-0.54487</td>\n",
       "      <td>0.18641</td>\n",
       "      <td>-0.45300</td>\n",
       "      <td>g</td>\n",
       "    </tr>\n",
       "    <tr>\n",
       "      <th>1</th>\n",
       "      <td>1</td>\n",
       "      <td>0</td>\n",
       "      <td>1.00000</td>\n",
       "      <td>-0.18829</td>\n",
       "      <td>0.93035</td>\n",
       "      <td>-0.36156</td>\n",
       "      <td>-0.10868</td>\n",
       "      <td>-0.93597</td>\n",
       "      <td>1.00000</td>\n",
       "      <td>-0.04549</td>\n",
       "      <td>...</td>\n",
       "      <td>-0.26569</td>\n",
       "      <td>-0.20468</td>\n",
       "      <td>-0.18401</td>\n",
       "      <td>-0.19040</td>\n",
       "      <td>-0.11593</td>\n",
       "      <td>-0.16626</td>\n",
       "      <td>-0.06288</td>\n",
       "      <td>-0.13738</td>\n",
       "      <td>-0.02447</td>\n",
       "      <td>b</td>\n",
       "    </tr>\n",
       "    <tr>\n",
       "      <th>2</th>\n",
       "      <td>1</td>\n",
       "      <td>0</td>\n",
       "      <td>1.00000</td>\n",
       "      <td>-0.03365</td>\n",
       "      <td>1.00000</td>\n",
       "      <td>0.00485</td>\n",
       "      <td>1.00000</td>\n",
       "      <td>-0.12062</td>\n",
       "      <td>0.88965</td>\n",
       "      <td>0.01198</td>\n",
       "      <td>...</td>\n",
       "      <td>-0.40220</td>\n",
       "      <td>0.58984</td>\n",
       "      <td>-0.22145</td>\n",
       "      <td>0.43100</td>\n",
       "      <td>-0.17365</td>\n",
       "      <td>0.60436</td>\n",
       "      <td>-0.24180</td>\n",
       "      <td>0.56045</td>\n",
       "      <td>-0.38238</td>\n",
       "      <td>g</td>\n",
       "    </tr>\n",
       "    <tr>\n",
       "      <th>3</th>\n",
       "      <td>1</td>\n",
       "      <td>0</td>\n",
       "      <td>1.00000</td>\n",
       "      <td>-0.45161</td>\n",
       "      <td>1.00000</td>\n",
       "      <td>1.00000</td>\n",
       "      <td>0.71216</td>\n",
       "      <td>-1.00000</td>\n",
       "      <td>0.00000</td>\n",
       "      <td>0.00000</td>\n",
       "      <td>...</td>\n",
       "      <td>0.90695</td>\n",
       "      <td>0.51613</td>\n",
       "      <td>1.00000</td>\n",
       "      <td>1.00000</td>\n",
       "      <td>-0.20099</td>\n",
       "      <td>0.25682</td>\n",
       "      <td>1.00000</td>\n",
       "      <td>-0.32382</td>\n",
       "      <td>1.00000</td>\n",
       "      <td>b</td>\n",
       "    </tr>\n",
       "    <tr>\n",
       "      <th>4</th>\n",
       "      <td>1</td>\n",
       "      <td>0</td>\n",
       "      <td>1.00000</td>\n",
       "      <td>-0.02401</td>\n",
       "      <td>0.94140</td>\n",
       "      <td>0.06531</td>\n",
       "      <td>0.92106</td>\n",
       "      <td>-0.23255</td>\n",
       "      <td>0.77152</td>\n",
       "      <td>-0.16399</td>\n",
       "      <td>...</td>\n",
       "      <td>-0.65158</td>\n",
       "      <td>0.13290</td>\n",
       "      <td>-0.53206</td>\n",
       "      <td>0.02431</td>\n",
       "      <td>-0.62197</td>\n",
       "      <td>-0.05707</td>\n",
       "      <td>-0.59573</td>\n",
       "      <td>-0.04608</td>\n",
       "      <td>-0.65697</td>\n",
       "      <td>g</td>\n",
       "    </tr>\n",
       "  </tbody>\n",
       "</table>\n",
       "<p>5 rows × 35 columns</p>\n",
       "</div>"
      ],
      "text/plain": [
       "   0   1        2        3        4        5        6        7        8   \\\n",
       "0   1   0  0.99539 -0.05889  0.85243  0.02306  0.83398 -0.37708  1.00000   \n",
       "1   1   0  1.00000 -0.18829  0.93035 -0.36156 -0.10868 -0.93597  1.00000   \n",
       "2   1   0  1.00000 -0.03365  1.00000  0.00485  1.00000 -0.12062  0.88965   \n",
       "3   1   0  1.00000 -0.45161  1.00000  1.00000  0.71216 -1.00000  0.00000   \n",
       "4   1   0  1.00000 -0.02401  0.94140  0.06531  0.92106 -0.23255  0.77152   \n",
       "\n",
       "        9   ...       25       26       27       28       29       30  \\\n",
       "0  0.03760  ... -0.51171  0.41078 -0.46168  0.21266 -0.34090  0.42267   \n",
       "1 -0.04549  ... -0.26569 -0.20468 -0.18401 -0.19040 -0.11593 -0.16626   \n",
       "2  0.01198  ... -0.40220  0.58984 -0.22145  0.43100 -0.17365  0.60436   \n",
       "3  0.00000  ...  0.90695  0.51613  1.00000  1.00000 -0.20099  0.25682   \n",
       "4 -0.16399  ... -0.65158  0.13290 -0.53206  0.02431 -0.62197 -0.05707   \n",
       "\n",
       "        31       32       33  34  \n",
       "0 -0.54487  0.18641 -0.45300   g  \n",
       "1 -0.06288 -0.13738 -0.02447   b  \n",
       "2 -0.24180  0.56045 -0.38238   g  \n",
       "3  1.00000 -0.32382  1.00000   b  \n",
       "4 -0.59573 -0.04608 -0.65697   g  \n",
       "\n",
       "[5 rows x 35 columns]"
      ]
     },
     "metadata": {},
     "output_type": "display_data"
    }
   ],
   "source": [
    "import pandas as pd\n",
    "df = pd.read_csv(\"ionosphere.csv\", header=None)\n",
    "display(df.head())"
   ]
  },
  {
   "cell_type": "code",
   "execution_count": 36,
   "metadata": {
    "execution": {
     "iopub.execute_input": "2020-10-09T23:58:32.659044Z",
     "iopub.status.busy": "2020-10-09T23:58:32.658485Z",
     "iopub.status.idle": "2020-10-09T23:58:32.667938Z",
     "shell.execute_reply": "2020-10-09T23:58:32.666738Z",
     "shell.execute_reply.started": "2020-10-09T23:58:32.658990Z"
    }
   },
   "outputs": [],
   "source": [
    "import numpy as np\n",
    "import Orange\n",
    "\n",
    "df_numpy = df.values\n",
    "X = df_numpy[:, :-1]\n",
    "y = np.array([1 if u == 'g' else 0 for u in df_numpy[:, -1]])\n",
    "domain = Orange.data.Domain.from_numpy(X, y)\n",
    "ionosphere_table = Orange.data.Table.from_numpy(domain, X, y)"
   ]
  },
  {
   "cell_type": "code",
   "execution_count": 37,
   "metadata": {
    "execution": {
     "iopub.execute_input": "2020-10-09T23:58:34.116215Z",
     "iopub.status.busy": "2020-10-09T23:58:34.115935Z",
     "iopub.status.idle": "2020-10-09T23:58:34.186361Z",
     "shell.execute_reply": "2020-10-09T23:58:34.185485Z",
     "shell.execute_reply.started": "2020-10-09T23:58:34.116189Z"
    }
   },
   "outputs": [
    {
     "data": {
      "text/plain": [
       "array([[1, 0],\n",
       "       [1, 0],\n",
       "       [1, 0],\n",
       "       [1, 0],\n",
       "       [1, 0]], dtype=object)"
      ]
     },
     "metadata": {},
     "output_type": "display_data"
    },
    {
     "data": {
      "text/plain": [
       "['x0',\n",
       " 'x1',\n",
       " 'x2 >= 0.190280',\n",
       " 'x2 >= 0.739470',\n",
       " 'x2 >= 0.998505',\n",
       " 'x2 < 0.190280',\n",
       " 'x2 < 0.739470',\n",
       " 'x2 < 0.998505',\n",
       " 'x3 >= -0.609635',\n",
       " 'x3 >= -0.000170',\n",
       " 'x3 >= 0.007075',\n",
       " 'x3 >= 0.746850',\n",
       " 'x3 < -0.609635',\n",
       " 'x3 < -0.000170',\n",
       " 'x3 < 0.007075',\n",
       " 'x3 < 0.746850',\n",
       " 'x4 >= 0.041440',\n",
       " 'x4 >= 0.418075',\n",
       " 'x4 >= 0.995175',\n",
       " 'x4 < 0.041440',\n",
       " 'x4 < 0.418075',\n",
       " 'x4 < 0.995175',\n",
       " 'x5 >= -0.795310',\n",
       " 'x5 >= -0.217515',\n",
       " 'x5 >= -0.000715',\n",
       " 'x5 >= 0.001010',\n",
       " 'x5 >= 0.825090',\n",
       " 'x5 < -0.795310',\n",
       " 'x5 < -0.217515',\n",
       " 'x5 < -0.000715',\n",
       " 'x5 < 0.001010',\n",
       " 'x5 < 0.825090',\n",
       " 'x6 >= 0.029375',\n",
       " 'x6 >= 0.999995',\n",
       " 'x6 < 0.029375',\n",
       " 'x6 < 0.999995',\n",
       " 'x7 >= -0.983575',\n",
       " 'x7 >= -0.000375',\n",
       " 'x7 >= 0.000985',\n",
       " 'x7 >= 0.994515',\n",
       " 'x7 < -0.983575',\n",
       " 'x7 < -0.000375',\n",
       " 'x7 < 0.000985',\n",
       " 'x7 < 0.994515',\n",
       " 'x8 >= -0.704705',\n",
       " 'x8 >= -0.036395',\n",
       " 'x8 >= 0.011975',\n",
       " 'x8 >= 0.055610',\n",
       " 'x8 < -0.704705',\n",
       " 'x8 < -0.036395',\n",
       " 'x8 < 0.011975',\n",
       " 'x8 < 0.055610',\n",
       " 'x9 >= -0.572990',\n",
       " 'x9 >= 0.591395',\n",
       " 'x9 >= 0.989100',\n",
       " 'x9 < -0.572990',\n",
       " 'x9 < 0.591395',\n",
       " 'x9 < 0.989100',\n",
       " 'x10 >= -0.915760',\n",
       " 'x10 >= -0.010580',\n",
       " 'x10 >= 0.087130',\n",
       " 'x10 >= 0.999100',\n",
       " 'x10 < -0.915760',\n",
       " 'x10 < -0.010580',\n",
       " 'x10 < 0.087130',\n",
       " 'x10 < 0.999100',\n",
       " 'x11 >= -0.562930',\n",
       " 'x11 >= -0.000270',\n",
       " 'x11 >= 0.001845',\n",
       " 'x11 >= 0.981525',\n",
       " 'x11 < -0.562930',\n",
       " 'x11 < -0.000270',\n",
       " 'x11 < 0.001845',\n",
       " 'x11 < 0.981525',\n",
       " 'x12 >= -0.969410',\n",
       " 'x12 >= -0.076515',\n",
       " 'x12 >= 0.015670',\n",
       " 'x12 >= 0.354740',\n",
       " 'x12 >= 0.998725',\n",
       " 'x12 < -0.969410',\n",
       " 'x12 < -0.076515',\n",
       " 'x12 < 0.015670',\n",
       " 'x12 < 0.354740',\n",
       " 'x12 < 0.998725',\n",
       " 'x13 >= -0.554585',\n",
       " 'x13 >= 0.652535',\n",
       " 'x13 >= 0.975650',\n",
       " 'x13 < -0.554585',\n",
       " 'x13 < 0.652535',\n",
       " 'x13 < 0.975650',\n",
       " 'x14 >= -0.988250',\n",
       " 'x14 >= -0.028300',\n",
       " 'x14 >= 0.239955',\n",
       " 'x14 >= 0.999140',\n",
       " 'x14 < -0.988250',\n",
       " 'x14 < -0.028300',\n",
       " 'x14 < 0.239955',\n",
       " 'x14 < 0.999140',\n",
       " 'x15 >= -0.905170',\n",
       " 'x15 >= -0.001970',\n",
       " 'x15 >= 0.001430',\n",
       " 'x15 >= 0.968410',\n",
       " 'x15 < -0.905170',\n",
       " 'x15 < -0.001970',\n",
       " 'x15 < 0.001430',\n",
       " 'x15 < 0.968410',\n",
       " 'x16 >= -0.961770',\n",
       " 'x16 >= -0.572730',\n",
       " 'x16 >= -0.054150',\n",
       " 'x16 >= 0.292070',\n",
       " 'x16 >= 0.998150',\n",
       " 'x16 < -0.961770',\n",
       " 'x16 < -0.572730',\n",
       " 'x16 < -0.054150',\n",
       " 'x16 < 0.292070',\n",
       " 'x16 < 0.998150',\n",
       " 'x17 >= -0.805795',\n",
       " 'x17 >= 0.993610',\n",
       " 'x17 < -0.805795',\n",
       " 'x17 < 0.993610',\n",
       " 'x18 >= -0.989535',\n",
       " 'x18 >= -0.043910',\n",
       " 'x18 >= 0.121830',\n",
       " 'x18 >= 0.467840',\n",
       " 'x18 >= 0.998845',\n",
       " 'x18 < -0.989535',\n",
       " 'x18 < -0.043910',\n",
       " 'x18 < 0.121830',\n",
       " 'x18 < 0.467840',\n",
       " 'x18 < 0.998845',\n",
       " 'x19 >= -0.912755',\n",
       " 'x19 >= 0.975495',\n",
       " 'x19 < -0.912755',\n",
       " 'x19 < 0.975495',\n",
       " 'x20 >= -0.957365',\n",
       " 'x20 >= -0.000015',\n",
       " 'x20 >= 0.072060',\n",
       " 'x20 >= 0.998880',\n",
       " 'x20 < -0.957365',\n",
       " 'x20 < -0.000015',\n",
       " 'x20 < 0.072060',\n",
       " 'x20 < 0.998880',\n",
       " 'x21 >= -0.967980',\n",
       " 'x21 >= -0.001400',\n",
       " 'x21 >= 0.000375',\n",
       " 'x21 >= 0.923655',\n",
       " 'x21 < -0.967980',\n",
       " 'x21 < -0.001400',\n",
       " 'x21 < 0.000375',\n",
       " 'x21 < 0.923655',\n",
       " 'x22 >= -0.968090',\n",
       " 'x22 >= -0.009200',\n",
       " 'x22 >= 0.186570',\n",
       " 'x22 >= 0.999665',\n",
       " 'x22 < -0.968090',\n",
       " 'x22 < -0.009200',\n",
       " 'x22 < 0.186570',\n",
       " 'x22 < 0.999665',\n",
       " 'x23 >= -0.987455',\n",
       " 'x23 >= 0.897470',\n",
       " 'x23 < -0.987455',\n",
       " 'x23 < 0.897470',\n",
       " 'x24 >= -0.878390',\n",
       " 'x24 >= -0.000170',\n",
       " 'x24 >= 0.087220',\n",
       " 'x24 >= 0.999495',\n",
       " 'x24 < -0.878390',\n",
       " 'x24 < -0.000170',\n",
       " 'x24 < 0.087220',\n",
       " 'x24 < 0.999495',\n",
       " 'x25 >= -0.981480',\n",
       " 'x25 >= 0.802450',\n",
       " 'x25 < -0.981480',\n",
       " 'x25 < 0.802450',\n",
       " 'x26 >= 0.528120',\n",
       " 'x26 >= 0.999945',\n",
       " 'x26 < 0.528120',\n",
       " 'x26 < 0.999945',\n",
       " 'x27 >= -0.936175',\n",
       " 'x27 >= 0.860220',\n",
       " 'x27 < -0.936175',\n",
       " 'x27 < 0.860220',\n",
       " 'x28 >= -0.911830',\n",
       " 'x28 >= -0.000090',\n",
       " 'x28 >= 0.067790',\n",
       " 'x28 >= 0.997000',\n",
       " 'x28 < -0.911830',\n",
       " 'x28 < -0.000090',\n",
       " 'x28 < 0.067790',\n",
       " 'x28 < 0.997000',\n",
       " 'x29 >= -0.914280',\n",
       " 'x29 >= 0.930305',\n",
       " 'x29 < -0.914280',\n",
       " 'x29 < 0.930305',\n",
       " 'x30 >= -0.848480',\n",
       " 'x30 >= -0.167100',\n",
       " 'x30 >= 0.132415',\n",
       " 'x30 >= 0.995560',\n",
       " 'x30 < -0.848480',\n",
       " 'x30 < -0.167100',\n",
       " 'x30 < 0.132415',\n",
       " 'x30 < 0.995560',\n",
       " 'x31 >= -0.969765',\n",
       " 'x31 >= 0.870760',\n",
       " 'x31 < -0.969765',\n",
       " 'x31 < 0.870760',\n",
       " 'x32 >= -0.959515',\n",
       " 'x32 >= -0.000040',\n",
       " 'x32 >= 0.000200',\n",
       " 'x32 >= 0.994855',\n",
       " 'x32 < -0.959515',\n",
       " 'x32 < -0.000040',\n",
       " 'x32 < 0.000200',\n",
       " 'x32 < 0.994855',\n",
       " 'x33 >= -0.974115',\n",
       " 'x33 >= -0.000030',\n",
       " 'x33 >= 0.005400',\n",
       " 'x33 >= 0.950980',\n",
       " 'x33 < -0.974115',\n",
       " 'x33 < -0.000030',\n",
       " 'x33 < 0.005400',\n",
       " 'x33 < 0.950980']"
      ]
     },
     "metadata": {},
     "output_type": "display_data"
    }
   ],
   "source": [
    "imli = IMLI(n_clauses = 3, lamda = 3)\n",
    "imli.fit(X, y)"
   ]
  },
  {
   "cell_type": "code",
   "execution_count": 33,
   "metadata": {
    "execution": {
     "iopub.execute_input": "2020-10-09T23:58:01.091307Z",
     "iopub.status.busy": "2020-10-09T23:58:01.090829Z",
     "iopub.status.idle": "2020-10-09T23:58:01.096872Z",
     "shell.execute_reply": "2020-10-09T23:58:01.095979Z",
     "shell.execute_reply.started": "2020-10-09T23:58:01.091247Z"
    }
   },
   "outputs": [],
   "source": [
    "disc = Orange.preprocess.discretize.EntropyMDL()\n",
    "# disc.method = Orange.preprocess.discretize.EntropyMDL()\n",
    "\n",
    "disc_ion = disc(ionosphere_table, \"Feature 02\")\n",
    "# display(type(disc_ion[:, 0]))\n",
    "# display(disc_ion[:, 0])\n",
    "# display(disc_ion.domain)\n",
    "# display(disc_ion.domain.attributes[32].compute_value.points)\n",
    "# display(disc_ion)\n",
    "# display(ionosphere_table.domain.attributes)"
   ]
  },
  {
   "cell_type": "code",
   "execution_count": 8,
   "metadata": {
    "execution": {
     "iopub.execute_input": "2020-10-04T12:15:08.698053Z",
     "iopub.status.busy": "2020-10-04T12:15:08.697702Z",
     "iopub.status.idle": "2020-10-04T12:15:08.924229Z",
     "shell.execute_reply": "2020-10-04T12:15:08.923434Z",
     "shell.execute_reply.started": "2020-10-04T12:15:08.698025Z"
    }
   },
   "outputs": [
    {
     "data": {
      "text/plain": [
       "array([[1., 0., 1., ..., 1., 1., 1.],\n",
       "       [1., 0., 1., ..., 1., 1., 1.],\n",
       "       [1., 0., 1., ..., 1., 1., 1.],\n",
       "       ...,\n",
       "       [1., 0., 1., ..., 1., 1., 1.],\n",
       "       [1., 0., 1., ..., 1., 1., 1.],\n",
       "       [1., 0., 1., ..., 1., 1., 1.]])"
      ]
     },
     "metadata": {},
     "output_type": "display_data"
    },
    {
     "data": {
      "text/plain": [
       "(351, 222)"
      ]
     },
     "metadata": {},
     "output_type": "display_data"
    },
    {
     "data": {
      "text/plain": [
       "['x0 >= 0.500000',\n",
       " 'x0 < 0.500000',\n",
       " 'x2 >= 0.190280',\n",
       " 'x2 >= 0.739470',\n",
       " 'x2 >= 0.998505',\n",
       " 'x2 < 0.190280',\n",
       " 'x2 < 0.739470',\n",
       " 'x2 < 0.998505',\n",
       " 'x3 >= -0.609635',\n",
       " 'x3 >= -0.000170']"
      ]
     },
     "metadata": {},
     "output_type": "display_data"
    }
   ],
   "source": [
    "def append_X(X, np_table, col, thresholds, columns):\n",
    "    for sign in (\">=\", \"<\"):\n",
    "        for point in thresholds:\n",
    "            if sign == \">=\":\n",
    "                new_col = (np.expand_dims(np_table[:, i], axis=1) >= point).astype(np.int)\n",
    "                X = np.append(X, new_col, axis=1)\n",
    "                columns.append(\"x%d >= %f\" % (i, point))\n",
    "            elif sign == \"<\":\n",
    "                new_col = (np.expand_dims(np_table[:, i], axis=1) < point).astype(np.int)\n",
    "                X = np.append(X, new_col, axis=1)\n",
    "                columns.append(\"x%d < %f\" % (i, point))\n",
    "                \n",
    "    return X\n",
    "\n",
    "disc = Orange.preprocess.discretize.EntropyMDL()\n",
    "new_X = np.zeros((X.shape[0], 0))\n",
    "columns = []\n",
    "for i, attr in enumerate(ionosphere_table.domain.attributes):\n",
    "    # all var is ContinuousVariable\n",
    "    disc_attr = disc(ionosphere_table, attr)\n",
    "    thresholds = disc_attr.compute_value.points\n",
    "#     new_X = np.append(new_X, np.expand_dims(df_numpy[:, i], axis=1), axis=1)\n",
    "    new_X = append_X(new_X, df_numpy, i, thresholds, columns)\n",
    "    \n",
    "display(new_X)\n",
    "display(new_X.shape)\n",
    "display(columns[:10])"
   ]
  },
  {
   "cell_type": "code",
   "execution_count": 9,
   "metadata": {
    "execution": {
     "iopub.execute_input": "2020-10-04T12:15:08.925615Z",
     "iopub.status.busy": "2020-10-04T12:15:08.925387Z",
     "iopub.status.idle": "2020-10-04T12:15:08.967061Z",
     "shell.execute_reply": "2020-10-04T12:15:08.966310Z",
     "shell.execute_reply.started": "2020-10-04T12:15:08.925595Z"
    }
   },
   "outputs": [],
   "source": [
    "# imli = IMLI(n_clauses = 2, lamda = 2)\n",
    "# imli.fit(new_X, y)\n",
    "# imli.get_rule()"
   ]
  },
  {
   "cell_type": "code",
   "execution_count": 10,
   "metadata": {
    "execution": {
     "iopub.execute_input": "2020-10-04T12:15:08.968121Z",
     "iopub.status.busy": "2020-10-04T12:15:08.967917Z",
     "iopub.status.idle": "2020-10-04T12:15:09.124665Z",
     "shell.execute_reply": "2020-10-04T12:15:09.122155Z",
     "shell.execute_reply.started": "2020-10-04T12:15:08.968100Z"
    }
   },
   "outputs": [],
   "source": [
    "# preds = imli.predict(new_X)"
   ]
  },
  {
   "cell_type": "code",
   "execution_count": 11,
   "metadata": {
    "execution": {
     "iopub.execute_input": "2020-10-04T12:15:09.129329Z",
     "iopub.status.busy": "2020-10-04T12:15:09.128435Z",
     "iopub.status.idle": "2020-10-04T12:15:09.220981Z",
     "shell.execute_reply": "2020-10-04T12:15:09.220109Z",
     "shell.execute_reply.started": "2020-10-04T12:15:09.129251Z"
    }
   },
   "outputs": [],
   "source": [
    "# display(preds)"
   ]
  },
  {
   "cell_type": "code",
   "execution_count": 12,
   "metadata": {
    "execution": {
     "iopub.execute_input": "2020-10-04T12:15:09.222444Z",
     "iopub.status.busy": "2020-10-04T12:15:09.222121Z",
     "iopub.status.idle": "2020-10-04T12:15:09.365707Z",
     "shell.execute_reply": "2020-10-04T12:15:09.364722Z",
     "shell.execute_reply.started": "2020-10-04T12:15:09.222415Z"
    }
   },
   "outputs": [],
   "source": [
    "# from sklearn.metrics import classification_report\n",
    "# print(classification_report(preds, y))"
   ]
  },
  {
   "cell_type": "code",
   "execution_count": 13,
   "metadata": {
    "execution": {
     "iopub.execute_input": "2020-10-04T12:15:09.367630Z",
     "iopub.status.busy": "2020-10-04T12:15:09.367136Z",
     "iopub.status.idle": "2020-10-04T12:15:09.515656Z",
     "shell.execute_reply": "2020-10-04T12:15:09.514885Z",
     "shell.execute_reply.started": "2020-10-04T12:15:09.367580Z"
    }
   },
   "outputs": [
    {
     "data": {
      "text/plain": [
       "array([[1., 0., 1., ..., 1., 1., 1.],\n",
       "       [1., 0., 1., ..., 1., 1., 1.],\n",
       "       [1., 0., 1., ..., 1., 1., 1.],\n",
       "       ...,\n",
       "       [1., 0., 1., ..., 1., 1., 1.],\n",
       "       [1., 0., 1., ..., 1., 1., 1.],\n",
       "       [1., 0., 1., ..., 1., 1., 1.]])"
      ]
     },
     "metadata": {},
     "output_type": "display_data"
    },
    {
     "data": {
      "text/plain": [
       "array([1, 0, 1, 0, 1, 0, 1, 0, 1, 0, 1, 0, 1, 0, 1, 0, 1, 0, 1, 0, 1, 0,\n",
       "       1, 0, 1, 0, 1, 0, 1, 0, 1, 0, 1, 0, 1, 0, 1, 0, 1, 0, 1, 0, 1, 0,\n",
       "       1, 0, 1, 0, 1, 0, 1, 0, 1, 0, 1, 0, 1, 0, 1, 0, 1, 0, 1, 0, 1, 0,\n",
       "       1, 0, 1, 0, 1, 0, 1, 0, 1, 0, 1, 0, 1, 0, 1, 0, 1, 0, 1, 0, 1, 0,\n",
       "       1, 0, 1, 0, 1, 0, 1, 0, 1, 1, 0, 1, 0, 1, 0, 1, 0, 1, 0, 1, 0, 1,\n",
       "       0, 1, 0, 1, 0, 1, 0, 1, 0, 1, 0, 1, 0, 1, 0, 1, 0, 1, 0, 1, 0, 1,\n",
       "       0, 1, 0, 1, 0, 1, 0, 1, 0, 1, 0, 1, 0, 1, 0, 1, 0, 1, 0, 1, 0, 1,\n",
       "       0, 1, 0, 1, 0, 1, 0, 1, 0, 1, 0, 1, 0, 1, 0, 1, 0, 1, 0, 1, 0, 1,\n",
       "       0, 1, 0, 1, 0, 1, 0, 1, 0, 1, 0, 1, 0, 1, 0, 1, 0, 1, 0, 1, 0, 1,\n",
       "       0, 1, 0, 1, 0, 1, 0, 1, 0, 1, 0, 1, 0, 1, 0, 1, 0, 1, 0, 1, 0, 1,\n",
       "       0, 1, 0, 1, 0, 1, 0, 1, 0, 1, 0, 1, 0, 1, 0, 1, 0, 1, 0, 1, 0, 1,\n",
       "       0, 1, 0, 1, 0, 1, 0, 1, 0, 1, 0, 1, 1, 1, 1, 1, 1, 1, 1, 1, 1, 1,\n",
       "       1, 1, 1, 1, 1, 1, 1, 1, 1, 1, 1, 1, 1, 1, 1, 1, 1, 1, 1, 1, 1, 1,\n",
       "       1, 1, 1, 1, 1, 1, 1, 1, 1, 1, 1, 1, 1, 1, 1, 1, 1, 1, 1, 1, 1, 1,\n",
       "       1, 1, 1, 1, 1, 1, 1, 1, 1, 1, 1, 1, 1, 1, 1, 1, 1, 1, 1, 1, 1, 1,\n",
       "       1, 1, 1, 1, 1, 1, 1, 1, 1, 1, 1, 1, 1, 1, 1, 1, 1, 1, 1, 1, 1])"
      ]
     },
     "metadata": {},
     "output_type": "display_data"
    }
   ],
   "source": [
    "display(new_X)\n",
    "display(y)"
   ]
  },
  {
   "cell_type": "code",
   "execution_count": 15,
   "metadata": {
    "execution": {
     "iopub.execute_input": "2020-10-04T12:19:45.176760Z",
     "iopub.status.busy": "2020-10-04T12:19:45.176317Z",
     "iopub.status.idle": "2020-10-04T12:36:10.056796Z",
     "shell.execute_reply": "2020-10-04T12:36:10.055789Z",
     "shell.execute_reply.started": "2020-10-04T12:19:45.176705Z"
    }
   },
   "outputs": [
    {
     "data": {
      "text/plain": [
       "(280, 222)"
      ]
     },
     "metadata": {},
     "output_type": "display_data"
    },
    {
     "data": {
      "text/plain": [
       "(71, 222)"
      ]
     },
     "metadata": {},
     "output_type": "display_data"
    },
    {
     "name": "stdout",
     "output_type": "stream",
     "text": [
      "GENERATE SELESAI\n",
      "MAXSAT MULAI\n",
      "MAXSAT SELESAI\n",
      "[(NOT x20)] AND [x22 OR x148 OR x178]\n",
      "              precision    recall  f1-score   support\n",
      "\n",
      "           0       0.75      0.94      0.83        16\n",
      "           1       0.98      0.91      0.94        55\n",
      "\n",
      "    accuracy                           0.92        71\n",
      "   macro avg       0.87      0.92      0.89        71\n",
      "weighted avg       0.93      0.92      0.92        71\n",
      "\n"
     ]
    }
   ],
   "source": [
    "from sklearn.model_selection import train_test_split\n",
    "\n",
    "X_train, X_test, y_train, y_test = train_test_split(new_X, y, test_size = 0.2)\n",
    "display(X_train.shape)\n",
    "display(X_test.shape)\n",
    "\n",
    "imli = IMLI(n_clauses = 2, lamda = 2)\n",
    "imli.fit(X_train, y_train)\n",
    "print(imli.get_rule())\n",
    "\n",
    "preds = imli.predict(X_test)\n",
    "\n",
    "from sklearn.metrics import classification_report\n",
    "print(classification_report(preds, y_test))"
   ]
  }
 ],
 "metadata": {
  "kernelspec": {
   "display_name": "imli-env",
   "language": "python",
   "name": "imli-env"
  },
  "language_info": {
   "codemirror_mode": {
    "name": "ipython",
    "version": 3
   },
   "file_extension": ".py",
   "mimetype": "text/x-python",
   "name": "python",
   "nbconvert_exporter": "python",
   "pygments_lexer": "ipython3",
   "version": "3.8.5"
  }
 },
 "nbformat": 4,
 "nbformat_minor": 4
}
