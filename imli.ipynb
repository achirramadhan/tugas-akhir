{
 "cells": [
  {
   "cell_type": "code",
   "execution_count": 1,
   "metadata": {
    "ExecuteTime": {
     "end_time": "2020-10-18T10:45:50.404012Z",
     "start_time": "2020-10-18T10:45:49.744281Z"
    },
    "execution": {
     "iopub.status.idle": "2020-10-28T10:20:49.855786Z",
     "shell.execute_reply": "2020-10-28T10:20:49.853117Z",
     "shell.execute_reply.started": "2020-10-28T10:20:40.436857Z"
    }
   },
   "outputs": [],
   "source": [
    "import numpy as np\n",
    "import Orange\n",
    "import os"
   ]
  },
  {
   "cell_type": "code",
   "execution_count": 2,
   "metadata": {
    "ExecuteTime": {
     "end_time": "2020-10-18T10:45:50.425967Z",
     "start_time": "2020-10-18T10:45:50.405414Z"
    },
    "execution": {
     "iopub.execute_input": "2020-10-28T10:20:49.864804Z",
     "iopub.status.busy": "2020-10-28T10:20:49.864551Z",
     "iopub.status.idle": "2020-10-28T10:20:50.357464Z",
     "shell.execute_reply": "2020-10-28T10:20:50.355257Z",
     "shell.execute_reply.started": "2020-10-28T10:20:49.864779Z"
    }
   },
   "outputs": [
    {
     "data": {
      "text/html": [
       "<div>\n",
       "<style scoped>\n",
       "    .dataframe tbody tr th:only-of-type {\n",
       "        vertical-align: middle;\n",
       "    }\n",
       "\n",
       "    .dataframe tbody tr th {\n",
       "        vertical-align: top;\n",
       "    }\n",
       "\n",
       "    .dataframe thead th {\n",
       "        text-align: right;\n",
       "    }\n",
       "</style>\n",
       "<table border=\"1\" class=\"dataframe\">\n",
       "  <thead>\n",
       "    <tr style=\"text-align: right;\">\n",
       "      <th></th>\n",
       "      <th>x1</th>\n",
       "      <th>x2</th>\n",
       "      <th>x3</th>\n",
       "      <th>x4</th>\n",
       "      <th>y</th>\n",
       "    </tr>\n",
       "  </thead>\n",
       "  <tbody>\n",
       "    <tr>\n",
       "      <th>0</th>\n",
       "      <td>1</td>\n",
       "      <td>0</td>\n",
       "      <td>0</td>\n",
       "      <td>1</td>\n",
       "      <td>1</td>\n",
       "    </tr>\n",
       "    <tr>\n",
       "      <th>1</th>\n",
       "      <td>0</td>\n",
       "      <td>0</td>\n",
       "      <td>1</td>\n",
       "      <td>0</td>\n",
       "      <td>1</td>\n",
       "    </tr>\n",
       "    <tr>\n",
       "      <th>2</th>\n",
       "      <td>0</td>\n",
       "      <td>0</td>\n",
       "      <td>1</td>\n",
       "      <td>1</td>\n",
       "      <td>0</td>\n",
       "    </tr>\n",
       "    <tr>\n",
       "      <th>3</th>\n",
       "      <td>1</td>\n",
       "      <td>1</td>\n",
       "      <td>1</td>\n",
       "      <td>1</td>\n",
       "      <td>0</td>\n",
       "    </tr>\n",
       "  </tbody>\n",
       "</table>\n",
       "</div>"
      ],
      "text/plain": [
       "   x1  x2  x3  x4  y\n",
       "0   1   0   0   1  1\n",
       "1   0   0   1   0  1\n",
       "2   0   0   1   1  0\n",
       "3   1   1   1   1  0"
      ]
     },
     "metadata": {},
     "output_type": "display_data"
    },
    {
     "name": "stdout",
     "output_type": "stream",
     "text": [
      "<class 'numpy.ndarray'>\n"
     ]
    },
    {
     "data": {
      "text/plain": [
       "array([[1, 0, 0, 1],\n",
       "       [0, 0, 1, 0],\n",
       "       [0, 0, 1, 1],\n",
       "       [1, 1, 1, 1]])"
      ]
     },
     "metadata": {},
     "output_type": "display_data"
    },
    {
     "name": "stdout",
     "output_type": "stream",
     "text": [
      "<class 'numpy.ndarray'>\n"
     ]
    },
    {
     "data": {
      "text/plain": [
       "array([1, 1, 0, 0])"
      ]
     },
     "metadata": {},
     "output_type": "display_data"
    }
   ],
   "source": [
    "import pandas as pd\n",
    "df = pd.read_csv(\"test.csv\")\n",
    "display(df)\n",
    "\n",
    "X = df.drop('y', axis=1).values\n",
    "print(type(X))\n",
    "display(X)\n",
    "\n",
    "y = df['y'].values\n",
    "print(type(y))\n",
    "display(y)"
   ]
  },
  {
   "cell_type": "code",
   "execution_count": 3,
   "metadata": {
    "ExecuteTime": {
     "end_time": "2020-10-18T10:45:50.698711Z",
     "start_time": "2020-10-18T10:45:50.427434Z"
    },
    "execution": {
     "iopub.execute_input": "2020-10-28T10:20:50.361519Z",
     "iopub.status.busy": "2020-10-28T10:20:50.360945Z",
     "iopub.status.idle": "2020-10-28T10:20:52.146729Z",
     "shell.execute_reply": "2020-10-28T10:20:52.145549Z",
     "shell.execute_reply.started": "2020-10-28T10:20:50.361463Z"
    }
   },
   "outputs": [
    {
     "name": "stdout",
     "output_type": "stream",
     "text": [
      "ITERASI 1\n",
      "MAXSAT SOLVER PROCESSING\n",
      "MAXSAT SOLVER DONE\n",
      "[(NOT X2)]\n",
      "------------------------------\n",
      "ITERASI 2\n",
      "MAXSAT SOLVER PROCESSING\n",
      "MAXSAT SOLVER DONE\n",
      "[(NOT X2)]\n",
      "------------------------------\n"
     ]
    }
   ],
   "source": [
    "from IMLI import IMLI\n",
    "\n",
    "imli = IMLI(n_clauses=1, lamda=1, solver=\"maxhs\", n_partitions=2)\n",
    "imli.fit(X, y)"
   ]
  },
  {
   "cell_type": "code",
   "execution_count": 4,
   "metadata": {
    "ExecuteTime": {
     "end_time": "2020-10-18T10:45:50.709955Z",
     "start_time": "2020-10-18T10:45:50.701097Z"
    },
    "execution": {
     "iopub.execute_input": "2020-10-28T10:20:52.149238Z",
     "iopub.status.busy": "2020-10-28T10:20:52.148696Z",
     "iopub.status.idle": "2020-10-28T10:20:52.162114Z",
     "shell.execute_reply": "2020-10-28T10:20:52.161342Z",
     "shell.execute_reply.started": "2020-10-28T10:20:52.149140Z"
    }
   },
   "outputs": [
    {
     "name": "stdout",
     "output_type": "stream",
     "text": [
      "[(NOT X2)]\n",
      "              precision    recall  f1-score   support\n",
      "\n",
      "           0       1.00      0.67      0.80         3\n",
      "           1       0.50      1.00      0.67         1\n",
      "\n",
      "    accuracy                           0.75         4\n",
      "   macro avg       0.75      0.83      0.73         4\n",
      "weighted avg       0.88      0.75      0.77         4\n",
      "\n"
     ]
    }
   ],
   "source": [
    "preds = imli.predict(X)\n",
    "print(imli.get_rule())\n",
    "\n",
    "from sklearn.metrics import classification_report\n",
    "print(classification_report(preds, y))"
   ]
  },
  {
   "cell_type": "code",
   "execution_count": 5,
   "metadata": {
    "ExecuteTime": {
     "end_time": "2020-10-18T10:45:50.811048Z",
     "start_time": "2020-10-18T10:45:50.711636Z"
    },
    "execution": {
     "iopub.execute_input": "2020-10-28T10:20:52.163301Z",
     "iopub.status.busy": "2020-10-28T10:20:52.163043Z",
     "iopub.status.idle": "2020-10-28T10:20:52.514766Z",
     "shell.execute_reply": "2020-10-28T10:20:52.513092Z",
     "shell.execute_reply.started": "2020-10-28T10:20:52.163276Z"
    }
   },
   "outputs": [
    {
     "name": "stdout",
     "output_type": "stream",
     "text": [
      "ITERASI 1\n",
      "MAXSAT SOLVER PROCESSING\n",
      "MAXSAT SOLVER DONE\n",
      "[(NOT X2) OR (NOT X3)] AND [(NOT X1)]\n",
      "------------------------------\n",
      "[(NOT X2) OR (NOT X3)] AND [(NOT X1)]\n",
      "              precision    recall  f1-score   support\n",
      "\n",
      "           0       1.00      1.00      1.00         2\n",
      "           1       1.00      1.00      1.00         2\n",
      "\n",
      "    accuracy                           1.00         4\n",
      "   macro avg       1.00      1.00      1.00         4\n",
      "weighted avg       1.00      1.00      1.00         4\n",
      "\n"
     ]
    }
   ],
   "source": [
    "imli = IMLI(n_clauses = 2, lamda = 2)\n",
    "imli.fit(X, y)\n",
    "preds = imli.predict(X)\n",
    "print(imli.get_rule())\n",
    "\n",
    "from sklearn.metrics import classification_report\n",
    "print(classification_report(preds, y))\n",
    "\n",
    "# raise Exception(\"Berhenti saja hehehe\")"
   ]
  },
  {
   "cell_type": "code",
   "execution_count": 6,
   "metadata": {
    "ExecuteTime": {
     "end_time": "2020-10-18T10:49:35.191612Z",
     "start_time": "2020-10-18T10:49:34.909318Z"
    },
    "execution": {
     "iopub.execute_input": "2020-10-28T10:20:52.517298Z",
     "iopub.status.busy": "2020-10-28T10:20:52.516771Z",
     "iopub.status.idle": "2020-10-28T10:22:08.771899Z",
     "shell.execute_reply": "2020-10-28T10:22:08.770736Z",
     "shell.execute_reply.started": "2020-10-28T10:20:52.517234Z"
    }
   },
   "outputs": [
    {
     "name": "stdout",
     "output_type": "stream",
     "text": [
      "280\n",
      "280\n",
      "ITERASI 1\n",
      "MAXSAT SOLVER PROCESSING\n",
      "MAXSAT SOLVER DONE\n",
      "[(X4 >= 0.145975)] AND [(X26 < 0.995940)]\n",
      "------------------------------\n",
      "              precision    recall  f1-score   support\n",
      "\n",
      "           0       0.00      0.00      0.00         5\n",
      "           1       0.93      1.00      0.96        66\n",
      "\n",
      "    accuracy                           0.93        71\n",
      "   macro avg       0.46      0.50      0.48        71\n",
      "weighted avg       0.86      0.93      0.90        71\n",
      "\n",
      "[(X4 >= 0.145975)] AND [(X26 < 0.995940)]\n"
     ]
    },
    {
     "name": "stderr",
     "output_type": "stream",
     "text": [
      "/home/ardan/.local/lib/python3.8/site-packages/sklearn/metrics/_classification.py:1221: UndefinedMetricWarning: Precision and F-score are ill-defined and being set to 0.0 in labels with no predicted samples. Use `zero_division` parameter to control this behavior.\n",
      "  _warn_prf(average, modifier, msg_start, len(result))\n"
     ]
    }
   ],
   "source": [
    "import pandas as pd\n",
    "df = pd.read_csv(\"ionosphere.csv\", header=None)\n",
    "# display(df.head())\n",
    "\n",
    "import numpy as np\n",
    "import Orange\n",
    "\n",
    "df_numpy = df.values\n",
    "X = df_numpy[:, :-1]\n",
    "y = np.array([1 if u == 'g' else 0 for u in df_numpy[:, -1]])\n",
    "domain = Orange.data.Domain.from_numpy(X, y)\n",
    "ionosphere_table = Orange.data.Table.from_numpy(domain, X, y)\n",
    "\n",
    "from IMLI import IMLI\n",
    "\n",
    "imli = IMLI(n_clauses=2, lamda=2, solver=\"open-wbo\", n_partitions=1)\n",
    "proportion = 0.8\n",
    "train_size = int(X.shape[0] * proportion)\n",
    "print(train_size)\n",
    "print(train_size)\n",
    "imli.fit(X[:train_size], y[:train_size])\n",
    "\n",
    "preds = imli.predict(X[train_size:])\n",
    "from sklearn.metrics import classification_report\n",
    "print(classification_report(preds, y[train_size:]))\n",
    "\n",
    "print(imli.get_rule())"
   ]
  },
  {
   "cell_type": "code",
   "execution_count": 7,
   "metadata": {
    "ExecuteTime": {
     "end_time": "2020-10-18T10:45:51.334285Z",
     "start_time": "2020-10-18T10:45:51.327890Z"
    },
    "execution": {
     "iopub.execute_input": "2020-10-28T10:22:08.773685Z",
     "iopub.status.busy": "2020-10-28T10:22:08.773352Z",
     "iopub.status.idle": "2020-10-28T10:22:08.782453Z",
     "shell.execute_reply": "2020-10-28T10:22:08.781418Z",
     "shell.execute_reply.started": "2020-10-28T10:22:08.773652Z"
    }
   },
   "outputs": [
    {
     "name": "stdout",
     "output_type": "stream",
     "text": [
      "X0\n",
      "X1\n",
      "X2\n",
      "X3\n",
      "X4\n",
      "X5\n",
      "X6\n",
      "X7\n",
      "X8\n",
      "X9\n",
      "X10\n",
      "X11\n",
      "X12\n",
      "X13\n",
      "X14\n",
      "X15\n",
      "X16\n",
      "X17\n",
      "X18\n",
      "X19\n",
      "X20\n",
      "X21\n",
      "X22\n",
      "X23\n",
      "X24\n",
      "X25\n",
      "X26\n",
      "X27\n",
      "X28\n",
      "X29\n",
      "X30\n",
      "X31\n",
      "X32\n",
      "X33\n"
     ]
    }
   ],
   "source": [
    "for feature in imli.raw_features:\n",
    "    print(feature.name)"
   ]
  },
  {
   "cell_type": "code",
   "execution_count": 8,
   "metadata": {
    "ExecuteTime": {
     "end_time": "2020-10-18T10:45:51.472861Z",
     "start_time": "2020-10-18T10:45:51.336796Z"
    },
    "execution": {
     "iopub.execute_input": "2020-10-28T10:22:08.785243Z",
     "iopub.status.busy": "2020-10-28T10:22:08.784865Z",
     "iopub.status.idle": "2020-10-28T10:22:08.924226Z",
     "shell.execute_reply": "2020-10-28T10:22:08.923489Z",
     "shell.execute_reply.started": "2020-10-28T10:22:08.785208Z"
    }
   },
   "outputs": [
    {
     "name": "stdout",
     "output_type": "stream",
     "text": [
      "X0\n",
      "(NOT X0)\n",
      "X1\n",
      "(NOT X1)\n",
      "(X2 >= 0.200095)\n",
      "X2 >= 0.20009500000000002\n",
      "(X2 < 0.200095)\n",
      "X2 < 0.20009500000000002\n",
      "(X3 >= -0.932245)\n",
      "X3 >= -0.932245\n",
      "(X3 >= -0.000950)\n",
      "X3 >= -0.00095\n",
      "(X3 >= 0.007895)\n",
      "X3 >= 0.007895000000000001\n",
      "(X3 >= 0.746850)\n",
      "X3 >= 0.74685\n",
      "(X3 < -0.932245)\n",
      "X3 < -0.932245\n",
      "(X3 < -0.000950)\n",
      "X3 < -0.00095\n",
      "(X3 < 0.007895)\n",
      "X3 < 0.007895000000000001\n",
      "(X3 < 0.746850)\n",
      "X3 < 0.74685\n",
      "(X4 >= 0.145975)\n",
      "X4 >= 0.14597500000000002\n",
      "(X4 >= 0.973755)\n",
      "X4 >= 0.973755\n",
      "(X4 < 0.145975)\n",
      "X4 < 0.14597500000000002\n",
      "(X4 < 0.973755)\n",
      "X4 < 0.973755\n",
      "(X5 >= -0.795310)\n",
      "X5 >= -0.79531\n",
      "(X5 >= -0.000715)\n",
      "X5 >= -0.000715\n",
      "(X5 >= 0.001010)\n",
      "X5 >= 0.00101\n",
      "(X5 >= 0.825090)\n",
      "X5 >= 0.8250900000000001\n",
      "(X5 < -0.795310)\n",
      "X5 < -0.79531\n",
      "(X5 < -0.000715)\n",
      "X5 < -0.000715\n",
      "(X5 < 0.001010)\n",
      "X5 < 0.00101\n",
      "(X5 < 0.825090)\n",
      "X5 < 0.8250900000000001\n",
      "(X6 >= 0.086160)\n",
      "X6 >= 0.08615999999999999\n",
      "(X6 >= 0.999995)\n",
      "X6 >= 0.999995\n",
      "(X6 < 0.086160)\n",
      "X6 < 0.08615999999999999\n",
      "(X6 < 0.999995)\n",
      "X6 < 0.999995\n",
      "(X7 >= -0.983575)\n",
      "X7 >= -0.9835750000000001\n",
      "(X7 >= -0.001335)\n",
      "X7 >= -0.001335\n",
      "(X7 >= 0.000985)\n",
      "X7 >= 0.000985\n",
      "(X7 >= 0.994515)\n",
      "X7 >= 0.994515\n",
      "(X7 < -0.983575)\n",
      "X7 < -0.9835750000000001\n",
      "(X7 < -0.001335)\n",
      "X7 < -0.001335\n",
      "(X7 < 0.000985)\n",
      "X7 < 0.000985\n",
      "(X7 < 0.994515)\n",
      "X7 < 0.994515\n",
      "(X8 >= 0.363890)\n",
      "X8 >= 0.36389\n",
      "(X8 < 0.363890)\n",
      "X8 < 0.36389\n",
      "(X9 >= -0.499810)\n",
      "X9 >= -0.49981\n",
      "(X9 >= 0.937925)\n",
      "X9 >= 0.937925\n",
      "(X9 < -0.499810)\n",
      "X9 < -0.49981\n",
      "(X9 < 0.937925)\n",
      "X9 < 0.937925\n",
      "(X10 >= -0.010580)\n",
      "X10 >= -0.010579999999999999\n",
      "(X10 >= 0.248150)\n",
      "X10 >= 0.24814999999999998\n",
      "(X10 >= 0.999100)\n",
      "X10 >= 0.9991\n",
      "(X10 < -0.010580)\n",
      "X10 < -0.010579999999999999\n",
      "(X10 < 0.248150)\n",
      "X10 < 0.24814999999999998\n",
      "(X10 < 0.999100)\n",
      "X10 < 0.9991\n",
      "(X11 >= -0.562930)\n",
      "X11 >= -0.56293\n",
      "(X11 >= -0.000270)\n",
      "X11 >= -0.00027\n",
      "(X11 >= 0.003305)\n",
      "X11 >= 0.0033049999999999998\n",
      "(X11 >= 0.944020)\n",
      "X11 >= 0.9440200000000001\n",
      "(X11 < -0.562930)\n",
      "X11 < -0.56293\n",
      "(X11 < -0.000270)\n",
      "X11 < -0.00027\n",
      "(X11 < 0.003305)\n",
      "X11 < 0.0033049999999999998\n",
      "(X11 < 0.944020)\n",
      "X11 < 0.9440200000000001\n",
      "(X12 >= 0.181420)\n",
      "X12 >= 0.18142000000000003\n",
      "(X12 >= 0.998725)\n",
      "X12 >= 0.998725\n",
      "(X12 < 0.181420)\n",
      "X12 < 0.18142000000000003\n",
      "(X12 < 0.998725)\n",
      "X12 < 0.998725\n",
      "(X13 >= -0.554585)\n",
      "X13 >= -0.554585\n",
      "(X13 >= 0.969725)\n",
      "X13 >= 0.969725\n",
      "(X13 < -0.554585)\n",
      "X13 < -0.554585\n",
      "(X13 < 0.969725)\n",
      "X13 < 0.969725\n",
      "(X14 >= 0.239955)\n",
      "X14 >= 0.23995499999999997\n",
      "(X14 >= 0.993125)\n",
      "X14 >= 0.993125\n",
      "(X14 < 0.239955)\n",
      "X14 < 0.23995499999999997\n",
      "(X14 < 0.993125)\n",
      "X14 < 0.993125\n",
      "(X15 >= -0.905170)\n",
      "X15 >= -0.90517\n",
      "(X15 >= -0.003980)\n",
      "X15 >= -0.00398\n",
      "(X15 >= 0.001430)\n",
      "X15 >= 0.00143\n",
      "(X15 >= 0.957020)\n",
      "X15 >= 0.95702\n",
      "(X15 < -0.905170)\n",
      "X15 < -0.90517\n",
      "(X15 < -0.003980)\n",
      "X15 < -0.00398\n",
      "(X15 < 0.001430)\n",
      "X15 < 0.00143\n",
      "(X15 < 0.957020)\n",
      "X15 < 0.95702\n",
      "(X16 >= -0.895875)\n",
      "X16 >= -0.895875\n",
      "(X16 >= -0.110470)\n",
      "X16 >= -0.11047\n",
      "(X16 >= 0.292570)\n",
      "X16 >= 0.29257\n",
      "(X16 >= 0.998150)\n",
      "X16 >= 0.99815\n",
      "(X16 < -0.895875)\n",
      "X16 < -0.895875\n",
      "(X16 < -0.110470)\n",
      "X16 < -0.11047\n",
      "(X16 < 0.292570)\n",
      "X16 < 0.29257\n",
      "(X16 < 0.998150)\n",
      "X16 < 0.99815\n",
      "(X17 >= -0.805795)\n",
      "X17 >= -0.805795\n",
      "(X17 >= 0.942755)\n",
      "X17 >= 0.942755\n",
      "(X17 < -0.805795)\n",
      "X17 < -0.805795\n",
      "(X17 < 0.942755)\n",
      "X17 < 0.942755\n",
      "(X18 >= 0.246745)\n",
      "X18 >= 0.246745\n",
      "(X18 >= 0.998845)\n",
      "X18 >= 0.998845\n",
      "(X18 < 0.246745)\n",
      "X18 < 0.246745\n",
      "(X18 < 0.998845)\n",
      "X18 < 0.998845\n",
      "(X19 >= -0.912755)\n",
      "X19 >= -0.912755\n",
      "(X19 >= 0.975495)\n",
      "X19 >= 0.975495\n",
      "(X19 < -0.912755)\n",
      "X19 < -0.912755\n",
      "(X19 < 0.975495)\n",
      "X19 < 0.975495\n",
      "(X20 >= -0.740785)\n",
      "X20 >= -0.740785\n",
      "(X20 >= -0.000015)\n",
      "X20 >= -1.4999999999999999e-05\n",
      "(X20 >= 0.051770)\n",
      "X20 >= 0.051770000000000004\n",
      "(X20 >= 0.998475)\n",
      "X20 >= 0.998475\n",
      "(X20 < -0.740785)\n",
      "X20 < -0.740785\n",
      "(X20 < -0.000015)\n",
      "X20 < -1.4999999999999999e-05\n",
      "(X20 < 0.051770)\n",
      "X20 < 0.051770000000000004\n",
      "(X20 < 0.998475)\n",
      "X20 < 0.998475\n",
      "(X21 >= -0.962680)\n",
      "X21 >= -0.96268\n",
      "(X21 >= 0.923655)\n",
      "X21 >= 0.923655\n",
      "(X21 < -0.962680)\n",
      "X21 < -0.96268\n",
      "(X21 < 0.923655)\n",
      "X21 < 0.923655\n",
      "(X22 >= 0.186570)\n",
      "X22 >= 0.18657\n",
      "(X22 >= 0.999665)\n",
      "X22 >= 0.999665\n",
      "(X22 < 0.186570)\n",
      "X22 < 0.18657\n",
      "(X22 < 0.999665)\n",
      "X22 < 0.999665\n",
      "(X23 >= -0.987455)\n",
      "X23 >= -0.987455\n",
      "(X23 >= 0.897470)\n",
      "X23 >= 0.89747\n",
      "(X23 < -0.987455)\n",
      "X23 < -0.987455\n",
      "(X23 < 0.897470)\n",
      "X23 < 0.89747\n",
      "(X24 >= -0.878390)\n",
      "X24 >= -0.87839\n",
      "(X24 >= -0.000170)\n",
      "X24 >= -0.00017\n",
      "(X24 >= 0.087220)\n",
      "X24 >= 0.08722\n",
      "(X24 >= 0.999495)\n",
      "X24 >= 0.999495\n",
      "(X24 < -0.878390)\n",
      "X24 < -0.87839\n",
      "(X24 < -0.000170)\n",
      "X24 < -0.00017\n",
      "(X24 < 0.087220)\n",
      "X24 < 0.08722\n",
      "(X24 < 0.999495)\n",
      "X24 < 0.999495\n",
      "(X25 >= -0.981480)\n",
      "X25 >= -0.98148\n",
      "(X25 >= 0.802450)\n",
      "X25 >= 0.80245\n",
      "(X25 < -0.981480)\n",
      "X25 < -0.98148\n",
      "(X25 < 0.802450)\n",
      "X25 < 0.80245\n",
      "(X26 >= -0.916570)\n",
      "X26 >= -0.91657\n",
      "(X26 >= 0.528120)\n",
      "X26 >= 0.5281199999999999\n",
      "(X26 >= 0.995940)\n",
      "X26 >= 0.9959399999999999\n",
      "(X26 < -0.916570)\n",
      "X26 < -0.91657\n",
      "(X26 < 0.528120)\n",
      "X26 < 0.5281199999999999\n",
      "(X26 < 0.995940)\n",
      "X26 < 0.9959399999999999\n",
      "(X27 >= -0.936175)\n",
      "X27 >= -0.936175\n",
      "(X27 >= 0.860220)\n",
      "X27 >= 0.86022\n",
      "(X27 < -0.936175)\n",
      "X27 < -0.936175\n",
      "(X27 < 0.860220)\n",
      "X27 < 0.86022\n",
      "(X28 >= -0.911830)\n",
      "X28 >= -0.91183\n",
      "(X28 >= -0.000090)\n",
      "X28 >= -9e-05\n",
      "(X28 >= 0.038395)\n",
      "X28 >= 0.038395\n",
      "(X28 >= 0.992720)\n",
      "X28 >= 0.99272\n",
      "(X28 < -0.911830)\n",
      "X28 < -0.91183\n",
      "(X28 < -0.000090)\n",
      "X28 < -9e-05\n",
      "(X28 < 0.038395)\n",
      "X28 < 0.038395\n",
      "(X28 < 0.992720)\n",
      "X28 < 0.99272\n",
      "(X29 >= -0.914280)\n",
      "X29 >= -0.91428\n",
      "(X29 >= -0.000120)\n",
      "X29 >= -0.00011999999999999999\n",
      "(X29 >= 0.007750)\n",
      "X29 >= 0.00775\n",
      "(X29 >= 0.930305)\n",
      "X29 >= 0.9303049999999999\n",
      "(X29 < -0.914280)\n",
      "X29 < -0.91428\n",
      "(X29 < -0.000120)\n",
      "X29 < -0.00011999999999999999\n",
      "(X29 < 0.007750)\n",
      "X29 < 0.00775\n",
      "(X29 < 0.930305)\n",
      "X29 < 0.9303049999999999\n",
      "(X30 >= -0.848480)\n",
      "X30 >= -0.84848\n",
      "(X30 >= -0.000060)\n",
      "X30 >= -5.9999999999999995e-05\n",
      "(X30 >= 0.066280)\n",
      "X30 >= 0.06628\n",
      "(X30 >= 0.989225)\n",
      "X30 >= 0.989225\n",
      "(X30 < -0.848480)\n",
      "X30 < -0.84848\n",
      "(X30 < -0.000060)\n",
      "X30 < -5.9999999999999995e-05\n",
      "(X30 < 0.066280)\n",
      "X30 < 0.06628\n",
      "(X30 < 0.989225)\n",
      "X30 < 0.989225\n",
      "(X31 >= -0.960640)\n",
      "X31 >= -0.9606399999999999\n",
      "(X31 >= 0.870760)\n",
      "X31 >= 0.87076\n",
      "(X31 < -0.960640)\n",
      "X31 < -0.9606399999999999\n",
      "(X31 < 0.870760)\n",
      "X31 < 0.87076\n",
      "(X32 >= -0.906915)\n",
      "X32 >= -0.906915\n",
      "(X32 >= -0.000040)\n",
      "X32 >= -4e-05\n",
      "(X32 >= 0.010205)\n",
      "X32 >= 0.010204999999999999\n",
      "(X32 >= 0.994080)\n",
      "X32 >= 0.9940800000000001\n",
      "(X32 < -0.906915)\n",
      "X32 < -0.906915\n",
      "(X32 < -0.000040)\n",
      "X32 < -4e-05\n",
      "(X32 < 0.010205)\n",
      "X32 < 0.010204999999999999\n",
      "(X32 < 0.994080)\n",
      "X32 < 0.9940800000000001\n",
      "(X33 >= -0.916855)\n",
      "X33 >= -0.916855\n",
      "(X33 >= -0.000030)\n",
      "X33 >= -2.9999999999999997e-05\n",
      "(X33 >= 0.005400)\n",
      "X33 >= 0.0054\n",
      "(X33 >= 0.950980)\n",
      "X33 >= 0.9509799999999999\n",
      "(X33 < -0.916855)\n",
      "X33 < -0.916855\n",
      "(X33 < -0.000030)\n",
      "X33 < -2.9999999999999997e-05\n",
      "(X33 < 0.005400)\n",
      "X33 < 0.0054\n",
      "(X33 < 0.950980)\n",
      "X33 < 0.9509799999999999\n"
     ]
    }
   ],
   "source": [
    "from IMLI import DiscretizedFeature\n",
    "\n",
    "for i, feature in enumerate(imli.new_features):\n",
    "    print(feature.name)\n",
    "    if isinstance(feature, DiscretizedFeature):\n",
    "        print(feature.source_feature.name + \" \" + feature.op + \" \" + str(feature.tval))"
   ]
  },
  {
   "cell_type": "code",
   "execution_count": 9,
   "metadata": {
    "ExecuteTime": {
     "end_time": "2020-10-18T10:45:51.529424Z",
     "start_time": "2020-10-18T10:45:51.474220Z"
    },
    "execution": {
     "iopub.execute_input": "2020-10-28T10:22:08.925588Z",
     "iopub.status.busy": "2020-10-28T10:22:08.925318Z",
     "iopub.status.idle": "2020-10-28T10:22:09.025199Z",
     "shell.execute_reply": "2020-10-28T10:22:09.024489Z",
     "shell.execute_reply.started": "2020-10-28T10:22:08.925562Z"
    }
   },
   "outputs": [
    {
     "name": "stdout",
     "output_type": "stream",
     "text": [
      "[1 1 1 1 1 0 1 0 1 0 1 0 1 0 0 1 1 0 1 0 1 0 1 0 1 0 1 0 1 0 1 0 1 1 0 0 1\n",
      " 0 1 1 1 0 1 0 1 0 1 0 1 0 1 0 0 0 1 0 1 0 1 0 1 0 1 0 1 0 1 0 1 0 1 0 1 0\n",
      " 1 0 1 0 1 0 0 0 1 1 1 1 1 1 1 1 1 0 1 0 1 0 1 1 0 1 0 1 0 1 0 0 0 1 0 1 0\n",
      " 1 0 1 0 1 1 1 0 0 1 1 0 1 0 1 0 1 0 1 0 1 0 1 0 1 1 1 0 1 0 1 0 1 1 1 0 1\n",
      " 0 1 1 1 0 1 0 1 0 1 0 1 0 1 0 1 0 1 0 1 0 1 0 1 0 0 0 0 0 1 0 1 0 1 0 1 0\n",
      " 1 0 1 0 0 0 1 0 1 0 1 0 1 0 0 0 1 0 1 0 1 0 1 0 0 0 1 0 0 0 1 0 1 0 1 0 1\n",
      " 0 1 0 1 0 1 0 1 0 1 0 1 1 1 1 1 0 1 0 1 0 1 0 1 0 1 0 1 0 1 0 1 1 1 1 1 1\n",
      " 1 1 1 1 1 1 1 1 1 1 1 1 1 1 1 1 1 1 1 1 1 1 1 1 1 1 1 1 1 1 1 0 1 1 1 1 1\n",
      " 1 1 1 1 1 1 1 1 1 1 1 1 1 1 1 1 0 1 1 1 1 1 1 1 0 1 1 1 1 1 1 1 1 1 1 1 1\n",
      " 1 1 0 1 1 1 1 0 1 1 1 1 1 1 1 1 1 1]\n",
      "[(X4 >= 0.145975)] AND [(X26 < 0.995940)]\n"
     ]
    }
   ],
   "source": [
    "print(imli.predict(X))\n",
    "print(imli.get_rule())"
   ]
  },
  {
   "cell_type": "code",
   "execution_count": 10,
   "metadata": {
    "ExecuteTime": {
     "end_time": "2020-10-18T10:45:51.573301Z",
     "start_time": "2020-10-18T10:45:51.530900Z"
    },
    "execution": {
     "iopub.execute_input": "2020-10-28T10:22:09.026275Z",
     "iopub.status.busy": "2020-10-28T10:22:09.026043Z",
     "iopub.status.idle": "2020-10-28T10:22:09.111741Z",
     "shell.execute_reply": "2020-10-28T10:22:09.110275Z",
     "shell.execute_reply.started": "2020-10-28T10:22:09.026253Z"
    }
   },
   "outputs": [
    {
     "name": "stdout",
     "output_type": "stream",
     "text": [
      "ITERASI 1\n",
      "MAXSAT SOLVER PROCESSING\n",
      "MAXSAT SOLVER DONE\n",
      "[(NOT X3)] AND [(NOT X3)] AND [(NOT X3)]\n",
      "------------------------------\n"
     ]
    },
    {
     "data": {
      "text/plain": [
       "'[(NOT X3)] AND [(NOT X3)] AND [(NOT X3)]'"
      ]
     },
     "execution_count": 10,
     "metadata": {},
     "output_type": "execute_result"
    }
   ],
   "source": [
    "from IMLI import IMLI\n",
    "\n",
    "import numpy as np\n",
    "\n",
    "imli = IMLI()\n",
    "\n",
    "X = np.array([\n",
    "    [1.5, 1.5, 1.5, 1],\n",
    "    [1.5, 1.5, 2, 0],\n",
    "    [2.5, 1.5, 2, 1],\n",
    "    [1.5, 1.5, 6, 1]\n",
    "])\n",
    "\n",
    "y = np.array([0, 1, 1, 0])\n",
    "\n",
    "imli.fit(X, y)\n",
    "imli.get_rule()"
   ]
  },
  {
   "cell_type": "code",
   "execution_count": 11,
   "metadata": {
    "ExecuteTime": {
     "end_time": "2020-10-18T10:45:51.673183Z",
     "start_time": "2020-10-18T10:45:51.575300Z"
    },
    "execution": {
     "iopub.execute_input": "2020-10-28T10:22:09.114094Z",
     "iopub.status.busy": "2020-10-28T10:22:09.113650Z",
     "iopub.status.idle": "2020-10-28T10:22:09.276423Z",
     "shell.execute_reply": "2020-10-28T10:22:09.274059Z",
     "shell.execute_reply.started": "2020-10-28T10:22:09.114051Z"
    }
   },
   "outputs": [
    {
     "name": "stdout",
     "output_type": "stream",
     "text": [
      "X3\n",
      "(NOT X3)\n",
      "X0\n",
      "X1\n",
      "X2\n",
      "X3\n"
     ]
    }
   ],
   "source": [
    "for feature in imli.new_features:\n",
    "    print(feature.name)\n",
    "    \n",
    "for feature in imli.raw_features:\n",
    "    print(feature.name)"
   ]
  }
 ],
 "metadata": {
  "kernelspec": {
   "display_name": "imli-env",
   "language": "python",
   "name": "imli-env"
  },
  "language_info": {
   "codemirror_mode": {
    "name": "ipython",
    "version": 3
   },
   "file_extension": ".py",
   "mimetype": "text/x-python",
   "name": "python",
   "nbconvert_exporter": "python",
   "pygments_lexer": "ipython3",
   "version": "3.8.5"
  }
 },
 "nbformat": 4,
 "nbformat_minor": 4
}
