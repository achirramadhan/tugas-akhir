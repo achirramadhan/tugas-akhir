{
 "cells": [
  {
   "cell_type": "code",
   "execution_count": 1,
   "metadata": {
    "ExecuteTime": {
     "end_time": "2020-10-18T10:45:50.404012Z",
     "start_time": "2020-10-18T10:45:49.744281Z"
    },
    "execution": {
     "iopub.execute_input": "2020-11-10T19:23:31.236656Z",
     "iopub.status.busy": "2020-11-10T19:23:31.236323Z",
     "iopub.status.idle": "2020-11-10T19:23:32.270979Z",
     "shell.execute_reply": "2020-11-10T19:23:32.269694Z",
     "shell.execute_reply.started": "2020-11-10T19:23:31.236628Z"
    }
   },
   "outputs": [],
   "source": [
    "import numpy as np\n",
    "import Orange\n",
    "import os"
   ]
  },
  {
   "cell_type": "code",
   "execution_count": 2,
   "metadata": {
    "ExecuteTime": {
     "end_time": "2020-10-18T10:45:50.425967Z",
     "start_time": "2020-10-18T10:45:50.405414Z"
    },
    "execution": {
     "iopub.execute_input": "2020-11-10T19:23:32.272789Z",
     "iopub.status.busy": "2020-11-10T19:23:32.272533Z",
     "iopub.status.idle": "2020-11-10T19:23:32.301135Z",
     "shell.execute_reply": "2020-11-10T19:23:32.300411Z",
     "shell.execute_reply.started": "2020-11-10T19:23:32.272763Z"
    }
   },
   "outputs": [
    {
     "data": {
      "text/html": [
       "<div>\n",
       "<style scoped>\n",
       "    .dataframe tbody tr th:only-of-type {\n",
       "        vertical-align: middle;\n",
       "    }\n",
       "\n",
       "    .dataframe tbody tr th {\n",
       "        vertical-align: top;\n",
       "    }\n",
       "\n",
       "    .dataframe thead th {\n",
       "        text-align: right;\n",
       "    }\n",
       "</style>\n",
       "<table border=\"1\" class=\"dataframe\">\n",
       "  <thead>\n",
       "    <tr style=\"text-align: right;\">\n",
       "      <th></th>\n",
       "      <th>x1</th>\n",
       "      <th>x2</th>\n",
       "      <th>x3</th>\n",
       "      <th>x4</th>\n",
       "      <th>y</th>\n",
       "    </tr>\n",
       "  </thead>\n",
       "  <tbody>\n",
       "    <tr>\n",
       "      <th>0</th>\n",
       "      <td>1</td>\n",
       "      <td>0</td>\n",
       "      <td>0</td>\n",
       "      <td>1</td>\n",
       "      <td>1</td>\n",
       "    </tr>\n",
       "    <tr>\n",
       "      <th>1</th>\n",
       "      <td>0</td>\n",
       "      <td>0</td>\n",
       "      <td>1</td>\n",
       "      <td>0</td>\n",
       "      <td>1</td>\n",
       "    </tr>\n",
       "    <tr>\n",
       "      <th>2</th>\n",
       "      <td>0</td>\n",
       "      <td>0</td>\n",
       "      <td>1</td>\n",
       "      <td>1</td>\n",
       "      <td>0</td>\n",
       "    </tr>\n",
       "    <tr>\n",
       "      <th>3</th>\n",
       "      <td>1</td>\n",
       "      <td>1</td>\n",
       "      <td>1</td>\n",
       "      <td>1</td>\n",
       "      <td>0</td>\n",
       "    </tr>\n",
       "  </tbody>\n",
       "</table>\n",
       "</div>"
      ],
      "text/plain": [
       "   x1  x2  x3  x4  y\n",
       "0   1   0   0   1  1\n",
       "1   0   0   1   0  1\n",
       "2   0   0   1   1  0\n",
       "3   1   1   1   1  0"
      ]
     },
     "metadata": {},
     "output_type": "display_data"
    },
    {
     "name": "stdout",
     "output_type": "stream",
     "text": [
      "<class 'numpy.ndarray'>\n"
     ]
    },
    {
     "data": {
      "text/plain": [
       "array([[1, 0, 0, 1],\n",
       "       [0, 0, 1, 0],\n",
       "       [0, 0, 1, 1],\n",
       "       [1, 1, 1, 1]])"
      ]
     },
     "metadata": {},
     "output_type": "display_data"
    },
    {
     "name": "stdout",
     "output_type": "stream",
     "text": [
      "<class 'numpy.ndarray'>\n"
     ]
    },
    {
     "data": {
      "text/plain": [
       "array([1, 1, 0, 0])"
      ]
     },
     "metadata": {},
     "output_type": "display_data"
    }
   ],
   "source": [
    "import pandas as pd\n",
    "df = pd.read_csv(\"test.csv\")\n",
    "display(df)\n",
    "\n",
    "X = df.drop('y', axis=1).values\n",
    "print(type(X))\n",
    "display(X)\n",
    "\n",
    "y = df['y'].values\n",
    "print(type(y))\n",
    "display(y)"
   ]
  },
  {
   "cell_type": "code",
   "execution_count": 3,
   "metadata": {
    "ExecuteTime": {
     "end_time": "2020-10-18T10:45:50.698711Z",
     "start_time": "2020-10-18T10:45:50.427434Z"
    },
    "execution": {
     "iopub.execute_input": "2020-11-10T19:23:32.302738Z",
     "iopub.status.busy": "2020-11-10T19:23:32.302481Z",
     "iopub.status.idle": "2020-11-10T19:23:32.441817Z",
     "shell.execute_reply": "2020-11-10T19:23:32.440702Z",
     "shell.execute_reply.started": "2020-11-10T19:23:32.302714Z"
    }
   },
   "outputs": [],
   "source": [
    "from IMLI import IMLI\n",
    "\n",
    "imli = IMLI(n_clauses=1, lamda=1, solver=\"maxhs\", n_partitions=2)\n",
    "features = imli.generate_features(X, y, discretizer=\"entropy\")\n",
    "imli.fit(X, y, features)"
   ]
  },
  {
   "cell_type": "code",
   "execution_count": 4,
   "metadata": {
    "ExecuteTime": {
     "end_time": "2020-10-18T10:45:50.709955Z",
     "start_time": "2020-10-18T10:45:50.701097Z"
    },
    "execution": {
     "iopub.execute_input": "2020-11-10T19:23:32.443886Z",
     "iopub.status.busy": "2020-11-10T19:23:32.443625Z",
     "iopub.status.idle": "2020-11-10T19:23:32.454365Z",
     "shell.execute_reply": "2020-11-10T19:23:32.453644Z",
     "shell.execute_reply.started": "2020-11-10T19:23:32.443858Z"
    }
   },
   "outputs": [
    {
     "name": "stdout",
     "output_type": "stream",
     "text": [
      "[(NOT X1)]\n",
      "              precision    recall  f1-score   support\n",
      "\n",
      "           0       0.50      1.00      0.67         1\n",
      "           1       1.00      0.67      0.80         3\n",
      "\n",
      "    accuracy                           0.75         4\n",
      "   macro avg       0.75      0.83      0.73         4\n",
      "weighted avg       0.88      0.75      0.77         4\n",
      "\n"
     ]
    }
   ],
   "source": [
    "preds = imli.predict(X)\n",
    "print(imli.get_rule())\n",
    "\n",
    "from sklearn.metrics import classification_report\n",
    "print(classification_report(preds, y))"
   ]
  },
  {
   "cell_type": "code",
   "execution_count": 5,
   "metadata": {
    "ExecuteTime": {
     "end_time": "2020-10-18T10:45:50.811048Z",
     "start_time": "2020-10-18T10:45:50.711636Z"
    },
    "execution": {
     "iopub.execute_input": "2020-11-10T19:23:32.455663Z",
     "iopub.status.busy": "2020-11-10T19:23:32.455418Z",
     "iopub.status.idle": "2020-11-10T19:23:32.490086Z",
     "shell.execute_reply": "2020-11-10T19:23:32.489311Z",
     "shell.execute_reply.started": "2020-11-10T19:23:32.455639Z"
    }
   },
   "outputs": [
    {
     "name": "stdout",
     "output_type": "stream",
     "text": [
      "[X0 OR (NOT X3)] AND [(NOT X1)]\n",
      "              precision    recall  f1-score   support\n",
      "\n",
      "           0       1.00      1.00      1.00         2\n",
      "           1       1.00      1.00      1.00         2\n",
      "\n",
      "    accuracy                           1.00         4\n",
      "   macro avg       1.00      1.00      1.00         4\n",
      "weighted avg       1.00      1.00      1.00         4\n",
      "\n"
     ]
    }
   ],
   "source": [
    "imli = IMLI(n_clauses = 2, lamda = 2)\n",
    "features = imli.generate_features(X, y)\n",
    "imli.fit(X, y, features)\n",
    "preds = imli.predict(X)\n",
    "print(imli.get_rule())\n",
    "\n",
    "from sklearn.metrics import classification_report\n",
    "print(classification_report(preds, y))\n",
    "\n",
    "# raise Exception(\"Berhenti saja hehehe\")"
   ]
  },
  {
   "cell_type": "code",
   "execution_count": 6,
   "metadata": {
    "ExecuteTime": {
     "end_time": "2020-10-18T10:49:35.191612Z",
     "start_time": "2020-10-18T10:49:34.909318Z"
    },
    "execution": {
     "iopub.execute_input": "2020-11-10T19:23:32.491666Z",
     "iopub.status.busy": "2020-11-10T19:23:32.491376Z",
     "iopub.status.idle": "2020-11-10T19:24:32.816250Z",
     "shell.execute_reply": "2020-11-10T19:24:32.815395Z",
     "shell.execute_reply.started": "2020-11-10T19:23:32.491638Z"
    }
   },
   "outputs": [
    {
     "name": "stdout",
     "output_type": "stream",
     "text": [
      "280\n",
      "280\n",
      "              precision    recall  f1-score   support\n",
      "\n",
      "           0       0.90      0.84      0.87        31\n",
      "           1       0.88      0.93      0.90        40\n",
      "\n",
      "    accuracy                           0.89        71\n",
      "   macro avg       0.89      0.88      0.88        71\n",
      "weighted avg       0.89      0.89      0.89        71\n",
      "\n",
      "[X4 >= 0.418075 OR X22 >= 0.210400] AND [X26 < 0.999945]\n"
     ]
    }
   ],
   "source": [
    "import pandas as pd\n",
    "df = pd.read_csv(\"ionosphere.csv\", header=None)\n",
    "df = df.sample(frac=1)\n",
    "# display(df.head())\n",
    "\n",
    "import numpy as np\n",
    "import Orange\n",
    "\n",
    "df_numpy = df.values\n",
    "X = df_numpy[:, :-1]\n",
    "y = np.array([1 if u == 'g' else 0 for u in df_numpy[:, -1]])\n",
    "domain = Orange.data.Domain.from_numpy(X, y)\n",
    "ionosphere_table = Orange.data.Table.from_numpy(domain, X, y)\n",
    "\n",
    "from IMLI import IMLI\n",
    "\n",
    "imli = IMLI(n_clauses=2, lamda=2, solver=\"open-wbo\", n_partitions=1)\n",
    "proportion = 0.8\n",
    "train_size = int(X.shape[0] * proportion)\n",
    "print(train_size)\n",
    "print(train_size)\n",
    "\n",
    "features = imli.generate_features(X[:train_size], y[:train_size])\n",
    "imli.fit(X[:train_size], y[:train_size], features)\n",
    "\n",
    "preds = imli.predict(X[train_size:])\n",
    "from sklearn.metrics import classification_report\n",
    "print(classification_report(preds, y[train_size:]))\n",
    "\n",
    "print(imli.get_rule())"
   ]
  },
  {
   "cell_type": "code",
   "execution_count": 7,
   "metadata": {
    "ExecuteTime": {
     "end_time": "2020-10-18T10:45:51.334285Z",
     "start_time": "2020-10-18T10:45:51.327890Z"
    },
    "execution": {
     "iopub.execute_input": "2020-11-10T19:24:32.818066Z",
     "iopub.status.busy": "2020-11-10T19:24:32.817765Z",
     "iopub.status.idle": "2020-11-10T19:24:32.824369Z",
     "shell.execute_reply": "2020-11-10T19:24:32.822933Z",
     "shell.execute_reply.started": "2020-11-10T19:24:32.818021Z"
    }
   },
   "outputs": [
    {
     "name": "stdout",
     "output_type": "stream",
     "text": [
      "X0\n",
      "X1\n",
      "X2\n",
      "X3\n",
      "X4\n",
      "X5\n",
      "X6\n",
      "X7\n",
      "X8\n",
      "X9\n",
      "X10\n",
      "X11\n",
      "X12\n",
      "X13\n",
      "X14\n",
      "X15\n",
      "X16\n",
      "X17\n",
      "X18\n",
      "X19\n",
      "X20\n",
      "X21\n",
      "X22\n",
      "X23\n",
      "X24\n",
      "X25\n",
      "X26\n",
      "X27\n",
      "X28\n",
      "X29\n",
      "X30\n",
      "X31\n",
      "X32\n",
      "X33\n"
     ]
    }
   ],
   "source": [
    "for feature in imli.raw_features:\n",
    "    print(feature.name)"
   ]
  },
  {
   "cell_type": "code",
   "execution_count": 8,
   "metadata": {
    "ExecuteTime": {
     "end_time": "2020-10-18T10:45:51.472861Z",
     "start_time": "2020-10-18T10:45:51.336796Z"
    },
    "execution": {
     "iopub.execute_input": "2020-11-10T19:24:32.825539Z",
     "iopub.status.busy": "2020-11-10T19:24:32.825294Z",
     "iopub.status.idle": "2020-11-10T19:24:32.844975Z",
     "shell.execute_reply": "2020-11-10T19:24:32.841055Z",
     "shell.execute_reply.started": "2020-11-10T19:24:32.825516Z"
    }
   },
   "outputs": [
    {
     "name": "stdout",
     "output_type": "stream",
     "text": [
      "X0\n",
      "(NOT X0)\n",
      "X1\n",
      "(NOT X1)\n",
      "X2 >= 0.190280\n",
      "X2 < 0.190280\n",
      "X3 >= -0.433090\n",
      "X3 >= -0.000170\n",
      "X3 >= 0.007075\n",
      "X3 >= 0.563610\n",
      "X3 < -0.433090\n",
      "X3 < -0.000170\n",
      "X3 < 0.007075\n",
      "X3 < 0.563610\n",
      "X4 >= 0.041440\n",
      "X4 >= 0.418075\n",
      "X4 >= 0.995175\n",
      "X4 < 0.041440\n",
      "X4 < 0.418075\n",
      "X4 < 0.995175\n",
      "X5 >= -0.769620\n",
      "X5 >= -0.000715\n",
      "X5 >= 0.001155\n",
      "X5 >= 0.953815\n",
      "X5 < -0.769620\n",
      "X5 < -0.000715\n",
      "X5 < 0.001155\n",
      "X5 < 0.953815\n",
      "X6 >= 0.029375\n",
      "X6 >= 0.999760\n",
      "X6 < 0.029375\n",
      "X6 < 0.999760\n",
      "X7 >= -0.395355\n",
      "X7 >= -0.000375\n",
      "X7 >= 0.000985\n",
      "X7 >= 0.994515\n",
      "X7 < -0.395355\n",
      "X7 < -0.000375\n",
      "X7 < 0.000985\n",
      "X7 < 0.994515\n",
      "X8 >= -0.704705\n",
      "X8 >= -0.036395\n",
      "X8 >= 0.011975\n",
      "X8 >= 0.397340\n",
      "X8 >= 0.994995\n",
      "X8 < -0.704705\n",
      "X8 < -0.036395\n",
      "X8 < 0.011975\n",
      "X8 < 0.397340\n",
      "X8 < 0.994995\n",
      "X9 >= -0.572990\n",
      "X9 >= 0.989100\n",
      "X9 < -0.572990\n",
      "X9 < 0.989100\n",
      "X10 >= -0.915760\n",
      "X10 >= -0.010580\n",
      "X10 >= 0.045765\n",
      "X10 >= 0.999100\n",
      "X10 < -0.915760\n",
      "X10 < -0.010580\n",
      "X10 < 0.045765\n",
      "X10 < 0.999100\n",
      "X11 >= -0.562930\n",
      "X11 >= -0.000270\n",
      "X11 >= 0.006365\n",
      "X11 >= 0.981525\n",
      "X11 < -0.562930\n",
      "X11 < -0.000270\n",
      "X11 < 0.006365\n",
      "X11 < 0.981525\n",
      "X12 >= -0.969410\n",
      "X12 >= -0.195530\n",
      "X12 >= 0.181420\n",
      "X12 >= 0.998725\n",
      "X12 < -0.969410\n",
      "X12 < -0.195530\n",
      "X12 < 0.181420\n",
      "X12 < 0.998725\n",
      "X13 >= -0.554585\n",
      "X13 >= 0.975650\n",
      "X13 < -0.554585\n",
      "X13 < 0.975650\n",
      "X14 >= -0.984930\n",
      "X14 >= -0.028300\n",
      "X14 >= 0.377860\n",
      "X14 >= 0.999140\n",
      "X14 < -0.984930\n",
      "X14 < -0.028300\n",
      "X14 < 0.377860\n",
      "X14 < 0.999140\n",
      "X15 >= -0.625520\n",
      "X15 >= -0.003545\n",
      "X15 >= 0.001430\n",
      "X15 >= 0.968410\n",
      "X15 < -0.625520\n",
      "X15 < -0.003545\n",
      "X15 < 0.001430\n",
      "X15 < 0.968410\n",
      "X16 >= -0.961770\n",
      "X16 >= -0.054150\n",
      "X16 >= 0.292070\n",
      "X16 >= 0.998150\n",
      "X16 < -0.961770\n",
      "X16 < -0.054150\n",
      "X16 < 0.292070\n",
      "X16 < 0.998150\n",
      "X17 >= -0.805795\n",
      "X17 >= 0.993610\n",
      "X17 < -0.805795\n",
      "X17 < 0.993610\n",
      "X18 >= -0.968205\n",
      "X18 >= -0.028140\n",
      "X18 >= 0.025780\n",
      "X18 >= 0.474000\n",
      "X18 >= 0.996570\n",
      "X18 < -0.968205\n",
      "X18 < -0.028140\n",
      "X18 < 0.025780\n",
      "X18 < 0.474000\n",
      "X18 < 0.996570\n",
      "X19 >= -0.912755\n",
      "X19 >= 0.975495\n",
      "X19 < -0.912755\n",
      "X19 < 0.975495\n",
      "X20 >= -0.961270\n",
      "X20 >= -0.012370\n",
      "X20 >= 0.051770\n",
      "X20 >= 0.998880\n",
      "X20 < -0.961270\n",
      "X20 < -0.012370\n",
      "X20 < 0.051770\n",
      "X20 < 0.998880\n",
      "X21 >= -0.967980\n",
      "X21 >= 0.923655\n",
      "X21 < -0.967980\n",
      "X21 < 0.923655\n",
      "X22 >= -0.968090\n",
      "X22 >= -0.009200\n",
      "X22 >= 0.210400\n",
      "X22 >= 0.983390\n",
      "X22 < -0.968090\n",
      "X22 < -0.009200\n",
      "X22 < 0.210400\n",
      "X22 < 0.983390\n",
      "X23 >= -0.970860\n",
      "X23 >= 0.897470\n",
      "X23 < -0.970860\n",
      "X23 < 0.897470\n",
      "X24 >= -0.878390\n",
      "X24 >= -0.005830\n",
      "X24 >= 0.087075\n",
      "X24 >= 0.999495\n",
      "X24 < -0.878390\n",
      "X24 < -0.005830\n",
      "X24 < 0.087075\n",
      "X24 < 0.999495\n",
      "X25 >= -0.981480\n",
      "X25 >= 0.802450\n",
      "X25 < -0.981480\n",
      "X25 < 0.802450\n",
      "X26 >= 0.528120\n",
      "X26 >= 0.999945\n",
      "X26 < 0.528120\n",
      "X26 < 0.999945\n",
      "X27 >= -0.925800\n",
      "X27 >= 0.860220\n",
      "X27 < -0.925800\n",
      "X27 < 0.860220\n",
      "X28 >= -0.911830\n",
      "X28 >= -0.001400\n",
      "X28 >= 0.038395\n",
      "X28 >= 0.997000\n",
      "X28 < -0.911830\n",
      "X28 < -0.001400\n",
      "X28 < 0.038395\n",
      "X28 < 0.997000\n",
      "X29 >= -0.914280\n",
      "X29 >= 0.930305\n",
      "X29 < -0.914280\n",
      "X29 < 0.930305\n",
      "X30 >= 0.132415\n",
      "X30 >= 0.995560\n",
      "X30 < 0.132415\n",
      "X30 < 0.995560\n",
      "X31 >= -0.969765\n",
      "X31 >= 0.903110\n",
      "X31 < -0.969765\n",
      "X31 < 0.903110\n",
      "X32 >= -0.959515\n",
      "X32 >= -0.002305\n",
      "X32 >= 0.058695\n",
      "X32 >= 0.994855\n",
      "X32 < -0.959515\n",
      "X32 < -0.002305\n",
      "X32 < 0.058695\n",
      "X32 < 0.994855\n",
      "X33 >= -0.974115\n",
      "X33 >= -0.000910\n",
      "X33 >= 0.005400\n",
      "X33 >= 0.950980\n",
      "X33 < -0.974115\n",
      "X33 < -0.000910\n",
      "X33 < 0.005400\n",
      "X33 < 0.950980\n"
     ]
    }
   ],
   "source": [
    "from IMLI import DiscretizedFeature\n",
    "\n",
    "for i, feature in enumerate(imli.new_features):\n",
    "    print(feature.name)"
   ]
  },
  {
   "cell_type": "code",
   "execution_count": 9,
   "metadata": {
    "ExecuteTime": {
     "end_time": "2020-10-18T10:45:51.529424Z",
     "start_time": "2020-10-18T10:45:51.474220Z"
    },
    "execution": {
     "iopub.execute_input": "2020-11-10T19:24:32.846930Z",
     "iopub.status.busy": "2020-11-10T19:24:32.846660Z",
     "iopub.status.idle": "2020-11-10T19:24:32.886411Z",
     "shell.execute_reply": "2020-11-10T19:24:32.885742Z",
     "shell.execute_reply.started": "2020-11-10T19:24:32.846895Z"
    }
   },
   "outputs": [
    {
     "name": "stdout",
     "output_type": "stream",
     "text": [
      "[1 0 1 0 1 1 1 1 0 0 1 1 0 0 0 1 1 0 0 1 1 1 1 0 0 1 1 1 0 0 1 0 1 0 1 1 1\n",
      " 1 1 1 0 1 1 1 0 0 0 0 0 1 0 0 1 0 0 1 0 0 0 1 1 1 1 1 0 0 1 1 1 1 1 0 1 1\n",
      " 1 0 1 1 1 1 1 1 0 1 1 1 0 1 1 0 0 0 1 1 1 0 1 0 0 0 0 0 1 1 1 1 1 1 1 0 1\n",
      " 0 1 1 0 0 1 0 1 1 1 1 0 0 1 0 0 0 0 1 1 1 1 0 1 0 0 1 1 1 1 0 1 1 1 1 1 1\n",
      " 1 1 0 1 1 1 0 1 1 1 1 1 1 1 1 0 0 1 1 0 1 1 1 1 0 0 1 1 0 0 1 1 0 0 1 1 1\n",
      " 1 1 1 1 0 1 1 1 0 1 1 1 1 1 1 0 1 1 0 1 0 1 0 1 1 1 1 1 0 0 0 0 1 1 1 1 1\n",
      " 1 1 0 1 1 1 1 1 1 1 0 1 0 1 1 0 1 1 1 1 1 1 1 0 0 1 0 1 1 1 1 1 0 0 0 1 1\n",
      " 0 1 1 0 1 1 0 1 0 1 0 1 1 0 1 1 0 0 0 1 0 1 0 0 1 0 1 1 1 1 1 1 0 0 1 1 1\n",
      " 1 1 1 0 1 0 1 1 0 0 1 1 1 0 0 0 1 0 1 1 1 0 0 0 1 0 0 1 1 0 0 0 1 1 0 1 1\n",
      " 1 0 0 0 0 0 1 0 0 1 1 1 1 0 0 1 1 1]\n",
      "[X4 >= 0.418075 OR X22 >= 0.210400] AND [X26 < 0.999945]\n"
     ]
    }
   ],
   "source": [
    "print(imli.predict(X))\n",
    "print(imli.get_rule())"
   ]
  },
  {
   "cell_type": "code",
   "execution_count": 10,
   "metadata": {
    "ExecuteTime": {
     "end_time": "2020-10-18T10:45:51.573301Z",
     "start_time": "2020-10-18T10:45:51.530900Z"
    },
    "execution": {
     "iopub.execute_input": "2020-11-10T19:24:32.887867Z",
     "iopub.status.busy": "2020-11-10T19:24:32.887599Z",
     "iopub.status.idle": "2020-11-10T19:24:32.919029Z",
     "shell.execute_reply": "2020-11-10T19:24:32.918167Z",
     "shell.execute_reply.started": "2020-11-10T19:24:32.887841Z"
    }
   },
   "outputs": [
    {
     "data": {
      "text/plain": [
       "'[(NOT X3)] AND [(NOT X3)] AND [(NOT X3)]'"
      ]
     },
     "execution_count": 10,
     "metadata": {},
     "output_type": "execute_result"
    }
   ],
   "source": [
    "from IMLI import IMLI\n",
    "\n",
    "import numpy as np\n",
    "\n",
    "imli = IMLI()\n",
    "\n",
    "X = np.array([\n",
    "    [1.5, 1.5, 1.5, 1],\n",
    "    [1.5, 1.5, 2, 0],\n",
    "    [2.5, 1.5, 2, 1],\n",
    "    [1.5, 1.5, 6, 1]\n",
    "])\n",
    "\n",
    "y = np.array([0, 1, 1, 0])\n",
    "\n",
    "features = imli.generate_features(X, y)\n",
    "imli.fit(X, y, features)\n",
    "imli.get_rule()"
   ]
  },
  {
   "cell_type": "code",
   "execution_count": 11,
   "metadata": {
    "ExecuteTime": {
     "end_time": "2020-10-18T10:45:51.673183Z",
     "start_time": "2020-10-18T10:45:51.575300Z"
    },
    "execution": {
     "iopub.execute_input": "2020-11-10T19:24:32.920671Z",
     "iopub.status.busy": "2020-11-10T19:24:32.920409Z",
     "iopub.status.idle": "2020-11-10T19:24:32.925209Z",
     "shell.execute_reply": "2020-11-10T19:24:32.924516Z",
     "shell.execute_reply.started": "2020-11-10T19:24:32.920644Z"
    }
   },
   "outputs": [
    {
     "name": "stdout",
     "output_type": "stream",
     "text": [
      "X3\n",
      "(NOT X3)\n",
      "X0\n",
      "X1\n",
      "X2\n",
      "X3\n"
     ]
    }
   ],
   "source": [
    "for feature in imli.new_features:\n",
    "    print(feature.name)\n",
    "    \n",
    "for feature in imli.raw_features:\n",
    "    print(feature.name)"
   ]
  }
 ],
 "metadata": {
  "kernelspec": {
   "display_name": "Python 3",
   "language": "python",
   "name": "python3"
  },
  "language_info": {
   "codemirror_mode": {
    "name": "ipython",
    "version": 3
   },
   "file_extension": ".py",
   "mimetype": "text/x-python",
   "name": "python",
   "nbconvert_exporter": "python",
   "pygments_lexer": "ipython3",
   "version": "3.6.9"
  }
 },
 "nbformat": 4,
 "nbformat_minor": 4
}
