{
 "cells": [
  {
   "cell_type": "code",
   "execution_count": 1,
   "metadata": {
    "execution": {
     "iopub.execute_input": "2021-01-23T09:47:18.024727Z",
     "iopub.status.busy": "2021-01-23T09:47:18.024479Z",
     "iopub.status.idle": "2021-01-23T09:47:18.272894Z",
     "shell.execute_reply": "2021-01-23T09:47:18.272246Z",
     "shell.execute_reply.started": "2021-01-23T09:47:18.024673Z"
    }
   },
   "outputs": [],
   "source": [
    "import pandas as pd\n",
    "import numpy as np"
   ]
  },
  {
   "cell_type": "code",
   "execution_count": 2,
   "metadata": {
    "execution": {
     "iopub.execute_input": "2021-01-23T09:47:18.274116Z",
     "iopub.status.busy": "2021-01-23T09:47:18.273924Z",
     "iopub.status.idle": "2021-01-23T09:47:18.276834Z",
     "shell.execute_reply": "2021-01-23T09:47:18.276242Z",
     "shell.execute_reply.started": "2021-01-23T09:47:18.274097Z"
    }
   },
   "outputs": [],
   "source": [
    "DATASET = 'adult'\n",
    "MODEL = 'imli'\n",
    "OLAH_DATA = '.'\n",
    "EXPERIMENT = '../experiment'"
   ]
  },
  {
   "cell_type": "code",
   "execution_count": 3,
   "metadata": {
    "execution": {
     "iopub.execute_input": "2021-01-23T09:47:18.277926Z",
     "iopub.status.busy": "2021-01-23T09:47:18.277696Z",
     "iopub.status.idle": "2021-01-23T09:47:19.364518Z",
     "shell.execute_reply": "2021-01-23T09:47:19.363767Z",
     "shell.execute_reply.started": "2021-01-23T09:47:18.277905Z"
    }
   },
   "outputs": [
    {
     "name": "stdout",
     "output_type": "stream",
     "text": [
      "ionosphere mlic MEAN 94.76814999999999\n",
      "ionosphere mlic STD 3.7968761933697257\n",
      "wdbc mlic MEAN 95.93662699999999\n",
      "wdbc mlic STD 2.2539843134377047\n",
      "transfusion mlic MEAN 76.20237199999985\n",
      "transfusion mlic STD 0.23608594226970528\n",
      "adult mlic MEAN 82.08319399999999\n",
      "adult mlic STD 0.47129453031736995\n",
      "liver mlic MEAN 71.67631500000002\n",
      "liver mlic STD 3.016771945572106\n",
      "ionosphere imli MEAN 95.05343199999999\n",
      "ionosphere imli STD 3.633388049487361\n",
      "wdbc imli MEAN 94.84802300000001\n",
      "wdbc imli STD 3.1421645597865817\n",
      "transfusion imli MEAN 76.99166199999989\n",
      "transfusion imli STD 2.7619242771449795\n",
      "adult imli MEAN 79.12630300000001\n",
      "adult imli STD 1.807223239968382\n",
      "liver imli MEAN 72.11681200000002\n",
      "liver imli STD 3.546616766175498\n"
     ]
    }
   ],
   "source": [
    "for MODEL in ['mlic', 'imli']:\n",
    "    for DATASET in ['ionosphere', 'wdbc', 'transfusion', 'adult', 'liver']:\n",
    "        df_filtered = pd.DataFrame()\n",
    "\n",
    "        for ID_HOLDOUT in range(10):\n",
    "            RESULT = 'result-{}-{}-{}.txt'.format(MODEL, DATASET, ID_HOLDOUT)\n",
    "            LOG = 'log-{}-{}.csv'.format(MODEL, ID_HOLDOUT)\n",
    "\n",
    "            chosen_params = {}\n",
    "            with open(EXPERIMENT + \"/\" + DATASET + \"/\" + MODEL + \"/\" + RESULT) as f:\n",
    "                for line in f.readlines():\n",
    "                    if line.startswith(\"t: chosen_params\"):\n",
    "                        chosen_params = eval(line[len(\"t: chosen_params: \"):])\n",
    "\n",
    "        #     print(chosen_params)\n",
    "\n",
    "            df = pd.read_csv(OLAH_DATA + \"/\" + DATASET + \"/\" + MODEL + \"/\" + LOG)\n",
    "\n",
    "            df_filtered = df_filtered.append(df[\n",
    "                (df['lamda'] == chosen_params['lamda']) \\\n",
    "                & (df[' n_clause'] == chosen_params['n_clause']) \\\n",
    "                & (df[' rule_type'] == chosen_params['rule_type']) \\\n",
    "                & (df[' n_partitions'] == chosen_params['n_partitions'])\n",
    "            ])\n",
    "\n",
    "        #     print(df[\n",
    "        #         (df['lamda'] == chosen_params['lamda']) \\\n",
    "        #         & (df[' n_clause'] == chosen_params['n_clause']) \\\n",
    "        #         & (df[' rule_type'] == chosen_params['rule_type']) \\\n",
    "        #         & (df[' n_partitions'] == chosen_params['n_partitions'])\n",
    "        #     ][' val_accuracy'].std())\n",
    "\n",
    "        # pd.set_option('display.max_rows', df.shape[0]+1)\n",
    "        # display(df_filtered)\n",
    "\n",
    "        df_filtered[' val_accuracy'] *= 100\n",
    "        print(DATASET, MODEL, 'MEAN', df_filtered[' val_accuracy'].mean())\n",
    "        print(DATASET, MODEL, 'STD', df_filtered[' val_accuracy'].std()) # ddof = 1"
   ]
  },
  {
   "cell_type": "code",
   "execution_count": 4,
   "metadata": {
    "execution": {
     "iopub.execute_input": "2021-01-23T09:47:19.365701Z",
     "iopub.status.busy": "2021-01-23T09:47:19.365413Z",
     "iopub.status.idle": "2021-01-23T09:47:20.371029Z",
     "shell.execute_reply": "2021-01-23T09:47:20.370381Z",
     "shell.execute_reply.started": "2021-01-23T09:47:19.365676Z"
    }
   },
   "outputs": [
    {
     "name": "stdout",
     "output_type": "stream",
     "text": [
      "ionosphere mlic-quantile MEAN 91.23589399999997\n",
      "ionosphere mlic-quantile STD 4.860335090202583\n",
      "wdbc mlic-quantile MEAN 94.88610799999998\n",
      "wdbc mlic-quantile STD 2.924245014077925\n",
      "transfusion mlic-quantile MEAN 79.47366400000001\n",
      "transfusion mlic-quantile STD 3.6379382986732356\n",
      "adult mlic-quantile MEAN 79.92487599999998\n",
      "adult mlic-quantile STD 0.6033767639014297\n",
      "liver mlic-quantile MEAN 71.84650900000004\n",
      "liver mlic-quantile STD 3.7569928954663783\n",
      "ionosphere imli MEAN 95.05343199999999\n",
      "ionosphere imli STD 3.633388049487361\n",
      "wdbc imli MEAN 94.84802300000001\n",
      "wdbc imli STD 3.1421645597865817\n",
      "transfusion imli MEAN 76.99166199999989\n",
      "transfusion imli STD 2.7619242771449795\n",
      "adult imli MEAN 79.12630300000001\n",
      "adult imli STD 1.807223239968382\n",
      "liver imli MEAN 72.11681200000002\n",
      "liver imli STD 3.546616766175498\n"
     ]
    }
   ],
   "source": [
    "for MODEL in ['mlic-quantile', 'imli']:\n",
    "    for DATASET in ['ionosphere', 'wdbc', 'transfusion', 'adult', 'liver']:\n",
    "        df_filtered = pd.DataFrame()\n",
    "\n",
    "        for ID_HOLDOUT in range(10):\n",
    "            RESULT = 'result-{}-{}-{}.txt'.format(MODEL, DATASET, ID_HOLDOUT)\n",
    "            LOG = 'log-{}-{}.csv'.format(MODEL, ID_HOLDOUT)\n",
    "\n",
    "            chosen_params = {}\n",
    "            with open(EXPERIMENT + \"/\" + DATASET + \"/\" + MODEL + \"/\" + RESULT) as f:\n",
    "                for line in f.readlines():\n",
    "                    if line.startswith(\"t: chosen_params\"):\n",
    "                        chosen_params = eval(line[len(\"t: chosen_params: \"):])\n",
    "\n",
    "        #     print(chosen_params)\n",
    "\n",
    "            df = pd.read_csv(OLAH_DATA + \"/\" + DATASET + \"/\" + MODEL + \"/\" + LOG)\n",
    "\n",
    "            df_filtered = df_filtered.append(df[\n",
    "                (df['lamda'] == chosen_params['lamda']) \\\n",
    "                & (df[' n_clause'] == chosen_params['n_clause']) \\\n",
    "                & (df[' rule_type'] == chosen_params['rule_type']) \\\n",
    "                & (df[' n_partitions'] == chosen_params['n_partitions'])\n",
    "            ])\n",
    "\n",
    "        #     print(df[\n",
    "        #         (df['lamda'] == chosen_params['lamda']) \\\n",
    "        #         & (df[' n_clause'] == chosen_params['n_clause']) \\\n",
    "        #         & (df[' rule_type'] == chosen_params['rule_type']) \\\n",
    "        #         & (df[' n_partitions'] == chosen_params['n_partitions'])\n",
    "        #     ][' val_accuracy'].std())\n",
    "\n",
    "        # pd.set_option('display.max_rows', df.shape[0]+1)\n",
    "        # display(df_filtered)\n",
    "\n",
    "        df_filtered[' val_accuracy'] *= 100\n",
    "        print(DATASET, MODEL, 'MEAN', df_filtered[' val_accuracy'].mean())\n",
    "        print(DATASET, MODEL, 'STD', df_filtered[' val_accuracy'].std()) # ddof = 1"
   ]
  },
  {
   "cell_type": "code",
   "execution_count": 5,
   "metadata": {
    "execution": {
     "iopub.execute_input": "2021-01-23T09:47:20.371986Z",
     "iopub.status.busy": "2021-01-23T09:47:20.371761Z",
     "iopub.status.idle": "2021-01-23T09:47:20.424007Z",
     "shell.execute_reply": "2021-01-23T09:47:20.423297Z",
     "shell.execute_reply.started": "2021-01-23T09:47:20.371959Z"
    }
   },
   "outputs": [
    {
     "name": "stdout",
     "output_type": "stream",
     "text": [
      "ionosphere mlic 93.1508 4.7119805706069915\n",
      "wdbc mlic 94.03197000000002 2.36204283103983\n",
      "transfusion mlic 76.20540000000001 0.4330212209323905\n",
      "adult mlic 82.06134 0.37496628055807146\n",
      "liver mlic 70.29644 2.3694179065753658\n",
      "ionosphere imli 94.28572 4.259187748020612\n",
      "wdbc imli 94.20113999999998 2.03170282450734\n",
      "transfusion imli 74.99999 2.5920687882890445\n",
      "adult imli 78.25309000000001 3.1442176887635087\n",
      "liver imli 72.02663999999999 3.177779051545975\n"
     ]
    }
   ],
   "source": [
    "for MODEL in ['mlic', 'imli']:\n",
    "    for DATASET in ['ionosphere', 'wdbc', 'transfusion', 'adult', 'liver']:\n",
    "        df_filtered = pd.DataFrame()\n",
    "\n",
    "        test_accs = []\n",
    "        for ID_HOLDOUT in range(10):\n",
    "            RESULT = 'result-{}-{}-{}.txt'.format(MODEL, DATASET, ID_HOLDOUT)\n",
    "            LOG = 'log-{}-{}.csv'.format(MODEL, ID_HOLDOUT)\n",
    "\n",
    "            chosen_params = {}\n",
    "            with open(EXPERIMENT + \"/\" + DATASET + \"/\" + MODEL + \"/\" + RESULT) as f:\n",
    "                for line in f.readlines():\n",
    "                    if line.startswith(\"t: test_acc_holdout: \"):\n",
    "                        test_accs.append(eval(line[len(\"t: test_acc_holdout: \"):]))\n",
    "        \n",
    "        test_accs = np.array(test_accs) * 100\n",
    "        mean_test = test_accs.mean()\n",
    "        std_test = test_accs.std(ddof=1)\n",
    "        print(DATASET, MODEL, mean_test, std_test)\n"
   ]
  },
  {
   "cell_type": "code",
   "execution_count": 6,
   "metadata": {
    "execution": {
     "iopub.execute_input": "2021-01-23T09:47:20.424892Z",
     "iopub.status.busy": "2021-01-23T09:47:20.424712Z",
     "iopub.status.idle": "2021-01-23T09:47:20.637401Z",
     "shell.execute_reply": "2021-01-23T09:47:20.636776Z",
     "shell.execute_reply.started": "2021-01-23T09:47:20.424873Z"
    }
   },
   "outputs": [
    {
     "name": "stdout",
     "output_type": "stream",
     "text": [
      "ionosphere mlic-quantile 90.30159 4.523387242972781\n",
      "wdbc mlic-quantile 93.15789999999998 4.411230541848084\n",
      "transfusion mlic-quantile 79.01802 3.4680323562504407\n",
      "adult mlic-quantile 80.19718999999999 0.3962044574599238\n",
      "liver mlic-quantile 70.45676 2.9888208857526246\n",
      "ionosphere imli-quantile 86.03173999999999 6.674223910138666\n",
      "wdbc imli-quantile 92.79448 2.917541575367864\n",
      "transfusion imli-quantile 75.68109 4.140140199840258\n",
      "adult imli-quantile 77.88458 2.1585940819585945\n",
      "liver imli-quantile 68.04597999999999 4.020252939748388\n"
     ]
    }
   ],
   "source": [
    "for MODEL in ['mlic-quantile', 'imli-quantile']:\n",
    "    for DATASET in ['ionosphere', 'wdbc', 'transfusion', 'adult', 'liver']:\n",
    "        df_filtered = pd.DataFrame()\n",
    "\n",
    "        test_accs = []\n",
    "        for ID_HOLDOUT in range(10):\n",
    "            RESULT = 'result-{}-{}-{}.txt'.format(MODEL, DATASET, ID_HOLDOUT)\n",
    "            LOG = 'log-{}-{}.csv'.format(MODEL, ID_HOLDOUT)\n",
    "\n",
    "            chosen_params = {}\n",
    "            with open(EXPERIMENT + \"/\" + DATASET + \"/\" + MODEL + \"/\" + RESULT) as f:\n",
    "                for line in f.readlines():\n",
    "                    if line.startswith(\"t: test_acc_holdout: \"):\n",
    "                        test_accs.append(eval(line[len(\"t: test_acc_holdout: \"):]))\n",
    "        \n",
    "        test_accs = np.array(test_accs) * 100\n",
    "        mean_test = test_accs.mean()\n",
    "        std_test = test_accs.std(ddof=1)\n",
    "        print(DATASET, MODEL, mean_test, std_test)\n"
   ]
  }
 ],
 "metadata": {
  "kernelspec": {
   "display_name": "Python 3",
   "language": "python",
   "name": "python3"
  },
  "language_info": {
   "codemirror_mode": {
    "name": "ipython",
    "version": 3
   },
   "file_extension": ".py",
   "mimetype": "text/x-python",
   "name": "python",
   "nbconvert_exporter": "python",
   "pygments_lexer": "ipython3",
   "version": "3.8.5"
  }
 },
 "nbformat": 4,
 "nbformat_minor": 4
}
