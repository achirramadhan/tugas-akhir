{
 "cells": [
  {
   "cell_type": "code",
   "execution_count": 1,
   "metadata": {
    "execution": {
     "iopub.execute_input": "2020-12-28T19:16:26.855752Z",
     "iopub.status.busy": "2020-12-28T19:16:26.855442Z",
     "iopub.status.idle": "2020-12-28T19:16:27.100964Z",
     "shell.execute_reply": "2020-12-28T19:16:27.100353Z",
     "shell.execute_reply.started": "2020-12-28T19:16:26.855709Z"
    }
   },
   "outputs": [],
   "source": [
    "import numpy as np\n",
    "import pandas as pd"
   ]
  },
  {
   "cell_type": "code",
   "execution_count": 2,
   "metadata": {
    "execution": {
     "iopub.execute_input": "2020-12-28T19:16:27.104113Z",
     "iopub.status.busy": "2020-12-28T19:16:27.103899Z",
     "iopub.status.idle": "2020-12-28T19:16:27.106985Z",
     "shell.execute_reply": "2020-12-28T19:16:27.106416Z",
     "shell.execute_reply.started": "2020-12-28T19:16:27.104092Z"
    }
   },
   "outputs": [],
   "source": [
    "DATASET = \"adult\"\n",
    "MODEL = \"imli\"\n",
    "ZOOM_ID = 0\n",
    "ATTRIBUTE = ' training_time' # ' training_time', ' rule_size', ' val_accuracy'"
   ]
  },
  {
   "cell_type": "code",
   "execution_count": 3,
   "metadata": {
    "execution": {
     "iopub.execute_input": "2020-12-28T19:16:27.108165Z",
     "iopub.status.busy": "2020-12-28T19:16:27.107859Z",
     "iopub.status.idle": "2020-12-28T19:16:27.438886Z",
     "shell.execute_reply": "2020-12-28T19:16:27.438151Z",
     "shell.execute_reply.started": "2020-12-28T19:16:27.108133Z"
    }
   },
   "outputs": [],
   "source": [
    "working_dir = \"./\" + DATASET + \"/{}/\".format(MODEL)\n",
    "df = pd.read_csv(working_dir + \"log-{}-0.csv\".format(MODEL))\n",
    "df['holdout_id'] = 0\n",
    "\n",
    "for i in range(1, 10):\n",
    "    tmp = pd.read_csv(working_dir + \"log-{}-%d.csv\".format(MODEL) % i)\n",
    "    tmp['holdout_id'] = i\n",
    "    df = df.append(tmp)"
   ]
  },
  {
   "cell_type": "code",
   "execution_count": 4,
   "metadata": {
    "execution": {
     "iopub.execute_input": "2020-12-28T19:16:27.440328Z",
     "iopub.status.busy": "2020-12-28T19:16:27.439985Z",
     "iopub.status.idle": "2020-12-28T19:16:27.462184Z",
     "shell.execute_reply": "2020-12-28T19:16:27.461429Z",
     "shell.execute_reply.started": "2020-12-28T19:16:27.440294Z"
    }
   },
   "outputs": [
    {
     "data": {
      "text/html": [
       "<div>\n",
       "<style scoped>\n",
       "    .dataframe tbody tr th:only-of-type {\n",
       "        vertical-align: middle;\n",
       "    }\n",
       "\n",
       "    .dataframe tbody tr th {\n",
       "        vertical-align: top;\n",
       "    }\n",
       "\n",
       "    .dataframe thead th {\n",
       "        text-align: right;\n",
       "    }\n",
       "</style>\n",
       "<table border=\"1\" class=\"dataframe\">\n",
       "  <thead>\n",
       "    <tr style=\"text-align: right;\">\n",
       "      <th></th>\n",
       "      <th>lamda</th>\n",
       "      <th>n_clause</th>\n",
       "      <th>rule_type</th>\n",
       "      <th>id_cv</th>\n",
       "      <th>train_size</th>\n",
       "      <th>val_size</th>\n",
       "      <th>n_partitions</th>\n",
       "      <th>real_partition_size</th>\n",
       "      <th>n_features</th>\n",
       "      <th>training_time</th>\n",
       "      <th>val_accuracy</th>\n",
       "      <th>rule_size</th>\n",
       "      <th>rule</th>\n",
       "      <th>classification_report_train</th>\n",
       "      <th>classification_report_val</th>\n",
       "      <th>holdout_id</th>\n",
       "    </tr>\n",
       "  </thead>\n",
       "  <tbody>\n",
       "    <tr>\n",
       "      <th>595</th>\n",
       "      <td>10</td>\n",
       "      <td>3</td>\n",
       "      <td>DNF</td>\n",
       "      <td>5</td>\n",
       "      <td>26375</td>\n",
       "      <td>2930</td>\n",
       "      <td>206</td>\n",
       "      <td>[128; 129]</td>\n",
       "      <td>296</td>\n",
       "      <td>898.322449</td>\n",
       "      <td>0.747440</td>\n",
       "      <td>88</td>\n",
       "      <td>[X3 != 1 AND X3 != 4 AND X3 != 5 AND X3 != 8 A...</td>\n",
       "      <td>{'0': {'precision': 0.8324078243033669; 'recal...</td>\n",
       "      <td>{'0': {'precision': 0.824945295404814; 'recall...</td>\n",
       "      <td>9</td>\n",
       "    </tr>\n",
       "    <tr>\n",
       "      <th>596</th>\n",
       "      <td>10</td>\n",
       "      <td>3</td>\n",
       "      <td>DNF</td>\n",
       "      <td>6</td>\n",
       "      <td>26375</td>\n",
       "      <td>2930</td>\n",
       "      <td>206</td>\n",
       "      <td>[128; 129]</td>\n",
       "      <td>296</td>\n",
       "      <td>909.945433</td>\n",
       "      <td>0.781911</td>\n",
       "      <td>90</td>\n",
       "      <td>[X0 &gt;= 43.500000 AND X1 != 2 AND X1 != 6 AND X...</td>\n",
       "      <td>{'0': {'precision': 0.8443934833500549; 'recal...</td>\n",
       "      <td>{'0': {'precision': 0.8444830582102519; 'recal...</td>\n",
       "      <td>9</td>\n",
       "    </tr>\n",
       "    <tr>\n",
       "      <th>597</th>\n",
       "      <td>10</td>\n",
       "      <td>3</td>\n",
       "      <td>DNF</td>\n",
       "      <td>7</td>\n",
       "      <td>26375</td>\n",
       "      <td>2930</td>\n",
       "      <td>206</td>\n",
       "      <td>[128; 129]</td>\n",
       "      <td>296</td>\n",
       "      <td>922.246929</td>\n",
       "      <td>0.746758</td>\n",
       "      <td>88</td>\n",
       "      <td>[X0 &gt;= 27.500000 AND X1 != 1 AND X1 != 2 AND X...</td>\n",
       "      <td>{'0': {'precision': 0.8490984028851107; 'recal...</td>\n",
       "      <td>{'0': {'precision': 0.8479587048334115; 'recal...</td>\n",
       "      <td>9</td>\n",
       "    </tr>\n",
       "    <tr>\n",
       "      <th>598</th>\n",
       "      <td>10</td>\n",
       "      <td>3</td>\n",
       "      <td>DNF</td>\n",
       "      <td>8</td>\n",
       "      <td>26375</td>\n",
       "      <td>2930</td>\n",
       "      <td>206</td>\n",
       "      <td>[128; 129]</td>\n",
       "      <td>296</td>\n",
       "      <td>901.424567</td>\n",
       "      <td>0.717747</td>\n",
       "      <td>76</td>\n",
       "      <td>[X0 &gt;= 23.500000 AND X1 != 0 AND X1 != 1 AND X...</td>\n",
       "      <td>{'0': {'precision': 0.8696882183061236; 'recal...</td>\n",
       "      <td>{'0': {'precision': 0.8745308310991957; 'recal...</td>\n",
       "      <td>9</td>\n",
       "    </tr>\n",
       "    <tr>\n",
       "      <th>599</th>\n",
       "      <td>10</td>\n",
       "      <td>3</td>\n",
       "      <td>DNF</td>\n",
       "      <td>9</td>\n",
       "      <td>26375</td>\n",
       "      <td>2930</td>\n",
       "      <td>206</td>\n",
       "      <td>[128; 129]</td>\n",
       "      <td>296</td>\n",
       "      <td>898.409508</td>\n",
       "      <td>0.747782</td>\n",
       "      <td>86</td>\n",
       "      <td>[X0 &gt;= 35.500000 AND X1 != 0 AND X1 != 2 AND X...</td>\n",
       "      <td>{'0': {'precision': 0.8421134020618557; 'recal...</td>\n",
       "      <td>{'0': {'precision': 0.8448676265675801; 'recal...</td>\n",
       "      <td>9</td>\n",
       "    </tr>\n",
       "  </tbody>\n",
       "</table>\n",
       "</div>"
      ],
      "text/plain": [
       "     lamda   n_clause  rule_type   id_cv   train_size   val_size  \\\n",
       "595     10          3        DNF       5        26375       2930   \n",
       "596     10          3        DNF       6        26375       2930   \n",
       "597     10          3        DNF       7        26375       2930   \n",
       "598     10          3        DNF       8        26375       2930   \n",
       "599     10          3        DNF       9        26375       2930   \n",
       "\n",
       "      n_partitions  real_partition_size   n_features   training_time  \\\n",
       "595            206           [128; 129]          296      898.322449   \n",
       "596            206           [128; 129]          296      909.945433   \n",
       "597            206           [128; 129]          296      922.246929   \n",
       "598            206           [128; 129]          296      901.424567   \n",
       "599            206           [128; 129]          296      898.409508   \n",
       "\n",
       "      val_accuracy   rule_size  \\\n",
       "595       0.747440          88   \n",
       "596       0.781911          90   \n",
       "597       0.746758          88   \n",
       "598       0.717747          76   \n",
       "599       0.747782          86   \n",
       "\n",
       "                                                  rule  \\\n",
       "595  [X3 != 1 AND X3 != 4 AND X3 != 5 AND X3 != 8 A...   \n",
       "596  [X0 >= 43.500000 AND X1 != 2 AND X1 != 6 AND X...   \n",
       "597  [X0 >= 27.500000 AND X1 != 1 AND X1 != 2 AND X...   \n",
       "598  [X0 >= 23.500000 AND X1 != 0 AND X1 != 1 AND X...   \n",
       "599  [X0 >= 35.500000 AND X1 != 0 AND X1 != 2 AND X...   \n",
       "\n",
       "                           classification_report_train  \\\n",
       "595  {'0': {'precision': 0.8324078243033669; 'recal...   \n",
       "596  {'0': {'precision': 0.8443934833500549; 'recal...   \n",
       "597  {'0': {'precision': 0.8490984028851107; 'recal...   \n",
       "598  {'0': {'precision': 0.8696882183061236; 'recal...   \n",
       "599  {'0': {'precision': 0.8421134020618557; 'recal...   \n",
       "\n",
       "                             classification_report_val  holdout_id  \n",
       "595  {'0': {'precision': 0.824945295404814; 'recall...           9  \n",
       "596  {'0': {'precision': 0.8444830582102519; 'recal...           9  \n",
       "597  {'0': {'precision': 0.8479587048334115; 'recal...           9  \n",
       "598  {'0': {'precision': 0.8745308310991957; 'recal...           9  \n",
       "599  {'0': {'precision': 0.8448676265675801; 'recal...           9  "
      ]
     },
     "metadata": {},
     "output_type": "display_data"
    }
   ],
   "source": [
    "display(df.tail())"
   ]
  },
  {
   "cell_type": "code",
   "execution_count": 5,
   "metadata": {
    "execution": {
     "iopub.execute_input": "2020-12-28T19:16:27.463168Z",
     "iopub.status.busy": "2020-12-28T19:16:27.462968Z",
     "iopub.status.idle": "2020-12-28T19:16:27.925035Z",
     "shell.execute_reply": "2020-12-28T19:16:27.924419Z",
     "shell.execute_reply.started": "2020-12-28T19:16:27.463147Z"
    }
   },
   "outputs": [],
   "source": [
    "def extract_accuracy(clf):\n",
    "    clf_comma = clf.replace(';', ',')\n",
    "    clf_obj = eval(clf_comma)\n",
    "    return clf_obj['accuracy']\n",
    "\n",
    "df[' train_accuracy'] = df[' classification_report_train'].apply(extract_accuracy)"
   ]
  },
  {
   "cell_type": "code",
   "execution_count": 6,
   "metadata": {
    "execution": {
     "iopub.execute_input": "2020-12-28T19:16:27.926609Z",
     "iopub.status.busy": "2020-12-28T19:16:27.926401Z",
     "iopub.status.idle": "2020-12-28T19:16:27.931827Z",
     "shell.execute_reply": "2020-12-28T19:16:27.930955Z",
     "shell.execute_reply.started": "2020-12-28T19:16:27.926590Z"
    }
   },
   "outputs": [
    {
     "data": {
      "text/plain": [
       "Index(['lamda', ' n_clause', ' rule_type', ' id_cv', ' train_size',\n",
       "       ' val_size', ' n_partitions', ' real_partition_size', ' n_features',\n",
       "       ' training_time', ' val_accuracy', ' rule_size', ' rule',\n",
       "       ' classification_report_train', ' classification_report_val',\n",
       "       'holdout_id', ' train_accuracy'],\n",
       "      dtype='object')"
      ]
     },
     "metadata": {},
     "output_type": "display_data"
    },
    {
     "data": {
      "text/plain": [
       "(6000, 17)"
      ]
     },
     "metadata": {},
     "output_type": "display_data"
    }
   ],
   "source": [
    "display(df.columns)\n",
    "display(df.shape)"
   ]
  },
  {
   "cell_type": "code",
   "execution_count": 7,
   "metadata": {
    "execution": {
     "iopub.execute_input": "2020-12-28T19:16:27.932947Z",
     "iopub.status.busy": "2020-12-28T19:16:27.932716Z",
     "iopub.status.idle": "2020-12-28T19:16:28.109945Z",
     "shell.execute_reply": "2020-12-28T19:16:28.107691Z",
     "shell.execute_reply.started": "2020-12-28T19:16:27.932927Z"
    }
   },
   "outputs": [
    {
     "data": {
      "text/plain": [
       "lamda   n_clause   rule_type   n_partitions\n",
       "5      1          CNF         206                28.932887\n",
       "                              412                40.331813\n",
       "                              824                67.737966\n",
       "                              1648               66.011448\n",
       "                              3296              143.736011\n",
       "                  DNF         206                79.105622\n",
       "                              412                49.086430\n",
       "                              824                70.034221\n",
       "                              1648              127.937528\n",
       "                              3296              139.529927\n",
       "       2          CNF         206              1007.894574\n",
       "                              412               301.717718\n",
       "                              824                82.901690\n",
       "                              1648              100.043790\n",
       "                              3296              150.581188\n",
       "                  DNF         206               943.221224\n",
       "                              412               145.614863\n",
       "                              824                64.767852\n",
       "                              1648               92.694536\n",
       "                              3296              145.588064\n",
       "       3          CNF         206              1071.718554\n",
       "                              412               375.384255\n",
       "                              824                83.413726\n",
       "                              1648              102.073577\n",
       "                              3296              161.833714\n",
       "                  DNF         206              1025.250926\n",
       "                              412               174.838705\n",
       "                              824                70.947460\n",
       "                              1648               94.360535\n",
       "                              3296              143.556894\n",
       "10     1          CNF         206                25.146555\n",
       "                              412                29.899686\n",
       "                              824                42.730123\n",
       "                              1648               67.849669\n",
       "                              3296              116.214605\n",
       "                  DNF         206                43.630344\n",
       "                              412                26.711305\n",
       "                              824                38.193747\n",
       "                              1648               62.744505\n",
       "                              3296              111.641062\n",
       "       2          CNF         206               929.783373\n",
       "                              412               141.266188\n",
       "                              824                57.055918\n",
       "                              1648               82.040305\n",
       "                              3296              132.018568\n",
       "                  DNF         206               736.447020\n",
       "                              412                63.681636\n",
       "                              824                43.623730\n",
       "                              1648               67.315853\n",
       "                              3296              117.198872\n",
       "       3          CNF         206              1035.936489\n",
       "                              412               215.236868\n",
       "                              824                69.881725\n",
       "                              1648               91.737230\n",
       "                              3296              143.116006\n",
       "                  DNF         206               925.024138\n",
       "                              412                84.406549\n",
       "                              824                50.321763\n",
       "                              1648               78.240692\n",
       "                              3296              138.114347\n",
       "Name:  training_time, dtype: float64"
      ]
     },
     "metadata": {},
     "output_type": "display_data"
    }
   ],
   "source": [
    "grouped = df.groupby(['lamda', ' n_clause', ' rule_type', ' n_partitions'])[ATTRIBUTE].mean()\n",
    "display(grouped)"
   ]
  },
  {
   "cell_type": "code",
   "execution_count": 8,
   "metadata": {
    "execution": {
     "iopub.execute_input": "2020-12-28T19:16:28.113420Z",
     "iopub.status.busy": "2020-12-28T19:16:28.113023Z",
     "iopub.status.idle": "2020-12-28T19:16:28.218891Z",
     "shell.execute_reply": "2020-12-28T19:16:28.215886Z",
     "shell.execute_reply.started": "2020-12-28T19:16:28.113382Z"
    }
   },
   "outputs": [
    {
     "data": {
      "text/plain": [
       "Int64Index([206, 412, 824, 1648, 3296], dtype='int64', name=' n_partitions')"
      ]
     },
     "metadata": {},
     "output_type": "display_data"
    }
   ],
   "source": [
    "n_partitions = grouped[5][1][\"CNF\"].keys()\n",
    "display(n_partitions)"
   ]
  },
  {
   "cell_type": "code",
   "execution_count": 9,
   "metadata": {
    "execution": {
     "iopub.execute_input": "2020-12-28T19:16:28.222977Z",
     "iopub.status.busy": "2020-12-28T19:16:28.222065Z",
     "iopub.status.idle": "2020-12-28T19:16:28.553680Z",
     "shell.execute_reply": "2020-12-28T19:16:28.553035Z",
     "shell.execute_reply.started": "2020-12-28T19:16:28.222891Z"
    }
   },
   "outputs": [],
   "source": [
    "%matplotlib inline"
   ]
  },
  {
   "cell_type": "code",
   "execution_count": 10,
   "metadata": {
    "execution": {
     "iopub.execute_input": "2020-12-28T19:16:28.554701Z",
     "iopub.status.busy": "2020-12-28T19:16:28.554448Z",
     "iopub.status.idle": "2020-12-28T19:16:28.558734Z",
     "shell.execute_reply": "2020-12-28T19:16:28.557819Z",
     "shell.execute_reply.started": "2020-12-28T19:16:28.554674Z"
    }
   },
   "outputs": [],
   "source": [
    "map_dataset = {\n",
    "    \"adult\" : \"Adult\",\n",
    "    \"ionosphere\": \"Ionosphere\",\n",
    "    \"liver\": \"Liver\",\n",
    "    \"transfusion\": \"Transfusion\",\n",
    "    \"wdbc\": \"WDBC\"\n",
    "}\n",
    "\n",
    "map_model = {\n",
    "    \"imli\": \"Entropi\",\n",
    "    \"imli-quantile\": \"Quantile\"\n",
    "}\n",
    "\n",
    "map_attr = {\n",
    "    ' training_time': \"Waktu Training (detik)\",\n",
    "    ' rule_size': \"Ukuran Rule\",\n",
    "    ' val_accuracy': \"Akurasi Validasi\"\n",
    "}"
   ]
  },
  {
   "cell_type": "code",
   "execution_count": 15,
   "metadata": {
    "execution": {
     "iopub.execute_input": "2020-12-28T19:17:51.169277Z",
     "iopub.status.busy": "2020-12-28T19:17:51.168422Z",
     "iopub.status.idle": "2020-12-28T19:17:51.572780Z",
     "shell.execute_reply": "2020-12-28T19:17:51.572122Z",
     "shell.execute_reply.started": "2020-12-28T19:17:51.169196Z"
    }
   },
   "outputs": [
    {
     "data": {
      "image/png": "[encoded data removed]",
      "text/plain": [
       "<Figure size 432x288 with 1 Axes>"
      ]
     },
     "metadata": {
      "needs_background": "light"
     },
     "output_type": "display_data"
    }
   ],
   "source": [
    "import matplotlib.pyplot as plt\n",
    "fig = plt.figure(figsize=(6, 4))\n",
    "\n",
    "plt.title(\"{} ({})\".format(map_dataset[DATASET], map_model[MODEL]))\n",
    "plt.ylabel(map_attr[ATTRIBUTE])\n",
    "plt.xticks(n_partitions)\n",
    "\n",
    "colors = [\n",
    "    \"#00ff7f\",\n",
    "    \"#2e8b57\",\n",
    "    \"#8b0000\",\n",
    "    \"#808000\",\n",
    "    \"#000080\",\n",
    "    \"#ff0000\",\n",
    "    \"#2f4f4f\",\n",
    "    \"#ba55d3\",\n",
    "    \"#1e90ff\",\n",
    "    \"#dda0dd\",\n",
    "    \"#ffa07a\",\n",
    "    \"#87cefa\"\n",
    "]\n",
    "\n",
    "id_c = 0\n",
    "for lamda in [5, 10]:\n",
    "    for rule_type in ['CNF', 'DNF']:\n",
    "        for n_clause in [1, 2, 3]:\n",
    "            d = dict(grouped[lamda][n_clause][rule_type])\n",
    "            plt.plot(\n",
    "                list(d.keys())[ZOOM_ID:],\n",
    "                list(d.values())[ZOOM_ID:] if ATTRIBUTE != ' val_accuracy' else [u * 100 for u in list(d.values())],\n",
    "                label=\"[{}]-{}-({})\".format(lamda,rule_type, n_clause),\n",
    "                color=colors[id_c]\n",
    "            )\n",
    "            id_c += 1\n",
    "plt.grid(axis='both')\n",
    "plt.legend(ncol=2, prop={'size': 8})\n",
    "plt.savefig(\"./_plot/\" + ATTRIBUTE.strip() + \"/\" + DATASET + \"-\" + map_model[MODEL].lower() + \"-mini\" + \".jpg\", bbox_inches = 'tight')\n",
    "plt.show()"
   ]
  }
 ],
 "metadata": {
  "kernelspec": {
   "display_name": "Python 3",
   "language": "python",
   "name": "python3"
  },
  "language_info": {
   "codemirror_mode": {
    "name": "ipython",
    "version": 3
   },
   "file_extension": ".py",
   "mimetype": "text/x-python",
   "name": "python",
   "nbconvert_exporter": "python",
   "pygments_lexer": "ipython3",
   "version": "3.8.5"
  }
 },
 "nbformat": 4,
 "nbformat_minor": 4
}
