{
 "cells": [
  {
   "cell_type": "code",
   "execution_count": 58,
   "metadata": {
    "execution": {
     "iopub.execute_input": "2021-01-02T08:21:11.924344Z",
     "iopub.status.busy": "2021-01-02T08:21:11.924024Z",
     "iopub.status.idle": "2021-01-02T08:21:12.010357Z",
     "shell.execute_reply": "2021-01-02T08:21:12.009728Z",
     "shell.execute_reply.started": "2021-01-02T08:21:11.924315Z"
    }
   },
   "outputs": [
    {
     "data": {
      "text/plain": [
       "(1200, 16)"
      ]
     },
     "metadata": {},
     "output_type": "display_data"
    },
    {
     "data": {
      "text/plain": [
       "9.1775"
      ]
     },
     "metadata": {},
     "output_type": "display_data"
    }
   ],
   "source": [
    "DATASET = \"wdbc\"\n",
    "MODEL = \"mlic-quantile\"\n",
    "\n",
    "import pandas as pd\n",
    "import numpy as np\n",
    "\n",
    "working_dir = \"./\" + DATASET + \"/{}/\".format(MODEL)\n",
    "df = pd.read_csv(working_dir + \"log-{}-0.csv\".format(MODEL))\n",
    "df['holdout_id'] = 0\n",
    "\n",
    "for i in range(1, 10):\n",
    "    tmp = pd.read_csv(working_dir + \"log-{}-%d.csv\".format(MODEL) % i)\n",
    "    tmp['holdout_id'] = i\n",
    "    df = df.append(tmp)\n",
    "\n",
    "display(df.shape)\n",
    "display(df[\" rule_size\"].mean())"
   ]
  }
 ],
 "metadata": {
  "kernelspec": {
   "display_name": "Python 3",
   "language": "python",
   "name": "python3"
  },
  "language_info": {
   "codemirror_mode": {
    "name": "ipython",
    "version": 3
   },
   "file_extension": ".py",
   "mimetype": "text/x-python",
   "name": "python",
   "nbconvert_exporter": "python",
   "pygments_lexer": "ipython3",
   "version": "3.8.5"
  }
 },
 "nbformat": 4,
 "nbformat_minor": 4
}
