{
 "cells": [
  {
   "cell_type": "code",
   "execution_count": 1,
   "metadata": {
    "ExecuteTime": {
     "end_time": "2020-10-18T10:45:50.404012Z",
     "start_time": "2020-10-18T10:45:49.744281Z"
    },
    "execution": {
     "iopub.execute_input": "2020-10-17T11:35:31.169833Z",
     "iopub.status.busy": "2020-10-17T11:35:31.169523Z",
     "iopub.status.idle": "2020-10-17T11:35:31.849908Z",
     "shell.execute_reply": "2020-10-17T11:35:31.849323Z",
     "shell.execute_reply.started": "2020-10-17T11:35:31.169755Z"
    }
   },
   "outputs": [],
   "source": [
    "import numpy as np\n",
    "import Orange\n",
    "import os"
   ]
  },
  {
   "cell_type": "code",
   "execution_count": 2,
   "metadata": {
    "ExecuteTime": {
     "end_time": "2020-10-18T10:45:50.425967Z",
     "start_time": "2020-10-18T10:45:50.405414Z"
    },
    "execution": {
     "iopub.execute_input": "2020-10-17T11:35:31.851190Z",
     "iopub.status.busy": "2020-10-17T11:35:31.850959Z",
     "iopub.status.idle": "2020-10-17T11:35:31.871074Z",
     "shell.execute_reply": "2020-10-17T11:35:31.870394Z",
     "shell.execute_reply.started": "2020-10-17T11:35:31.851170Z"
    }
   },
   "outputs": [
    {
     "data": {
      "text/html": [
       "<div>\n",
       "<style scoped>\n",
       "    .dataframe tbody tr th:only-of-type {\n",
       "        vertical-align: middle;\n",
       "    }\n",
       "\n",
       "    .dataframe tbody tr th {\n",
       "        vertical-align: top;\n",
       "    }\n",
       "\n",
       "    .dataframe thead th {\n",
       "        text-align: right;\n",
       "    }\n",
       "</style>\n",
       "<table border=\"1\" class=\"dataframe\">\n",
       "  <thead>\n",
       "    <tr style=\"text-align: right;\">\n",
       "      <th></th>\n",
       "      <th>x1</th>\n",
       "      <th>x2</th>\n",
       "      <th>x3</th>\n",
       "      <th>x4</th>\n",
       "      <th>y</th>\n",
       "    </tr>\n",
       "  </thead>\n",
       "  <tbody>\n",
       "    <tr>\n",
       "      <th>0</th>\n",
       "      <td>1</td>\n",
       "      <td>0</td>\n",
       "      <td>0</td>\n",
       "      <td>1</td>\n",
       "      <td>1</td>\n",
       "    </tr>\n",
       "    <tr>\n",
       "      <th>1</th>\n",
       "      <td>0</td>\n",
       "      <td>0</td>\n",
       "      <td>1</td>\n",
       "      <td>0</td>\n",
       "      <td>1</td>\n",
       "    </tr>\n",
       "    <tr>\n",
       "      <th>2</th>\n",
       "      <td>0</td>\n",
       "      <td>0</td>\n",
       "      <td>1</td>\n",
       "      <td>1</td>\n",
       "      <td>0</td>\n",
       "    </tr>\n",
       "    <tr>\n",
       "      <th>3</th>\n",
       "      <td>1</td>\n",
       "      <td>1</td>\n",
       "      <td>1</td>\n",
       "      <td>1</td>\n",
       "      <td>0</td>\n",
       "    </tr>\n",
       "  </tbody>\n",
       "</table>\n",
       "</div>"
      ],
      "text/plain": [
       "   x1  x2  x3  x4  y\n",
       "0   1   0   0   1  1\n",
       "1   0   0   1   0  1\n",
       "2   0   0   1   1  0\n",
       "3   1   1   1   1  0"
      ]
     },
     "metadata": {},
     "output_type": "display_data"
    },
    {
     "name": "stdout",
     "output_type": "stream",
     "text": [
      "<class 'numpy.ndarray'>\n"
     ]
    },
    {
     "data": {
      "text/plain": [
       "array([[1, 0, 0, 1],\n",
       "       [0, 0, 1, 0],\n",
       "       [0, 0, 1, 1],\n",
       "       [1, 1, 1, 1]])"
      ]
     },
     "metadata": {},
     "output_type": "display_data"
    },
    {
     "name": "stdout",
     "output_type": "stream",
     "text": [
      "<class 'numpy.ndarray'>\n"
     ]
    },
    {
     "data": {
      "text/plain": [
       "array([1, 1, 0, 0])"
      ]
     },
     "metadata": {},
     "output_type": "display_data"
    }
   ],
   "source": [
    "import pandas as pd\n",
    "df = pd.read_csv(\"test.csv\")\n",
    "display(df)\n",
    "\n",
    "X = df.drop('y', axis=1).values\n",
    "print(type(X))\n",
    "display(X)\n",
    "\n",
    "y = df['y'].values\n",
    "print(type(y))\n",
    "display(y)"
   ]
  },
  {
   "cell_type": "code",
   "execution_count": 3,
   "metadata": {
    "ExecuteTime": {
     "end_time": "2020-10-18T10:45:50.698711Z",
     "start_time": "2020-10-18T10:45:50.427434Z"
    },
    "execution": {
     "iopub.execute_input": "2020-10-17T11:35:31.872290Z",
     "iopub.status.busy": "2020-10-17T11:35:31.872091Z",
     "iopub.status.idle": "2020-10-17T11:35:32.137507Z",
     "shell.execute_reply": "2020-10-17T11:35:32.136935Z",
     "shell.execute_reply.started": "2020-10-17T11:35:31.872272Z"
    }
   },
   "outputs": [
    {
     "name": "stdout",
     "output_type": "stream",
     "text": [
      "ITERASI 1\n",
      "MAXSAT SOLVER PROCESSING\n",
      "MAXSAT SOLVER DONE\n",
      "[(NOT X2)]\n",
      "------------------------------\n",
      "ITERASI 2\n",
      "MAXSAT SOLVER PROCESSING\n",
      "MAXSAT SOLVER DONE\n",
      "[(NOT X2) OR (NOT X3)]\n",
      "------------------------------\n"
     ]
    }
   ],
   "source": [
    "from IMLI import IMLI\n",
    "\n",
    "imli = IMLI(n_clauses=1, lamda=1, solver=\"maxhs\", n_partitions=2)\n",
    "imli.fit(X, y)"
   ]
  },
  {
   "cell_type": "code",
   "execution_count": 4,
   "metadata": {
    "ExecuteTime": {
     "end_time": "2020-10-18T10:45:50.709955Z",
     "start_time": "2020-10-18T10:45:50.701097Z"
    },
    "execution": {
     "iopub.execute_input": "2020-10-17T11:35:32.138707Z",
     "iopub.status.busy": "2020-10-17T11:35:32.138466Z",
     "iopub.status.idle": "2020-10-17T11:35:32.148578Z",
     "shell.execute_reply": "2020-10-17T11:35:32.147740Z",
     "shell.execute_reply.started": "2020-10-17T11:35:32.138684Z"
    }
   },
   "outputs": [
    {
     "name": "stdout",
     "output_type": "stream",
     "text": [
      "[(NOT X2) OR (NOT X3)]\n",
      "              precision    recall  f1-score   support\n",
      "\n",
      "           0       1.00      1.00      1.00         2\n",
      "           1       1.00      1.00      1.00         2\n",
      "\n",
      "    accuracy                           1.00         4\n",
      "   macro avg       1.00      1.00      1.00         4\n",
      "weighted avg       1.00      1.00      1.00         4\n",
      "\n"
     ]
    }
   ],
   "source": [
    "preds = imli.predict(X)\n",
    "print(imli.get_rule())\n",
    "\n",
    "from sklearn.metrics import classification_report\n",
    "print(classification_report(preds, y))"
   ]
  },
  {
   "cell_type": "code",
   "execution_count": 5,
   "metadata": {
    "ExecuteTime": {
     "end_time": "2020-10-18T10:45:50.811048Z",
     "start_time": "2020-10-18T10:45:50.711636Z"
    },
    "execution": {
     "iopub.execute_input": "2020-10-17T11:35:32.149932Z",
     "iopub.status.busy": "2020-10-17T11:35:32.149654Z",
     "iopub.status.idle": "2020-10-17T11:35:32.230514Z",
     "shell.execute_reply": "2020-10-17T11:35:32.229569Z",
     "shell.execute_reply.started": "2020-10-17T11:35:32.149908Z"
    }
   },
   "outputs": [
    {
     "name": "stdout",
     "output_type": "stream",
     "text": [
      "ITERASI 1\n",
      "MAXSAT SOLVER PROCESSING\n",
      "MAXSAT SOLVER DONE\n",
      "[(NOT X2) OR (NOT X3)] AND [(NOT X1)]\n",
      "------------------------------\n",
      "[(NOT X2) OR (NOT X3)] AND [(NOT X1)]\n",
      "              precision    recall  f1-score   support\n",
      "\n",
      "           0       1.00      1.00      1.00         2\n",
      "           1       1.00      1.00      1.00         2\n",
      "\n",
      "    accuracy                           1.00         4\n",
      "   macro avg       1.00      1.00      1.00         4\n",
      "weighted avg       1.00      1.00      1.00         4\n",
      "\n"
     ]
    }
   ],
   "source": [
    "imli = IMLI(n_clauses = 2, lamda = 2)\n",
    "imli.fit(X, y)\n",
    "preds = imli.predict(X)\n",
    "print(imli.get_rule())\n",
    "\n",
    "from sklearn.metrics import classification_report\n",
    "print(classification_report(preds, y))\n",
    "\n",
    "# raise Exception(\"Berhenti saja hehehe\")"
   ]
  },
  {
   "cell_type": "code",
   "execution_count": 121,
   "metadata": {
    "ExecuteTime": {
     "end_time": "2020-10-18T10:49:35.191612Z",
     "start_time": "2020-10-18T10:49:34.909318Z"
    },
    "execution": {
     "iopub.execute_input": "2020-10-17T11:35:32.231838Z",
     "iopub.status.busy": "2020-10-17T11:35:32.231583Z",
     "iopub.status.idle": "2020-10-17T11:36:20.552948Z",
     "shell.execute_reply": "2020-10-17T11:36:20.552000Z",
     "shell.execute_reply.started": "2020-10-17T11:35:32.231814Z"
    }
   },
   "outputs": [
    {
     "name": "stdout",
     "output_type": "stream",
     "text": [
      "280\n",
      "280\n",
      "ITERASI 1\n",
      "MAXSAT SOLVER PROCESSING\n",
      "MAXSAT SOLVER DONE\n",
      "[(X23 >= -0.987455)] AND [(X10 < -0.040480) OR (X14 >= 0.224505) OR (X26 < -0.213955)]\n",
      "------------------------------\n",
      "ITERASI 2\n",
      "MAXSAT SOLVER PROCESSING\n",
      "MAXSAT SOLVER DONE\n",
      "Redundant 1 (155) (X26 < -0.213955) (157) (X26 < 0.999945)\n",
      "[(X4 >= 0.145975)] AND [(X6 < 0.999995) OR (X26 < 0.999945)]\n",
      "------------------------------\n",
      "ITERASI 3\n",
      "MAXSAT SOLVER PROCESSING\n",
      "MAXSAT SOLVER DONE\n",
      "[(X6 >= 0.016990) OR (X22 >= 0.186570)] AND [(X7 >= 0.000985) OR (X26 < 0.999945)]\n",
      "------------------------------\n",
      "ITERASI 4\n",
      "MAXSAT SOLVER PROCESSING\n",
      "MAXSAT SOLVER DONE\n",
      "[(X10 >= 0.312450) OR (X11 >= 0.001140) OR (X20 < -0.000015)] AND [(X20 >= 0.998880) OR (X26 < 0.999945)]\n",
      "------------------------------\n",
      "ITERASI 5\n",
      "MAXSAT SOLVER PROCESSING\n",
      "MAXSAT SOLVER DONE\n",
      "[(X7 >= -0.983575) OR (X20 < -0.000015)] AND [(X6 >= 0.016990)]\n",
      "------------------------------\n",
      "              precision    recall  f1-score   support\n",
      "\n",
      "           0       0.57      0.94      0.71        17\n",
      "           1       0.98      0.78      0.87        54\n",
      "\n",
      "    accuracy                           0.82        71\n",
      "   macro avg       0.77      0.86      0.79        71\n",
      "weighted avg       0.88      0.82      0.83        71\n",
      "\n",
      "[(X7 >= -0.983575) OR (X20 < -0.000015)] AND [(X6 >= 0.016990)]\n"
     ]
    }
   ],
   "source": [
    "import pandas as pd\n",
    "df = pd.read_csv(\"ionosphere.csv\", header=None).sample(frac=1)\n",
    "# display(df.head())\n",
    "\n",
    "import numpy as np\n",
    "import Orange\n",
    "\n",
    "df_numpy = df.values\n",
    "X = df_numpy[:, :-1]\n",
    "y = np.array([1 if u == 'g' else 0 for u in df_numpy[:, -1]])\n",
    "domain = Orange.data.Domain.from_numpy(X, y)\n",
    "ionosphere_table = Orange.data.Table.from_numpy(domain, X, y)\n",
    "\n",
    "from IMLI import IMLI\n",
    "\n",
    "imli = IMLI(n_clauses=2, lamda=20, solver=\"open-wbo\", n_partitions=5)\n",
    "proportion = 0.8\n",
    "train_size = int(X.shape[0] * proportion)\n",
    "print(train_size)\n",
    "print(train_size)\n",
    "imli.fit(X[:train_size], y[:train_size])\n",
    "\n",
    "preds = imli.predict(X[train_size:])\n",
    "from sklearn.metrics import classification_report\n",
    "print(classification_report(preds, y[train_size:]))\n",
    "\n",
    "print(imli.get_rule())"
   ]
  },
  {
   "cell_type": "code",
   "execution_count": 7,
   "metadata": {
    "ExecuteTime": {
     "end_time": "2020-10-18T10:45:51.334285Z",
     "start_time": "2020-10-18T10:45:51.327890Z"
    },
    "execution": {
     "iopub.execute_input": "2020-10-17T11:36:20.554487Z",
     "iopub.status.busy": "2020-10-17T11:36:20.554136Z",
     "iopub.status.idle": "2020-10-17T11:36:20.560062Z",
     "shell.execute_reply": "2020-10-17T11:36:20.559312Z",
     "shell.execute_reply.started": "2020-10-17T11:36:20.554459Z"
    }
   },
   "outputs": [
    {
     "name": "stdout",
     "output_type": "stream",
     "text": [
      "X0\n",
      "X1\n",
      "X2\n",
      "X3\n",
      "X4\n",
      "X5\n",
      "X6\n",
      "X7\n",
      "X8\n",
      "X9\n",
      "X10\n",
      "X11\n",
      "X12\n",
      "X13\n",
      "X14\n",
      "X15\n",
      "X16\n",
      "X17\n",
      "X18\n",
      "X19\n",
      "X20\n",
      "X21\n",
      "X22\n",
      "X23\n",
      "X24\n",
      "X25\n",
      "X26\n",
      "X27\n",
      "X28\n",
      "X29\n",
      "X30\n",
      "X31\n",
      "X32\n",
      "X33\n"
     ]
    }
   ],
   "source": [
    "for feature in imli.raw_features:\n",
    "    print(feature.name)"
   ]
  },
  {
   "cell_type": "code",
   "execution_count": 8,
   "metadata": {
    "ExecuteTime": {
     "end_time": "2020-10-18T10:45:51.472861Z",
     "start_time": "2020-10-18T10:45:51.336796Z"
    },
    "execution": {
     "iopub.execute_input": "2020-10-17T11:36:20.562101Z",
     "iopub.status.busy": "2020-10-17T11:36:20.561829Z",
     "iopub.status.idle": "2020-10-17T11:36:20.698984Z",
     "shell.execute_reply": "2020-10-17T11:36:20.698334Z",
     "shell.execute_reply.started": "2020-10-17T11:36:20.562076Z"
    }
   },
   "outputs": [
    {
     "name": "stdout",
     "output_type": "stream",
     "text": [
      "X0\n",
      "(NOT X0)\n",
      "X1\n",
      "(NOT X1)\n",
      "(X2 >= 0.190280)\n",
      "X2 >= 0.19028\n",
      "(X2 >= 0.741390)\n",
      "X2 >= 0.74139\n",
      "(X2 >= 0.998505)\n",
      "X2 >= 0.998505\n",
      "(X2 < 0.190280)\n",
      "X2 < 0.19028\n",
      "(X2 < 0.741390)\n",
      "X2 < 0.74139\n",
      "(X2 < 0.998505)\n",
      "X2 < 0.998505\n",
      "(X3 >= -0.584505)\n",
      "X3 >= -0.584505\n",
      "(X3 >= -0.000170)\n",
      "X3 >= -0.00016999999999999999\n",
      "(X3 >= 0.007075)\n",
      "X3 >= 0.007075\n",
      "(X3 >= 0.725670)\n",
      "X3 >= 0.72567\n",
      "(X3 < -0.584505)\n",
      "X3 < -0.584505\n",
      "(X3 < -0.000170)\n",
      "X3 < -0.00016999999999999999\n",
      "(X3 < 0.007075)\n",
      "X3 < 0.007075\n",
      "(X3 < 0.725670)\n",
      "X3 < 0.72567\n",
      "(X4 >= 0.041440)\n",
      "X4 >= 0.041440000000000005\n",
      "(X4 >= 0.995120)\n",
      "X4 >= 0.99512\n",
      "(X4 < 0.041440)\n",
      "X4 < 0.041440000000000005\n",
      "(X4 < 0.995120)\n",
      "X4 < 0.99512\n",
      "(X5 >= -0.795310)\n",
      "X5 >= -0.79531\n",
      "(X5 >= -0.000715)\n",
      "X5 >= -0.000715\n",
      "(X5 >= 0.001010)\n",
      "X5 >= 0.00101\n",
      "(X5 >= 0.825090)\n",
      "X5 >= 0.8250900000000001\n",
      "(X5 < -0.795310)\n",
      "X5 < -0.79531\n",
      "(X5 < -0.000715)\n",
      "X5 < -0.000715\n",
      "(X5 < 0.001010)\n",
      "X5 < 0.00101\n",
      "(X5 < 0.825090)\n",
      "X5 < 0.8250900000000001\n",
      "(X6 >= 0.029375)\n",
      "X6 >= 0.029375\n",
      "(X6 >= 0.999760)\n",
      "X6 >= 0.99976\n",
      "(X6 < 0.029375)\n",
      "X6 < 0.029375\n",
      "(X6 < 0.999760)\n",
      "X6 < 0.99976\n",
      "(X7 >= -0.983575)\n",
      "X7 >= -0.9835750000000001\n",
      "(X7 >= -0.000375)\n",
      "X7 >= -0.000375\n",
      "(X7 >= 0.000985)\n",
      "X7 >= 0.000985\n",
      "(X7 >= 0.994515)\n",
      "X7 >= 0.994515\n",
      "(X7 < -0.983575)\n",
      "X7 < -0.9835750000000001\n",
      "(X7 < -0.000375)\n",
      "X7 < -0.000375\n",
      "(X7 < 0.000985)\n",
      "X7 < 0.000985\n",
      "(X7 < 0.994515)\n",
      "X7 < 0.994515\n",
      "(X8 >= 0.363890)\n",
      "X8 >= 0.36389\n",
      "(X8 >= 0.996450)\n",
      "X8 >= 0.9964500000000001\n",
      "(X8 < 0.363890)\n",
      "X8 < 0.36389\n",
      "(X8 < 0.996450)\n",
      "X8 < 0.9964500000000001\n",
      "(X9 >= -0.572990)\n",
      "X9 >= -0.57299\n",
      "(X9 >= 0.591395)\n",
      "X9 >= 0.591395\n",
      "(X9 >= 0.989100)\n",
      "X9 >= 0.9891\n",
      "(X9 < -0.572990)\n",
      "X9 < -0.57299\n",
      "(X9 < 0.591395)\n",
      "X9 < 0.591395\n",
      "(X9 < 0.989100)\n",
      "X9 < 0.9891\n",
      "(X10 >= -0.915760)\n",
      "X10 >= -0.91576\n",
      "(X10 >= -0.064730)\n",
      "X10 >= -0.06473000000000001\n",
      "(X10 >= 0.087130)\n",
      "X10 >= 0.08713000000000001\n",
      "(X10 >= 0.999100)\n",
      "X10 >= 0.9991\n",
      "(X10 < -0.915760)\n",
      "X10 < -0.91576\n",
      "(X10 < -0.064730)\n",
      "X10 < -0.06473000000000001\n",
      "(X10 < 0.087130)\n",
      "X10 < 0.08713000000000001\n",
      "(X10 < 0.999100)\n",
      "X10 < 0.9991\n",
      "(X11 >= -0.588030)\n",
      "X11 >= -0.58803\n",
      "(X11 >= -0.000270)\n",
      "X11 >= -0.00027\n",
      "(X11 >= 0.003305)\n",
      "X11 >= 0.0033049999999999998\n",
      "(X11 >= 0.981505)\n",
      "X11 >= 0.9815050000000001\n",
      "(X11 < -0.588030)\n",
      "X11 < -0.58803\n",
      "(X11 < -0.000270)\n",
      "X11 < -0.00027\n",
      "(X11 < 0.003305)\n",
      "X11 < 0.0033049999999999998\n",
      "(X11 < 0.981505)\n",
      "X11 < 0.9815050000000001\n",
      "(X12 >= -0.965460)\n",
      "X12 >= -0.96546\n",
      "(X12 >= -0.076515)\n",
      "X12 >= -0.076515\n",
      "(X12 >= 0.352660)\n",
      "X12 >= 0.35266\n",
      "(X12 >= 0.998380)\n",
      "X12 >= 0.99838\n",
      "(X12 < -0.965460)\n",
      "X12 < -0.96546\n",
      "(X12 < -0.076515)\n",
      "X12 < -0.076515\n",
      "(X12 < 0.352660)\n",
      "X12 < 0.35266\n",
      "(X12 < 0.998380)\n",
      "X12 < 0.99838\n",
      "(X13 >= -0.549035)\n",
      "X13 >= -0.5490349999999999\n",
      "(X13 >= 0.652535)\n",
      "X13 >= 0.6525350000000001\n",
      "(X13 >= 0.969725)\n",
      "X13 >= 0.969725\n",
      "(X13 < -0.549035)\n",
      "X13 < -0.5490349999999999\n",
      "(X13 < 0.652535)\n",
      "X13 < 0.6525350000000001\n",
      "(X13 < 0.969725)\n",
      "X13 < 0.969725\n",
      "(X14 >= -0.028300)\n",
      "X14 >= -0.0283\n",
      "(X14 >= 0.377860)\n",
      "X14 >= 0.37786000000000003\n",
      "(X14 >= 0.999140)\n",
      "X14 >= 0.9991399999999999\n",
      "(X14 < -0.028300)\n",
      "X14 < -0.0283\n",
      "(X14 < 0.377860)\n",
      "X14 < 0.37786000000000003\n",
      "(X14 < 0.999140)\n",
      "X14 < 0.9991399999999999\n",
      "(X15 >= -0.905170)\n",
      "X15 >= -0.90517\n",
      "(X15 >= -0.002515)\n",
      "X15 >= -0.0025150000000000003\n",
      "(X15 >= 0.001430)\n",
      "X15 >= 0.00143\n",
      "(X15 >= 0.968410)\n",
      "X15 >= 0.96841\n",
      "(X15 < -0.905170)\n",
      "X15 < -0.90517\n",
      "(X15 < -0.002515)\n",
      "X15 < -0.0025150000000000003\n",
      "(X15 < 0.001430)\n",
      "X15 < 0.00143\n",
      "(X15 < 0.968410)\n",
      "X15 < 0.96841\n",
      "(X17 >= -0.813050)\n",
      "X17 >= -0.81305\n",
      "(X17 >= 0.993610)\n",
      "X17 >= 0.9936100000000001\n",
      "(X17 < -0.813050)\n",
      "X17 < -0.81305\n",
      "(X17 < 0.993610)\n",
      "X17 < 0.9936100000000001\n",
      "(X19 >= -0.912755)\n",
      "X19 >= -0.912755\n",
      "(X19 >= 0.975495)\n",
      "X19 >= 0.975495\n",
      "(X19 < -0.912755)\n",
      "X19 < -0.912755\n",
      "(X19 < 0.975495)\n",
      "X19 < 0.975495\n",
      "(X20 >= -0.949120)\n",
      "X20 >= -0.94912\n",
      "(X20 >= -0.000015)\n",
      "X20 >= -1.4999999999999999e-05\n",
      "(X20 >= 0.082050)\n",
      "X20 >= 0.08205\n",
      "(X20 >= 0.983495)\n",
      "X20 >= 0.983495\n",
      "(X20 < -0.949120)\n",
      "X20 < -0.94912\n",
      "(X20 < -0.000015)\n",
      "X20 < -1.4999999999999999e-05\n",
      "(X20 < 0.082050)\n",
      "X20 < 0.08205\n",
      "(X20 < 0.983495)\n",
      "X20 < 0.983495\n",
      "(X21 >= -0.967980)\n",
      "X21 >= -0.9679800000000001\n",
      "(X21 >= -0.001400)\n",
      "X21 >= -0.0014\n",
      "(X21 >= 0.002975)\n",
      "X21 >= 0.002975\n",
      "(X21 >= 0.960005)\n",
      "X21 >= 0.960005\n",
      "(X21 < -0.967980)\n",
      "X21 < -0.9679800000000001\n",
      "(X21 < -0.001400)\n",
      "X21 < -0.0014\n",
      "(X21 < 0.002975)\n",
      "X21 < 0.002975\n",
      "(X21 < 0.960005)\n",
      "X21 < 0.960005\n",
      "(X22 >= -0.942500)\n",
      "X22 >= -0.9425\n",
      "(X22 >= -0.009200)\n",
      "X22 >= -0.0092\n",
      "(X22 >= 0.199055)\n",
      "X22 >= 0.199055\n",
      "(X22 >= 0.983390)\n",
      "X22 >= 0.98339\n",
      "(X22 < -0.942500)\n",
      "X22 < -0.9425\n",
      "(X22 < -0.009200)\n",
      "X22 < -0.0092\n",
      "(X22 < 0.199055)\n",
      "X22 < 0.199055\n",
      "(X22 < 0.983390)\n",
      "X22 < 0.98339\n",
      "(X23 >= -0.970860)\n",
      "X23 >= -0.9708600000000001\n",
      "(X23 >= 0.804020)\n",
      "X23 >= 0.80402\n",
      "(X23 < -0.970860)\n",
      "X23 < -0.9708600000000001\n",
      "(X23 < 0.804020)\n",
      "X23 < 0.80402\n",
      "(X24 >= -0.994940)\n",
      "X24 >= -0.9949399999999999\n",
      "(X24 >= -0.000170)\n",
      "X24 >= -0.00017\n",
      "(X24 >= 0.087220)\n",
      "X24 >= 0.08722\n",
      "(X24 >= 0.999495)\n",
      "X24 >= 0.999495\n",
      "(X24 < -0.994940)\n",
      "X24 < -0.9949399999999999\n",
      "(X24 < -0.000170)\n",
      "X24 < -0.00017\n",
      "(X24 < 0.087220)\n",
      "X24 < 0.08722\n",
      "(X24 < 0.999495)\n",
      "X24 < 0.999495\n",
      "(X25 >= -0.981480)\n",
      "X25 >= -0.98148\n",
      "(X25 >= -0.015995)\n",
      "X25 >= -0.015995000000000002\n",
      "(X25 < -0.981480)\n",
      "X25 < -0.98148\n",
      "(X25 < -0.015995)\n",
      "X25 < -0.015995000000000002\n",
      "(X26 >= 0.528190)\n",
      "X26 >= 0.5281899999999999\n",
      "(X26 >= 0.999210)\n",
      "X26 >= 0.99921\n",
      "(X26 < 0.528190)\n",
      "X26 < 0.5281899999999999\n",
      "(X26 < 0.999210)\n",
      "X26 < 0.99921\n",
      "(X27 >= -0.925800)\n",
      "X27 >= -0.9258\n",
      "(X27 >= 0.918980)\n",
      "X27 >= 0.91898\n",
      "(X27 < -0.925800)\n",
      "X27 < -0.9258\n",
      "(X27 < 0.918980)\n",
      "X27 < 0.91898\n",
      "(X28 >= -0.911830)\n",
      "X28 >= -0.91183\n",
      "(X28 >= -0.486570)\n",
      "X28 >= -0.48656999999999995\n",
      "(X28 >= -0.000090)\n",
      "X28 >= -9e-05\n",
      "(X28 >= 0.038395)\n",
      "X28 >= 0.038395\n",
      "(X28 >= 0.997000)\n",
      "X28 >= 0.997\n",
      "(X28 < -0.911830)\n",
      "X28 < -0.91183\n",
      "(X28 < -0.486570)\n",
      "X28 < -0.48656999999999995\n",
      "(X28 < -0.000090)\n",
      "X28 < -9e-05\n",
      "(X28 < 0.038395)\n",
      "X28 < 0.038395\n",
      "(X28 < 0.997000)\n",
      "X28 < 0.997\n",
      "(X29 >= -0.914280)\n",
      "X29 >= -0.91428\n",
      "(X29 >= 0.930305)\n",
      "X29 >= 0.9303049999999999\n",
      "(X29 < -0.914280)\n",
      "X29 < -0.91428\n",
      "(X29 < 0.930305)\n",
      "X29 < 0.9303049999999999\n",
      "(X30 >= 0.132415)\n",
      "X30 >= 0.132415\n",
      "(X30 >= 0.995560)\n",
      "X30 >= 0.99556\n",
      "(X30 < 0.132415)\n",
      "X30 < 0.132415\n",
      "(X30 < 0.995560)\n",
      "X30 < 0.99556\n",
      "(X31 >= -0.960640)\n",
      "X31 >= -0.9606399999999999\n",
      "(X31 >= 0.870760)\n",
      "X31 >= 0.87076\n",
      "(X31 < -0.960640)\n",
      "X31 < -0.9606399999999999\n",
      "(X31 < 0.870760)\n",
      "X31 < 0.87076\n",
      "(X32 >= -0.959515)\n",
      "X32 >= -0.9595149999999999\n",
      "(X32 >= -0.000040)\n",
      "X32 >= -4e-05\n",
      "(X32 >= 0.000200)\n",
      "X32 >= 0.00019999999999999998\n",
      "(X32 >= 0.994855)\n",
      "X32 >= 0.994855\n",
      "(X32 < -0.959515)\n",
      "X32 < -0.9595149999999999\n",
      "(X32 < -0.000040)\n",
      "X32 < -4e-05\n",
      "(X32 < 0.000200)\n",
      "X32 < 0.00019999999999999998\n",
      "(X32 < 0.994855)\n",
      "X32 < 0.994855\n",
      "(X33 >= -0.916855)\n",
      "X33 >= -0.916855\n",
      "(X33 >= -0.000030)\n",
      "X33 >= -2.9999999999999997e-05\n",
      "(X33 >= 0.005400)\n",
      "X33 >= 0.0054\n",
      "(X33 >= 0.950980)\n",
      "X33 >= 0.9509799999999999\n",
      "(X33 < -0.916855)\n",
      "X33 < -0.916855\n",
      "(X33 < -0.000030)\n",
      "X33 < -2.9999999999999997e-05\n",
      "(X33 < 0.005400)\n",
      "X33 < 0.0054\n",
      "(X33 < 0.950980)\n",
      "X33 < 0.9509799999999999\n"
     ]
    }
   ],
   "source": [
    "from IMLI import DiscretizedFeature\n",
    "\n",
    "for i, feature in enumerate(imli.new_features):\n",
    "    print(feature.name)\n",
    "    if isinstance(feature, DiscretizedFeature):\n",
    "        print(feature.source_feature.name + \" \" + feature.op + \" \" + str(feature.tval))"
   ]
  },
  {
   "cell_type": "code",
   "execution_count": 9,
   "metadata": {
    "ExecuteTime": {
     "end_time": "2020-10-18T10:45:51.529424Z",
     "start_time": "2020-10-18T10:45:51.474220Z"
    },
    "execution": {
     "iopub.execute_input": "2020-10-17T11:36:20.700453Z",
     "iopub.status.busy": "2020-10-17T11:36:20.700119Z",
     "iopub.status.idle": "2020-10-17T11:36:20.788121Z",
     "shell.execute_reply": "2020-10-17T11:36:20.787099Z",
     "shell.execute_reply.started": "2020-10-17T11:36:20.700419Z"
    }
   },
   "outputs": [
    {
     "name": "stdout",
     "output_type": "stream",
     "text": [
      "[1 1 1 0 1 1 0 1 0 0 1 1 1 1 1 1 1 1 1 0 1 1 1 1 1 1 0 1 1 1 0 1 1 0 0 1 0\n",
      " 0 1 1 1 1 1 1 1 0 1 1 1 1 1 0 1 1 0 1 1 1 1 1 1 1 1 1 1 1 0 1 1 1 1 1 1 0\n",
      " 1 1 1 1 1 1 1 1 1 0 1 1 1 0 1 0 1 1 0 1 0 1 1 1 0 0 0 0 1 1 1 0 1 1 1 1 1\n",
      " 0 1 0 1 1 1 1 1 1 0 1 0 1 0 1 0 1 0 0 1 1 0 1 1 1 0 1 1 1 1 0 0 0 1 1 1 1\n",
      " 1 0 1 0 1 0 1 1 1 1 1 1 1 0 1 1 0 0 1 1 0 1 1 1 1 0 1 1 1 1 1 0 1 0 1 1 0\n",
      " 0 0 0 1 0 0 0 0 1 0 1 0 1 1 1 0 1 1 0 1 1 1 1 1 0 1 1 0 1 1 1 1 1 1 1 1 1\n",
      " 1 0 1 0 0 1 1 1 1 1 1 1 1 1 1 0 1 0 1 0 1 1 0 0 1 1 1 0 0 1 1 1 1 1 1 1 1\n",
      " 0 0 1 1 1 1 1 1 1 1 1 0 0 1 1 1 0 0 1 1 0 0 1 1 1 1 1 1 1 0 1 1 1 0 1 1 0\n",
      " 1 1 0 1 1 1 1 1 1 1 1 1 1 1 1 0 1 1 1 1 1 1 0 1 0 1 1 1 1 1 1 1 1 1 1 1 1\n",
      " 1 1 1 1 1 1 1 1 1 1 0 0 1 0 0 0 1 1]\n",
      "[(X20 < 0.983495) OR (X33 < -0.000030)] AND [(X15 >= 0.001430) OR (X20 >= 0.082050)]\n"
     ]
    }
   ],
   "source": [
    "print(imli.predict(X))\n",
    "print(imli.get_rule())"
   ]
  },
  {
   "cell_type": "code",
   "execution_count": 10,
   "metadata": {
    "ExecuteTime": {
     "end_time": "2020-10-18T10:45:51.573301Z",
     "start_time": "2020-10-18T10:45:51.530900Z"
    },
    "execution": {
     "iopub.execute_input": "2020-10-17T11:36:20.789695Z",
     "iopub.status.busy": "2020-10-17T11:36:20.789404Z",
     "iopub.status.idle": "2020-10-17T11:36:20.832872Z",
     "shell.execute_reply": "2020-10-17T11:36:20.831892Z",
     "shell.execute_reply.started": "2020-10-17T11:36:20.789669Z"
    }
   },
   "outputs": [
    {
     "name": "stdout",
     "output_type": "stream",
     "text": [
      "ITERASI 1\n",
      "MAXSAT SOLVER PROCESSING\n",
      "MAXSAT SOLVER DONE\n",
      "[(NOT X3)] AND [(NOT X3)] AND [(NOT X3)]\n",
      "------------------------------\n"
     ]
    },
    {
     "data": {
      "text/plain": [
       "'[(NOT X3)] AND [(NOT X3)] AND [(NOT X3)]'"
      ]
     },
     "execution_count": 10,
     "metadata": {},
     "output_type": "execute_result"
    }
   ],
   "source": [
    "from IMLI import IMLI\n",
    "\n",
    "import numpy as np\n",
    "\n",
    "imli = IMLI()\n",
    "\n",
    "X = np.array([\n",
    "    [1.5, 1.5, 1.5, 1],\n",
    "    [1.5, 1.5, 2, 0],\n",
    "    [2.5, 1.5, 2, 1],\n",
    "    [1.5, 1.5, 6, 1]\n",
    "])\n",
    "\n",
    "y = np.array([0, 1, 1, 0])\n",
    "\n",
    "imli.fit(X, y)\n",
    "imli.get_rule()"
   ]
  },
  {
   "cell_type": "code",
   "execution_count": 11,
   "metadata": {
    "ExecuteTime": {
     "end_time": "2020-10-18T10:45:51.673183Z",
     "start_time": "2020-10-18T10:45:51.575300Z"
    },
    "execution": {
     "iopub.execute_input": "2020-10-17T11:36:20.834004Z",
     "iopub.status.busy": "2020-10-17T11:36:20.833748Z",
     "iopub.status.idle": "2020-10-17T11:36:20.955261Z",
     "shell.execute_reply": "2020-10-17T11:36:20.953112Z",
     "shell.execute_reply.started": "2020-10-17T11:36:20.833978Z"
    }
   },
   "outputs": [
    {
     "name": "stdout",
     "output_type": "stream",
     "text": [
      "X3\n",
      "(NOT X3)\n",
      "X0\n",
      "X1\n",
      "X2\n",
      "X3\n"
     ]
    }
   ],
   "source": [
    "for feature in imli.new_features:\n",
    "    print(feature.name)\n",
    "    \n",
    "for feature in imli.raw_features:\n",
    "    print(feature.name)"
   ]
  }
 ],
 "metadata": {
  "kernelspec": {
   "display_name": "imli-env",
   "language": "python",
   "name": "imli-env"
  },
  "language_info": {
   "codemirror_mode": {
    "name": "ipython",
    "version": 3
   },
   "file_extension": ".py",
   "mimetype": "text/x-python",
   "name": "python",
   "nbconvert_exporter": "python",
   "pygments_lexer": "ipython3",
   "version": "3.8.5"
  }
 },
 "nbformat": 4,
 "nbformat_minor": 4
}
