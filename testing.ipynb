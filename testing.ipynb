{
 "cells": [
  {
   "cell_type": "code",
   "execution_count": 1,
   "metadata": {
    "execution": {
     "iopub.execute_input": "2020-11-10T19:23:03.052071Z",
     "iopub.status.busy": "2020-11-10T19:23:03.051709Z",
     "iopub.status.idle": "2020-11-10T19:23:04.065414Z",
     "shell.execute_reply": "2020-11-10T19:23:04.064645Z",
     "shell.execute_reply.started": "2020-11-10T19:23:03.052039Z"
    }
   },
   "outputs": [],
   "source": [
    "import numpy as np\n",
    "import Orange\n",
    "import os"
   ]
  },
  {
   "cell_type": "code",
   "execution_count": 2,
   "metadata": {
    "execution": {
     "iopub.execute_input": "2020-11-10T19:23:04.066937Z",
     "iopub.status.busy": "2020-11-10T19:23:04.066643Z",
     "iopub.status.idle": "2020-11-10T19:23:04.070418Z",
     "shell.execute_reply": "2020-11-10T19:23:04.069623Z",
     "shell.execute_reply.started": "2020-11-10T19:23:04.066903Z"
    }
   },
   "outputs": [],
   "source": [
    "a = np.array([2, 3, 5, 5, 5])"
   ]
  },
  {
   "cell_type": "code",
   "execution_count": 3,
   "metadata": {
    "execution": {
     "iopub.execute_input": "2020-11-10T19:23:04.071945Z",
     "iopub.status.busy": "2020-11-10T19:23:04.071697Z",
     "iopub.status.idle": "2020-11-10T19:23:04.081708Z",
     "shell.execute_reply": "2020-11-10T19:23:04.081056Z",
     "shell.execute_reply.started": "2020-11-10T19:23:04.071921Z"
    }
   },
   "outputs": [
    {
     "data": {
      "text/plain": [
       "array([2, 3, 5])"
      ]
     },
     "execution_count": 3,
     "metadata": {},
     "output_type": "execute_result"
    }
   ],
   "source": [
    "np.unique(a)"
   ]
  },
  {
   "cell_type": "code",
   "execution_count": 4,
   "metadata": {
    "execution": {
     "iopub.execute_input": "2020-11-10T19:23:04.083050Z",
     "iopub.status.busy": "2020-11-10T19:23:04.082786Z",
     "iopub.status.idle": "2020-11-10T19:23:04.107158Z",
     "shell.execute_reply": "2020-11-10T19:23:04.106391Z",
     "shell.execute_reply.started": "2020-11-10T19:23:04.083024Z"
    }
   },
   "outputs": [
    {
     "data": {
      "text/html": [
       "<div>\n",
       "<style scoped>\n",
       "    .dataframe tbody tr th:only-of-type {\n",
       "        vertical-align: middle;\n",
       "    }\n",
       "\n",
       "    .dataframe tbody tr th {\n",
       "        vertical-align: top;\n",
       "    }\n",
       "\n",
       "    .dataframe thead th {\n",
       "        text-align: right;\n",
       "    }\n",
       "</style>\n",
       "<table border=\"1\" class=\"dataframe\">\n",
       "  <thead>\n",
       "    <tr style=\"text-align: right;\">\n",
       "      <th></th>\n",
       "      <th>x1</th>\n",
       "      <th>x2</th>\n",
       "      <th>x3</th>\n",
       "      <th>x4</th>\n",
       "      <th>y</th>\n",
       "    </tr>\n",
       "  </thead>\n",
       "  <tbody>\n",
       "    <tr>\n",
       "      <th>0</th>\n",
       "      <td>1.5</td>\n",
       "      <td>0</td>\n",
       "      <td>5</td>\n",
       "      <td>1</td>\n",
       "      <td>1</td>\n",
       "    </tr>\n",
       "    <tr>\n",
       "      <th>1</th>\n",
       "      <td>1.0</td>\n",
       "      <td>0</td>\n",
       "      <td>6</td>\n",
       "      <td>0</td>\n",
       "      <td>1</td>\n",
       "    </tr>\n",
       "    <tr>\n",
       "      <th>2</th>\n",
       "      <td>0.0</td>\n",
       "      <td>0</td>\n",
       "      <td>7</td>\n",
       "      <td>1</td>\n",
       "      <td>0</td>\n",
       "    </tr>\n",
       "    <tr>\n",
       "      <th>3</th>\n",
       "      <td>0.0</td>\n",
       "      <td>1</td>\n",
       "      <td>7</td>\n",
       "      <td>1</td>\n",
       "      <td>0</td>\n",
       "    </tr>\n",
       "  </tbody>\n",
       "</table>\n",
       "</div>"
      ],
      "text/plain": [
       "    x1  x2  x3  x4  y\n",
       "0  1.5   0   5   1  1\n",
       "1  1.0   0   6   0  1\n",
       "2  0.0   0   7   1  0\n",
       "3  0.0   1   7   1  0"
      ]
     },
     "metadata": {},
     "output_type": "display_data"
    },
    {
     "name": "stdout",
     "output_type": "stream",
     "text": [
      "<class 'numpy.ndarray'>\n"
     ]
    },
    {
     "data": {
      "text/plain": [
       "array([[1.5, 0. , 5. , 1. ],\n",
       "       [1. , 0. , 6. , 0. ],\n",
       "       [0. , 0. , 7. , 1. ],\n",
       "       [0. , 1. , 7. , 1. ]])"
      ]
     },
     "metadata": {},
     "output_type": "display_data"
    },
    {
     "name": "stdout",
     "output_type": "stream",
     "text": [
      "<class 'numpy.ndarray'>\n"
     ]
    },
    {
     "data": {
      "text/plain": [
       "array([1, 1, 0, 0])"
      ]
     },
     "metadata": {},
     "output_type": "display_data"
    }
   ],
   "source": [
    "import pandas as pd\n",
    "df = pd.read_csv(\"test-multiple-features.csv\")\n",
    "display(df)\n",
    "\n",
    "X = df.drop('y', axis=1).values\n",
    "print(type(X))\n",
    "display(X)\n",
    "\n",
    "y = df['y'].values\n",
    "print(type(y))\n",
    "display(y)"
   ]
  },
  {
   "cell_type": "code",
   "execution_count": 5,
   "metadata": {
    "execution": {
     "iopub.execute_input": "2020-11-10T19:23:04.108553Z",
     "iopub.status.busy": "2020-11-10T19:23:04.108251Z",
     "iopub.status.idle": "2020-11-10T19:23:04.197107Z",
     "shell.execute_reply": "2020-11-10T19:23:04.196270Z",
     "shell.execute_reply.started": "2020-11-10T19:23:04.108528Z"
    }
   },
   "outputs": [],
   "source": [
    "from IMLI import IMLI\n",
    "\n",
    "imli = IMLI(n_clauses=2, lamda=1, solver=\"open-wbo\", n_partitions=1, rule_type=\"DNF\")\n",
    "features = imli.generate_features(X, y, categorical_features_id=[3], discretizer=\"entropy\")"
   ]
  },
  {
   "cell_type": "code",
   "execution_count": 6,
   "metadata": {
    "execution": {
     "iopub.execute_input": "2020-11-10T19:23:04.198563Z",
     "iopub.status.busy": "2020-11-10T19:23:04.198247Z",
     "iopub.status.idle": "2020-11-10T19:23:04.202704Z",
     "shell.execute_reply": "2020-11-10T19:23:04.201967Z",
     "shell.execute_reply.started": "2020-11-10T19:23:04.198535Z"
    }
   },
   "outputs": [
    {
     "name": "stdout",
     "output_type": "stream",
     "text": [
      "raw_continuous\n",
      "raw_binary\n",
      "raw_continuous\n",
      "raw_categorical\n"
     ]
    }
   ],
   "source": [
    "for feature in features:\n",
    "    print(feature.feature_type)"
   ]
  },
  {
   "cell_type": "code",
   "execution_count": 7,
   "metadata": {
    "execution": {
     "iopub.execute_input": "2020-11-10T19:23:04.204086Z",
     "iopub.status.busy": "2020-11-10T19:23:04.203796Z",
     "iopub.status.idle": "2020-11-10T19:23:04.232945Z",
     "shell.execute_reply": "2020-11-10T19:23:04.231821Z",
     "shell.execute_reply.started": "2020-11-10T19:23:04.204049Z"
    }
   },
   "outputs": [],
   "source": [
    "imli.fit(X, y, features)"
   ]
  },
  {
   "cell_type": "code",
   "execution_count": 8,
   "metadata": {
    "execution": {
     "iopub.execute_input": "2020-11-10T19:23:04.234620Z",
     "iopub.status.busy": "2020-11-10T19:23:04.234327Z",
     "iopub.status.idle": "2020-11-10T19:23:04.241509Z",
     "shell.execute_reply": "2020-11-10T19:23:04.240742Z",
     "shell.execute_reply.started": "2020-11-10T19:23:04.234575Z"
    }
   },
   "outputs": [
    {
     "data": {
      "text/plain": [
       "(array([[1., 0., 0., 1., 0., 1., 0., 1., 1., 0.],\n",
       "        [1., 0., 0., 1., 0., 1., 1., 0., 0., 1.],\n",
       "        [0., 1., 0., 1., 1., 0., 0., 1., 1., 0.],\n",
       "        [0., 1., 1., 0., 1., 0., 0., 1., 1., 0.]]),\n",
       " [<IMLI.DiscretizedFeature at 0x7f5850bb5748>,\n",
       "  <IMLI.DiscretizedFeature at 0x7f5850bb5898>,\n",
       "  <IMLI.BinaryFeature at 0x7f5850bb56a0>,\n",
       "  <IMLI.BinaryFeature at 0x7f5850bb57b8>,\n",
       "  <IMLI.DiscretizedFeature at 0x7f5850bb59e8>,\n",
       "  <IMLI.DiscretizedFeature at 0x7f5850bb5a90>,\n",
       "  <IMLI.CategoricalFeature at 0x7f5853feca20>,\n",
       "  <IMLI.CategoricalFeature at 0x7f5850bb5978>,\n",
       "  <IMLI.CategoricalFeature at 0x7f5850bb5ac8>,\n",
       "  <IMLI.CategoricalFeature at 0x7f5850bb5b00>])"
      ]
     },
     "execution_count": 8,
     "metadata": {},
     "output_type": "execute_result"
    }
   ],
   "source": [
    "imli._preprocess(X)"
   ]
  },
  {
   "cell_type": "code",
   "execution_count": 9,
   "metadata": {
    "execution": {
     "iopub.execute_input": "2020-11-10T19:23:04.243439Z",
     "iopub.status.busy": "2020-11-10T19:23:04.243150Z",
     "iopub.status.idle": "2020-11-10T19:23:04.248783Z",
     "shell.execute_reply": "2020-11-10T19:23:04.248016Z",
     "shell.execute_reply.started": "2020-11-10T19:23:04.243416Z"
    }
   },
   "outputs": [
    {
     "name": "stdout",
     "output_type": "stream",
     "text": [
      "X0 >= 0.500000 X0 < 0.500000\n",
      "X0 < 0.500000 X0 >= 0.500000\n",
      "X1 (NOT X1)\n",
      "(NOT X1) X1\n",
      "X2 >= 6.500000 X2 < 6.500000\n",
      "X2 < 6.500000 X2 >= 6.500000\n",
      "X3 == 0.000000 X3 != 0.000000\n",
      "X3 == 1.000000 X3 != 1.000000\n",
      "X3 != 0.000000 X3 == 0.000000\n",
      "X3 != 1.000000 X3 == 1.000000\n"
     ]
    }
   ],
   "source": [
    "for feature in imli.new_features:\n",
    "    print(feature, feature.negation())"
   ]
  },
  {
   "cell_type": "code",
   "execution_count": 10,
   "metadata": {
    "execution": {
     "iopub.execute_input": "2020-11-10T19:23:04.249939Z",
     "iopub.status.busy": "2020-11-10T19:23:04.249720Z",
     "iopub.status.idle": "2020-11-10T19:23:04.254065Z",
     "shell.execute_reply": "2020-11-10T19:23:04.253353Z",
     "shell.execute_reply.started": "2020-11-10T19:23:04.249917Z"
    }
   },
   "outputs": [
    {
     "data": {
      "text/plain": [
       "'[X0 >= 0.500000] OR [X0 >= 0.500000]'"
      ]
     },
     "execution_count": 10,
     "metadata": {},
     "output_type": "execute_result"
    }
   ],
   "source": [
    "imli.get_rule()"
   ]
  },
  {
   "cell_type": "code",
   "execution_count": 11,
   "metadata": {
    "execution": {
     "iopub.execute_input": "2020-11-10T19:23:04.255217Z",
     "iopub.status.busy": "2020-11-10T19:23:04.254975Z",
     "iopub.status.idle": "2020-11-10T19:23:04.260094Z",
     "shell.execute_reply": "2020-11-10T19:23:04.259407Z",
     "shell.execute_reply.started": "2020-11-10T19:23:04.255193Z"
    }
   },
   "outputs": [
    {
     "data": {
      "text/plain": [
       "array([1, 1, 0, 0])"
      ]
     },
     "execution_count": 11,
     "metadata": {},
     "output_type": "execute_result"
    }
   ],
   "source": [
    "imli.predict(X)"
   ]
  }
 ],
 "metadata": {
  "kernelspec": {
   "display_name": "Python 3",
   "language": "python",
   "name": "python3"
  },
  "language_info": {
   "codemirror_mode": {
    "name": "ipython",
    "version": 3
   },
   "file_extension": ".py",
   "mimetype": "text/x-python",
   "name": "python",
   "nbconvert_exporter": "python",
   "pygments_lexer": "ipython3",
   "version": "3.6.9"
  }
 },
 "nbformat": 4,
 "nbformat_minor": 4
}
