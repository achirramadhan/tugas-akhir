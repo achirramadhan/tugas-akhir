{
 "cells": [
  {
   "cell_type": "code",
   "execution_count": 1,
   "metadata": {
    "execution": {
     "iopub.execute_input": "2020-11-06T02:18:08.867328Z",
     "iopub.status.busy": "2020-11-06T02:18:08.866963Z",
     "iopub.status.idle": "2020-11-06T02:18:08.871905Z",
     "shell.execute_reply": "2020-11-06T02:18:08.870977Z",
     "shell.execute_reply.started": "2020-11-06T02:18:08.867302Z"
    }
   },
   "outputs": [],
   "source": [
    "commands = [\"\"\"#!/bin/bash\n",
    "HOME=\"/root\"\n",
    "DIR=\"$HOME/skripsi/experiment/imli/testing-dir/ionosphere/imli/methodology-paper\"\n",
    "PATH=\"$HOME/skripsi/open-wbo:$PATH\"\n",
    "PATH=\"$HOME/skripsi/MaxHS/build/release/bin:$PATH\"\n",
    "echo $PATH\n",
    "\n",
    "python $DIR/imli_runner_methodology_paper.py ionosphere %d >$DIR/result-imli-ionosphere-%d.txt 2>&1\n",
    "\"\"\" % (i, i) for i in range(10)]"
   ]
  },
  {
   "cell_type": "code",
   "execution_count": 2,
   "metadata": {
    "execution": {
     "iopub.execute_input": "2020-11-06T02:18:08.877730Z",
     "iopub.status.busy": "2020-11-06T02:18:08.877485Z",
     "iopub.status.idle": "2020-11-06T02:18:08.883225Z",
     "shell.execute_reply": "2020-11-06T02:18:08.882311Z",
     "shell.execute_reply.started": "2020-11-06T02:18:08.877707Z"
    }
   },
   "outputs": [],
   "source": [
    "for i in range(10):\n",
    "    with open(\"start-%d.sh\" % i, 'w') as f:\n",
    "        f.write(commands[i])"
   ]
  }
 ],
 "metadata": {
  "kernelspec": {
   "display_name": "Python 3",
   "language": "python",
   "name": "python3"
  },
  "language_info": {
   "codemirror_mode": {
    "name": "ipython",
    "version": 3
   },
   "file_extension": ".py",
   "mimetype": "text/x-python",
   "name": "python",
   "nbconvert_exporter": "python",
   "pygments_lexer": "ipython3",
   "version": "3.6.9"
  }
 },
 "nbformat": 4,
 "nbformat_minor": 4
}
